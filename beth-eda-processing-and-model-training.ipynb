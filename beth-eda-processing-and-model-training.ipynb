{
 "cells": [
  {
   "attachments": {},
   "cell_type": "markdown",
   "id": "d93597b4",
   "metadata": {
    "papermill": {
     "duration": 0.066271,
     "end_time": "2021-10-24T12:52:54.652098",
     "exception": false,
     "start_time": "2021-10-24T12:52:54.585827",
     "status": "completed"
    },
    "tags": []
   },
   "source": [
    "# BETH Dataset EDA, Preperation and Model Training\n",
    "\n",
    ">The BETH dataset currently represents 8,004,918 events collected over 23 honeypots, running for about five noncontiguous hours on a major cloud provider. For benchmarking and discussion, we selected the initial subset of the process logs. This subset was further divided into training, validation, and testing sets with a rough 60/20/20 split based on host, quantity of logs generated, and the activity logged—only the test set includes an attack\n",
    ">\n",
    ">The dataset is composed of two sensor logs: kernel-level process calls and network traffic. The initial benchmark subset only includes process logs. Each process call consists of 14 raw features and 2 hand-crafted labels.\n",
    "\n",
    "This notebook is focused solely on the the process call data."
   ]
  },
  {
   "cell_type": "code",
   "execution_count": 1,
   "id": "bf1da271",
   "metadata": {
    "execution": {
     "iopub.execute_input": "2021-10-24T12:52:54.790236Z",
     "iopub.status.busy": "2021-10-24T12:52:54.788765Z",
     "iopub.status.idle": "2021-10-24T12:53:07.787560Z",
     "shell.execute_reply": "2021-10-24T12:53:07.786934Z"
    },
    "papermill": {
     "duration": 13.069615,
     "end_time": "2021-10-24T12:53:07.787728",
     "exception": false,
     "start_time": "2021-10-24T12:52:54.718113",
     "status": "completed"
    },
    "tags": []
   },
   "outputs": [
    {
     "name": "stdout",
     "output_type": "stream",
     "text": [
      "Note: you may need to restart the kernel to use updated packages.\n"
     ]
    },
    {
     "name": "stderr",
     "output_type": "stream",
     "text": [
      "'c:\\Users\\Fabio' is not recognized as an internal or external command,\n",
      "operable program or batch file.\n"
     ]
    }
   ],
   "source": [
    "pip install --upgrade scikit-learn==1.0 --quiet"
   ]
  },
  {
   "cell_type": "code",
   "execution_count": 2,
   "id": "72045576",
   "metadata": {
    "_cell_guid": "b1076dfc-b9ad-4769-8c92-a6c4dae69d19",
    "_uuid": "8f2839f25d086af736a60e9eeb907d3b93b6e0e5",
    "execution": {
     "iopub.execute_input": "2021-10-24T12:53:07.926593Z",
     "iopub.status.busy": "2021-10-24T12:53:07.925793Z",
     "iopub.status.idle": "2021-10-24T12:53:10.098146Z",
     "shell.execute_reply": "2021-10-24T12:53:10.097616Z"
    },
    "papermill": {
     "duration": 2.244195,
     "end_time": "2021-10-24T12:53:10.098284",
     "exception": false,
     "start_time": "2021-10-24T12:53:07.854089",
     "status": "completed"
    },
    "tags": []
   },
   "outputs": [
    {
     "name": "stderr",
     "output_type": "stream",
     "text": [
      "c:\\Users\\Fabio e Ricardo\\AppData\\Local\\Programs\\Python\\Python37\\lib\\site-packages\\tqdm\\auto.py:22: TqdmWarning: IProgress not found. Please update jupyter and ipywidgets. See https://ipywidgets.readthedocs.io/en/stable/user_install.html\n",
      "  from .autonotebook import tqdm as notebook_tqdm\n"
     ]
    }
   ],
   "source": [
    "# This Python 3 environment comes with many helpful analytics libraries installed\n",
    "# It is defined by the kaggle/python Docker image: https://github.com/kaggle/docker-python\n",
    "# For example, here's several helpful packages to load\n",
    "\n",
    "import numpy as np # linear algebra\n",
    "import pandas as pd # data processing, CSV file I/O (e.g. pd.read_csv)\n",
    "import seaborn as sns # viz\n",
    "import matplotlib.pyplot as plt # viz\n",
    "from scipy import stats\n",
    "import json\n",
    "from typing import List, Tuple\n",
    "\n",
    "from sklearn.ensemble import IsolationForest\n",
    "from sklearn.metrics import f1_score, balanced_accuracy_score, roc_auc_score, precision_recall_fscore_support\n",
    "from sklearn import metrics, linear_model\n",
    "\n",
    "import torch\n",
    "import torch.nn as nn\n",
    "import torch.nn.functional as F\n",
    "from torch.utils.data import TensorDataset, DataLoader\n",
    "\n",
    "import warnings\n",
    "warnings.filterwarnings('ignore')"
   ]
  },
  {
   "attachments": {},
   "cell_type": "markdown",
   "id": "b8e047a2",
   "metadata": {
    "papermill": {
     "duration": 0.065069,
     "end_time": "2021-10-24T12:53:10.231393",
     "exception": false,
     "start_time": "2021-10-24T12:53:10.166324",
     "status": "completed"
    },
    "tags": []
   },
   "source": [
    "# Initial Explore\n",
    "## Load Data"
   ]
  },
  {
   "cell_type": "code",
   "execution_count": 5,
   "id": "db469b7f",
   "metadata": {
    "execution": {
     "iopub.execute_input": "2021-10-24T12:53:10.367340Z",
     "iopub.status.busy": "2021-10-24T12:53:10.366805Z",
     "iopub.status.idle": "2021-10-24T12:53:16.176638Z",
     "shell.execute_reply": "2021-10-24T12:53:16.175705Z"
    },
    "papermill": {
     "duration": 5.879465,
     "end_time": "2021-10-24T12:53:16.176814",
     "exception": false,
     "start_time": "2021-10-24T12:53:10.297349",
     "status": "completed"
    },
    "tags": []
   },
   "outputs": [],
   "source": [
    "train_df = pd.read_csv('labelled_training_data.csv')\n",
    "test_df = pd.read_csv('labelled_testing_data.csv')\n",
    "validation_df = pd.read_csv('labelled_validation_data.csv')"
   ]
  },
  {
   "attachments": {},
   "cell_type": "markdown",
   "id": "f6730f31",
   "metadata": {
    "papermill": {
     "duration": 0.06588,
     "end_time": "2021-10-24T12:53:16.309378",
     "exception": false,
     "start_time": "2021-10-24T12:53:16.243498",
     "status": "completed"
    },
    "tags": []
   },
   "source": [
    "## Check all of the columns are the same across all three dataframes"
   ]
  },
  {
   "cell_type": "code",
   "execution_count": 6,
   "id": "4ffcb66a",
   "metadata": {
    "execution": {
     "iopub.execute_input": "2021-10-24T12:53:16.446203Z",
     "iopub.status.busy": "2021-10-24T12:53:16.445333Z",
     "iopub.status.idle": "2021-10-24T12:53:16.448207Z",
     "shell.execute_reply": "2021-10-24T12:53:16.447786Z"
    },
    "papermill": {
     "duration": 0.072734,
     "end_time": "2021-10-24T12:53:16.448321",
     "exception": false,
     "start_time": "2021-10-24T12:53:16.375587",
     "status": "completed"
    },
    "tags": []
   },
   "outputs": [],
   "source": [
    "assert train_df.columns.all() == test_df.columns.all() == validation_df.columns.all()"
   ]
  },
  {
   "cell_type": "code",
   "execution_count": 7,
   "id": "6c1bfc7d",
   "metadata": {
    "execution": {
     "iopub.execute_input": "2021-10-24T12:53:16.595564Z",
     "iopub.status.busy": "2021-10-24T12:53:16.594822Z",
     "iopub.status.idle": "2021-10-24T12:53:16.598065Z",
     "shell.execute_reply": "2021-10-24T12:53:16.598488Z"
    },
    "papermill": {
     "duration": 0.084939,
     "end_time": "2021-10-24T12:53:16.598636",
     "exception": false,
     "start_time": "2021-10-24T12:53:16.513697",
     "status": "completed"
    },
    "tags": []
   },
   "outputs": [
    {
     "data": {
      "text/plain": [
       "timestamp          float64\n",
       "processId            int64\n",
       "threadId             int64\n",
       "parentProcessId      int64\n",
       "userId               int64\n",
       "mountNamespace       int64\n",
       "processName         object\n",
       "hostName            object\n",
       "eventId              int64\n",
       "eventName           object\n",
       "stackAddresses      object\n",
       "argsNum              int64\n",
       "returnValue          int64\n",
       "args                object\n",
       "sus                  int64\n",
       "evil                 int64\n",
       "dtype: object"
      ]
     },
     "execution_count": 7,
     "metadata": {},
     "output_type": "execute_result"
    }
   ],
   "source": [
    "train_df.dtypes"
   ]
  },
  {
   "attachments": {},
   "cell_type": "markdown",
   "id": "9279ab42",
   "metadata": {
    "papermill": {
     "duration": 0.066452,
     "end_time": "2021-10-24T12:53:16.731576",
     "exception": false,
     "start_time": "2021-10-24T12:53:16.665124",
     "status": "completed"
    },
    "tags": []
   },
   "source": [
    "## Visual Inspection / Summary"
   ]
  },
  {
   "cell_type": "code",
   "execution_count": 8,
   "id": "80f2d681",
   "metadata": {
    "execution": {
     "iopub.execute_input": "2021-10-24T12:53:16.873436Z",
     "iopub.status.busy": "2021-10-24T12:53:16.872400Z",
     "iopub.status.idle": "2021-10-24T12:53:16.892425Z",
     "shell.execute_reply": "2021-10-24T12:53:16.891944Z"
    },
    "papermill": {
     "duration": 0.093573,
     "end_time": "2021-10-24T12:53:16.892544",
     "exception": false,
     "start_time": "2021-10-24T12:53:16.798971",
     "status": "completed"
    },
    "tags": []
   },
   "outputs": [
    {
     "data": {
      "text/html": [
       "<div>\n",
       "<style scoped>\n",
       "    .dataframe tbody tr th:only-of-type {\n",
       "        vertical-align: middle;\n",
       "    }\n",
       "\n",
       "    .dataframe tbody tr th {\n",
       "        vertical-align: top;\n",
       "    }\n",
       "\n",
       "    .dataframe thead th {\n",
       "        text-align: right;\n",
       "    }\n",
       "</style>\n",
       "<table border=\"1\" class=\"dataframe\">\n",
       "  <thead>\n",
       "    <tr style=\"text-align: right;\">\n",
       "      <th></th>\n",
       "      <th>timestamp</th>\n",
       "      <th>processId</th>\n",
       "      <th>threadId</th>\n",
       "      <th>parentProcessId</th>\n",
       "      <th>userId</th>\n",
       "      <th>mountNamespace</th>\n",
       "      <th>processName</th>\n",
       "      <th>hostName</th>\n",
       "      <th>eventId</th>\n",
       "      <th>eventName</th>\n",
       "      <th>stackAddresses</th>\n",
       "      <th>argsNum</th>\n",
       "      <th>returnValue</th>\n",
       "      <th>args</th>\n",
       "      <th>sus</th>\n",
       "      <th>evil</th>\n",
       "    </tr>\n",
       "  </thead>\n",
       "  <tbody>\n",
       "    <tr>\n",
       "      <th>0</th>\n",
       "      <td>1809.495787</td>\n",
       "      <td>381</td>\n",
       "      <td>7337</td>\n",
       "      <td>1</td>\n",
       "      <td>100</td>\n",
       "      <td>4026532231</td>\n",
       "      <td>close</td>\n",
       "      <td>ip-10-100-1-120</td>\n",
       "      <td>157</td>\n",
       "      <td>prctl</td>\n",
       "      <td>[140662171848350, 11649800180280676]</td>\n",
       "      <td>5</td>\n",
       "      <td>0</td>\n",
       "      <td>[{'name': 'option', 'type': 'int', 'value': 'P...</td>\n",
       "      <td>1</td>\n",
       "      <td>0</td>\n",
       "    </tr>\n",
       "    <tr>\n",
       "      <th>1</th>\n",
       "      <td>1809.495832</td>\n",
       "      <td>381</td>\n",
       "      <td>7337</td>\n",
       "      <td>1</td>\n",
       "      <td>100</td>\n",
       "      <td>4026532231</td>\n",
       "      <td>close</td>\n",
       "      <td>ip-10-100-1-120</td>\n",
       "      <td>3</td>\n",
       "      <td>close</td>\n",
       "      <td>[140662171777451]</td>\n",
       "      <td>1</td>\n",
       "      <td>0</td>\n",
       "      <td>[{'name': 'fd', 'type': 'int', 'value': 19}]</td>\n",
       "      <td>1</td>\n",
       "      <td>0</td>\n",
       "    </tr>\n",
       "    <tr>\n",
       "      <th>2</th>\n",
       "      <td>1809.495921</td>\n",
       "      <td>381</td>\n",
       "      <td>7337</td>\n",
       "      <td>1</td>\n",
       "      <td>100</td>\n",
       "      <td>4026532231</td>\n",
       "      <td>close</td>\n",
       "      <td>ip-10-100-1-120</td>\n",
       "      <td>1010</td>\n",
       "      <td>sched_process_exit</td>\n",
       "      <td>[]</td>\n",
       "      <td>0</td>\n",
       "      <td>0</td>\n",
       "      <td>[]</td>\n",
       "      <td>1</td>\n",
       "      <td>0</td>\n",
       "    </tr>\n",
       "    <tr>\n",
       "      <th>3</th>\n",
       "      <td>1894.139651</td>\n",
       "      <td>7347</td>\n",
       "      <td>7347</td>\n",
       "      <td>7341</td>\n",
       "      <td>0</td>\n",
       "      <td>4026531840</td>\n",
       "      <td>sh</td>\n",
       "      <td>ip-10-100-1-120</td>\n",
       "      <td>21</td>\n",
       "      <td>access</td>\n",
       "      <td>[]</td>\n",
       "      <td>2</td>\n",
       "      <td>-2</td>\n",
       "      <td>[{'name': 'pathname', 'type': 'const char*', '...</td>\n",
       "      <td>1</td>\n",
       "      <td>0</td>\n",
       "    </tr>\n",
       "    <tr>\n",
       "      <th>4</th>\n",
       "      <td>1894.142127</td>\n",
       "      <td>7347</td>\n",
       "      <td>7347</td>\n",
       "      <td>7341</td>\n",
       "      <td>0</td>\n",
       "      <td>4026531840</td>\n",
       "      <td>sh</td>\n",
       "      <td>ip-10-100-1-120</td>\n",
       "      <td>1005</td>\n",
       "      <td>security_file_open</td>\n",
       "      <td>[139778263990104, 139778263906698]</td>\n",
       "      <td>4</td>\n",
       "      <td>0</td>\n",
       "      <td>[{'name': 'pathname', 'type': 'const char*', '...</td>\n",
       "      <td>1</td>\n",
       "      <td>0</td>\n",
       "    </tr>\n",
       "  </tbody>\n",
       "</table>\n",
       "</div>"
      ],
      "text/plain": [
       "     timestamp  processId  threadId  parentProcessId  userId  mountNamespace  \\\n",
       "0  1809.495787        381      7337                1     100      4026532231   \n",
       "1  1809.495832        381      7337                1     100      4026532231   \n",
       "2  1809.495921        381      7337                1     100      4026532231   \n",
       "3  1894.139651       7347      7347             7341       0      4026531840   \n",
       "4  1894.142127       7347      7347             7341       0      4026531840   \n",
       "\n",
       "  processName         hostName  eventId           eventName  \\\n",
       "0       close  ip-10-100-1-120      157               prctl   \n",
       "1       close  ip-10-100-1-120        3               close   \n",
       "2       close  ip-10-100-1-120     1010  sched_process_exit   \n",
       "3          sh  ip-10-100-1-120       21              access   \n",
       "4          sh  ip-10-100-1-120     1005  security_file_open   \n",
       "\n",
       "                         stackAddresses  argsNum  returnValue  \\\n",
       "0  [140662171848350, 11649800180280676]        5            0   \n",
       "1                     [140662171777451]        1            0   \n",
       "2                                    []        0            0   \n",
       "3                                    []        2           -2   \n",
       "4    [139778263990104, 139778263906698]        4            0   \n",
       "\n",
       "                                                args  sus  evil  \n",
       "0  [{'name': 'option', 'type': 'int', 'value': 'P...    1     0  \n",
       "1       [{'name': 'fd', 'type': 'int', 'value': 19}]    1     0  \n",
       "2                                                 []    1     0  \n",
       "3  [{'name': 'pathname', 'type': 'const char*', '...    1     0  \n",
       "4  [{'name': 'pathname', 'type': 'const char*', '...    1     0  "
      ]
     },
     "execution_count": 8,
     "metadata": {},
     "output_type": "execute_result"
    }
   ],
   "source": [
    "train_df.head()"
   ]
  },
  {
   "cell_type": "code",
   "execution_count": 7,
   "id": "a733c046",
   "metadata": {
    "execution": {
     "iopub.execute_input": "2021-10-24T12:53:17.080357Z",
     "iopub.status.busy": "2021-10-24T12:53:17.062161Z",
     "iopub.status.idle": "2021-10-24T12:53:18.742101Z",
     "shell.execute_reply": "2021-10-24T12:53:18.742560Z"
    },
    "papermill": {
     "duration": 1.777116,
     "end_time": "2021-10-24T12:53:18.742726",
     "exception": false,
     "start_time": "2021-10-24T12:53:16.965610",
     "status": "completed"
    },
    "tags": []
   },
   "outputs": [
    {
     "data": {
      "text/html": [
       "<div>\n",
       "<style scoped>\n",
       "    .dataframe tbody tr th:only-of-type {\n",
       "        vertical-align: middle;\n",
       "    }\n",
       "\n",
       "    .dataframe tbody tr th {\n",
       "        vertical-align: top;\n",
       "    }\n",
       "\n",
       "    .dataframe thead th {\n",
       "        text-align: right;\n",
       "    }\n",
       "</style>\n",
       "<table border=\"1\" class=\"dataframe\">\n",
       "  <thead>\n",
       "    <tr style=\"text-align: right;\">\n",
       "      <th></th>\n",
       "      <th>timestamp</th>\n",
       "      <th>processId</th>\n",
       "      <th>threadId</th>\n",
       "      <th>parentProcessId</th>\n",
       "      <th>userId</th>\n",
       "      <th>mountNamespace</th>\n",
       "      <th>processName</th>\n",
       "      <th>hostName</th>\n",
       "      <th>eventId</th>\n",
       "      <th>eventName</th>\n",
       "      <th>stackAddresses</th>\n",
       "      <th>argsNum</th>\n",
       "      <th>returnValue</th>\n",
       "      <th>args</th>\n",
       "      <th>sus</th>\n",
       "      <th>evil</th>\n",
       "    </tr>\n",
       "  </thead>\n",
       "  <tbody>\n",
       "    <tr>\n",
       "      <th>count</th>\n",
       "      <td>763144.000000</td>\n",
       "      <td>763144.000000</td>\n",
       "      <td>763144.000000</td>\n",
       "      <td>763144.000000</td>\n",
       "      <td>763144.000000</td>\n",
       "      <td>7.631440e+05</td>\n",
       "      <td>763144</td>\n",
       "      <td>763144</td>\n",
       "      <td>763144.000000</td>\n",
       "      <td>763144</td>\n",
       "      <td>763144</td>\n",
       "      <td>763144.000000</td>\n",
       "      <td>763144.000000</td>\n",
       "      <td>763144</td>\n",
       "      <td>763144.000000</td>\n",
       "      <td>763144.0</td>\n",
       "    </tr>\n",
       "    <tr>\n",
       "      <th>unique</th>\n",
       "      <td>NaN</td>\n",
       "      <td>NaN</td>\n",
       "      <td>NaN</td>\n",
       "      <td>NaN</td>\n",
       "      <td>NaN</td>\n",
       "      <td>NaN</td>\n",
       "      <td>36</td>\n",
       "      <td>8</td>\n",
       "      <td>NaN</td>\n",
       "      <td>32</td>\n",
       "      <td>97050</td>\n",
       "      <td>NaN</td>\n",
       "      <td>NaN</td>\n",
       "      <td>214720</td>\n",
       "      <td>NaN</td>\n",
       "      <td>NaN</td>\n",
       "    </tr>\n",
       "    <tr>\n",
       "      <th>top</th>\n",
       "      <td>NaN</td>\n",
       "      <td>NaN</td>\n",
       "      <td>NaN</td>\n",
       "      <td>NaN</td>\n",
       "      <td>NaN</td>\n",
       "      <td>NaN</td>\n",
       "      <td>ps</td>\n",
       "      <td>ubuntu</td>\n",
       "      <td>NaN</td>\n",
       "      <td>close</td>\n",
       "      <td>[]</td>\n",
       "      <td>NaN</td>\n",
       "      <td>NaN</td>\n",
       "      <td>[{'name': 'fd', 'type': 'int', 'value': 9}]</td>\n",
       "      <td>NaN</td>\n",
       "      <td>NaN</td>\n",
       "    </tr>\n",
       "    <tr>\n",
       "      <th>freq</th>\n",
       "      <td>NaN</td>\n",
       "      <td>NaN</td>\n",
       "      <td>NaN</td>\n",
       "      <td>NaN</td>\n",
       "      <td>NaN</td>\n",
       "      <td>NaN</td>\n",
       "      <td>406313</td>\n",
       "      <td>190500</td>\n",
       "      <td>NaN</td>\n",
       "      <td>218080</td>\n",
       "      <td>521115</td>\n",
       "      <td>NaN</td>\n",
       "      <td>NaN</td>\n",
       "      <td>107321</td>\n",
       "      <td>NaN</td>\n",
       "      <td>NaN</td>\n",
       "    </tr>\n",
       "    <tr>\n",
       "      <th>mean</th>\n",
       "      <td>1844.582673</td>\n",
       "      <td>6814.763308</td>\n",
       "      <td>6820.265241</td>\n",
       "      <td>1882.216609</td>\n",
       "      <td>2.279034</td>\n",
       "      <td>4.026532e+09</td>\n",
       "      <td>NaN</td>\n",
       "      <td>NaN</td>\n",
       "      <td>288.158953</td>\n",
       "      <td>NaN</td>\n",
       "      <td>NaN</td>\n",
       "      <td>2.672082</td>\n",
       "      <td>17.520924</td>\n",
       "      <td>NaN</td>\n",
       "      <td>0.001663</td>\n",
       "      <td>0.0</td>\n",
       "    </tr>\n",
       "    <tr>\n",
       "      <th>std</th>\n",
       "      <td>1136.638249</td>\n",
       "      <td>1948.871187</td>\n",
       "      <td>1937.068333</td>\n",
       "      <td>2215.563094</td>\n",
       "      <td>37.416576</td>\n",
       "      <td>1.649030e+02</td>\n",
       "      <td>NaN</td>\n",
       "      <td>NaN</td>\n",
       "      <td>385.117778</td>\n",
       "      <td>NaN</td>\n",
       "      <td>NaN</td>\n",
       "      <td>1.340906</td>\n",
       "      <td>318.596662</td>\n",
       "      <td>NaN</td>\n",
       "      <td>0.040744</td>\n",
       "      <td>0.0</td>\n",
       "    </tr>\n",
       "    <tr>\n",
       "      <th>min</th>\n",
       "      <td>132.560721</td>\n",
       "      <td>1.000000</td>\n",
       "      <td>1.000000</td>\n",
       "      <td>0.000000</td>\n",
       "      <td>0.000000</td>\n",
       "      <td>4.026532e+09</td>\n",
       "      <td>NaN</td>\n",
       "      <td>NaN</td>\n",
       "      <td>3.000000</td>\n",
       "      <td>NaN</td>\n",
       "      <td>NaN</td>\n",
       "      <td>0.000000</td>\n",
       "      <td>-115.000000</td>\n",
       "      <td>NaN</td>\n",
       "      <td>0.000000</td>\n",
       "      <td>0.0</td>\n",
       "    </tr>\n",
       "    <tr>\n",
       "      <th>25%</th>\n",
       "      <td>903.250802</td>\n",
       "      <td>7313.000000</td>\n",
       "      <td>7313.000000</td>\n",
       "      <td>187.000000</td>\n",
       "      <td>0.000000</td>\n",
       "      <td>4.026532e+09</td>\n",
       "      <td>NaN</td>\n",
       "      <td>NaN</td>\n",
       "      <td>3.000000</td>\n",
       "      <td>NaN</td>\n",
       "      <td>NaN</td>\n",
       "      <td>1.000000</td>\n",
       "      <td>0.000000</td>\n",
       "      <td>NaN</td>\n",
       "      <td>0.000000</td>\n",
       "      <td>0.0</td>\n",
       "    </tr>\n",
       "    <tr>\n",
       "      <th>50%</th>\n",
       "      <td>1829.203642</td>\n",
       "      <td>7365.000000</td>\n",
       "      <td>7365.000000</td>\n",
       "      <td>1385.000000</td>\n",
       "      <td>0.000000</td>\n",
       "      <td>4.026532e+09</td>\n",
       "      <td>NaN</td>\n",
       "      <td>NaN</td>\n",
       "      <td>62.000000</td>\n",
       "      <td>NaN</td>\n",
       "      <td>NaN</td>\n",
       "      <td>3.000000</td>\n",
       "      <td>0.000000</td>\n",
       "      <td>NaN</td>\n",
       "      <td>0.000000</td>\n",
       "      <td>0.0</td>\n",
       "    </tr>\n",
       "    <tr>\n",
       "      <th>75%</th>\n",
       "      <td>2761.380825</td>\n",
       "      <td>7415.000000</td>\n",
       "      <td>7415.000000</td>\n",
       "      <td>1648.000000</td>\n",
       "      <td>0.000000</td>\n",
       "      <td>4.026532e+09</td>\n",
       "      <td>NaN</td>\n",
       "      <td>NaN</td>\n",
       "      <td>257.000000</td>\n",
       "      <td>NaN</td>\n",
       "      <td>NaN</td>\n",
       "      <td>4.000000</td>\n",
       "      <td>4.000000</td>\n",
       "      <td>NaN</td>\n",
       "      <td>0.000000</td>\n",
       "      <td>0.0</td>\n",
       "    </tr>\n",
       "    <tr>\n",
       "      <th>max</th>\n",
       "      <td>3954.587643</td>\n",
       "      <td>8619.000000</td>\n",
       "      <td>8619.000000</td>\n",
       "      <td>7672.000000</td>\n",
       "      <td>1000.000000</td>\n",
       "      <td>4.026532e+09</td>\n",
       "      <td>NaN</td>\n",
       "      <td>NaN</td>\n",
       "      <td>1010.000000</td>\n",
       "      <td>NaN</td>\n",
       "      <td>NaN</td>\n",
       "      <td>5.000000</td>\n",
       "      <td>8289.000000</td>\n",
       "      <td>NaN</td>\n",
       "      <td>1.000000</td>\n",
       "      <td>0.0</td>\n",
       "    </tr>\n",
       "  </tbody>\n",
       "</table>\n",
       "</div>"
      ],
      "text/plain": [
       "            timestamp      processId       threadId  parentProcessId  \\\n",
       "count   763144.000000  763144.000000  763144.000000    763144.000000   \n",
       "unique            NaN            NaN            NaN              NaN   \n",
       "top               NaN            NaN            NaN              NaN   \n",
       "freq              NaN            NaN            NaN              NaN   \n",
       "mean      1844.582673    6814.763308    6820.265241      1882.216609   \n",
       "std       1136.638249    1948.871187    1937.068333      2215.563094   \n",
       "min        132.560721       1.000000       1.000000         0.000000   \n",
       "25%        903.250802    7313.000000    7313.000000       187.000000   \n",
       "50%       1829.203642    7365.000000    7365.000000      1385.000000   \n",
       "75%       2761.380825    7415.000000    7415.000000      1648.000000   \n",
       "max       3954.587643    8619.000000    8619.000000      7672.000000   \n",
       "\n",
       "               userId  mountNamespace processName hostName        eventId  \\\n",
       "count   763144.000000    7.631440e+05      763144   763144  763144.000000   \n",
       "unique            NaN             NaN          36        8            NaN   \n",
       "top               NaN             NaN          ps   ubuntu            NaN   \n",
       "freq              NaN             NaN      406313   190500            NaN   \n",
       "mean         2.279034    4.026532e+09         NaN      NaN     288.158953   \n",
       "std         37.416576    1.649030e+02         NaN      NaN     385.117778   \n",
       "min          0.000000    4.026532e+09         NaN      NaN       3.000000   \n",
       "25%          0.000000    4.026532e+09         NaN      NaN       3.000000   \n",
       "50%          0.000000    4.026532e+09         NaN      NaN      62.000000   \n",
       "75%          0.000000    4.026532e+09         NaN      NaN     257.000000   \n",
       "max       1000.000000    4.026532e+09         NaN      NaN    1010.000000   \n",
       "\n",
       "       eventName stackAddresses        argsNum    returnValue  \\\n",
       "count     763144         763144  763144.000000  763144.000000   \n",
       "unique        32          97050            NaN            NaN   \n",
       "top        close             []            NaN            NaN   \n",
       "freq      218080         521115            NaN            NaN   \n",
       "mean         NaN            NaN       2.672082      17.520924   \n",
       "std          NaN            NaN       1.340906     318.596662   \n",
       "min          NaN            NaN       0.000000    -115.000000   \n",
       "25%          NaN            NaN       1.000000       0.000000   \n",
       "50%          NaN            NaN       3.000000       0.000000   \n",
       "75%          NaN            NaN       4.000000       4.000000   \n",
       "max          NaN            NaN       5.000000    8289.000000   \n",
       "\n",
       "                                               args            sus      evil  \n",
       "count                                        763144  763144.000000  763144.0  \n",
       "unique                                       214720            NaN       NaN  \n",
       "top     [{'name': 'fd', 'type': 'int', 'value': 9}]            NaN       NaN  \n",
       "freq                                         107321            NaN       NaN  \n",
       "mean                                            NaN       0.001663       0.0  \n",
       "std                                             NaN       0.040744       0.0  \n",
       "min                                             NaN       0.000000       0.0  \n",
       "25%                                             NaN       0.000000       0.0  \n",
       "50%                                             NaN       0.000000       0.0  \n",
       "75%                                             NaN       0.000000       0.0  \n",
       "max                                             NaN       1.000000       0.0  "
      ]
     },
     "execution_count": 7,
     "metadata": {},
     "output_type": "execute_result"
    }
   ],
   "source": [
    "train_df.describe(include=['object', 'float', 'int'])"
   ]
  },
  {
   "attachments": {},
   "cell_type": "markdown",
   "id": "c94d01d8",
   "metadata": {
    "papermill": {
     "duration": 0.070836,
     "end_time": "2021-10-24T12:53:18.894143",
     "exception": false,
     "start_time": "2021-10-24T12:53:18.823307",
     "status": "completed"
    },
    "tags": []
   },
   "source": [
    "From visual inspection of the output of `.head()` and `.describe()`, there are several interesting things can be spotted.\n",
    "\n",
    "* The `timestamp` field is a bit funky and does not conform to the typical unix or ISO formats. From reading the paper, this is actually the time since last reboot. This fact makes the values for`std`, `min`, `25%`, `50%`, `75%` and `max` make much more sense.\n",
    "* The `mountNamepsace` field looks like the vast majority of the values are the same and could warrant further investigation to see if it could be removed.\n",
    "* The `processName` field has 36 unique values but the vast majority of them (approximately 60%) are related to the `ps` process.\n",
    "* The `hostName` field has 8 unique values with a smaller, but still significant amount of them being`ubuntu`. This probably warrants a bit of a deeper look to see what this means for the other `hostname` values and if the `ps` process events are linked to this in anyway.\n",
    "* The `eventName` field has 32 unique values with again a significant amount of them being `close`. This too probably warrants a bit more investigation to see what the distrubiton is across different values.\n",
    "* The `stackAddresses` field is typically blank. The value of these values is not initial clear but could be used to determine stack size maybe.\n",
    "* The `argsNum` and `args` fields seem coupled but it's currently unclear what these actually mean. The `args` field in particular seems to typically contain a `list` of values which could be extracted.\n",
    "* The `sus` and `evil` fields are essentially the labels.\n",
    "    >Logs marked suspicious indicate\n",
    "unusual activity or outliers in the data distribution, such as\n",
    "an external userId with a systemd process3\n",
    ", infrequent\n",
    "daemon process calls (e.g., “acpid” or “accounts-daemon”),\n",
    "or calls to close processes that we did not observe as being\n",
    "started. Evil\n",
    "indicates a malicious external presence not\n",
    "inherent to the system, such as a bash execution call to list\n",
    "the computer’s memory information, remove other users’\n",
    "ssh access, or un-tar an added file.\n",
    "\n",
    "# EDA\n",
    "## What are the `evil` and `sus` counts across the `train`, `test` and `validation`?\n",
    "\n",
    "### `train` Dataset"
   ]
  },
  {
   "cell_type": "code",
   "execution_count": 51,
   "id": "f604ba83",
   "metadata": {
    "execution": {
     "iopub.execute_input": "2021-10-24T12:53:19.033973Z",
     "iopub.status.busy": "2021-10-24T12:53:19.033211Z",
     "iopub.status.idle": "2021-10-24T12:53:19.203228Z",
     "shell.execute_reply": "2021-10-24T12:53:19.202800Z"
    },
    "papermill": {
     "duration": 0.241843,
     "end_time": "2021-10-24T12:53:19.203358",
     "exception": false,
     "start_time": "2021-10-24T12:53:18.961515",
     "status": "completed"
    },
    "tags": []
   },
   "outputs": [
    {
     "data": {
      "text/plain": [
       "<AxesSubplot:title={'center':'Labels Frequency for evil label in Train Dataset'}>"
      ]
     },
     "execution_count": 51,
     "metadata": {},
     "output_type": "execute_result"
    },
    {
     "data": {
      "image/png": "[encoded data removed]",
      "text/plain": [
       "<Figure size 432x288 with 1 Axes>"
      ]
     },
     "metadata": {
      "needs_background": "light"
     },
     "output_type": "display_data"
    }
   ],
   "source": [
    "train_df.evil.value_counts().plot(kind='bar', title='Label Frequency for evil label in Train Dataset')"
   ]
  },
  {
   "cell_type": "code",
   "execution_count": 10,
   "id": "4158aece",
   "metadata": {
    "execution": {
     "iopub.execute_input": "2021-10-24T12:53:19.348941Z",
     "iopub.status.busy": "2021-10-24T12:53:19.348141Z",
     "iopub.status.idle": "2021-10-24T12:53:19.484792Z",
     "shell.execute_reply": "2021-10-24T12:53:19.485231Z"
    },
    "papermill": {
     "duration": 0.211997,
     "end_time": "2021-10-24T12:53:19.485381",
     "exception": false,
     "start_time": "2021-10-24T12:53:19.273384",
     "status": "completed"
    },
    "tags": []
   },
   "outputs": [
    {
     "data": {
      "text/plain": [
       "<AxesSubplot:title={'center':'Label Frequency for sus label in Train Dataset'}>"
      ]
     },
     "execution_count": 10,
     "metadata": {},
     "output_type": "execute_result"
    },
    {
     "data": {
      "image/png": "[encoded data removed]",
      "text/plain": [
       "<Figure size 432x288 with 1 Axes>"
      ]
     },
     "metadata": {
      "needs_background": "light"
     },
     "output_type": "display_data"
    }
   ],
   "source": [
    "train_df.sus.value_counts().plot(kind='bar', title='Label Frequency for sus label in Train Dataset')"
   ]
  },
  {
   "attachments": {},
   "cell_type": "markdown",
   "id": "798dc3f0",
   "metadata": {
    "papermill": {
     "duration": 0.069196,
     "end_time": "2021-10-24T12:53:19.624293",
     "exception": false,
     "start_time": "2021-10-24T12:53:19.555097",
     "status": "completed"
    },
    "tags": []
   },
   "source": [
    "### `test` Dataset"
   ]
  },
  {
   "cell_type": "code",
   "execution_count": 11,
   "id": "8e687222",
   "metadata": {
    "execution": {
     "iopub.execute_input": "2021-10-24T12:53:19.772817Z",
     "iopub.status.busy": "2021-10-24T12:53:19.772052Z",
     "iopub.status.idle": "2021-10-24T12:53:19.914015Z",
     "shell.execute_reply": "2021-10-24T12:53:19.914445Z"
    },
    "papermill": {
     "duration": 0.219332,
     "end_time": "2021-10-24T12:53:19.914595",
     "exception": false,
     "start_time": "2021-10-24T12:53:19.695263",
     "status": "completed"
    },
    "tags": []
   },
   "outputs": [
    {
     "data": {
      "text/plain": [
       "<AxesSubplot:title={'center':'Label Frequency for evil label in Test Dataset'}>"
      ]
     },
     "execution_count": 11,
     "metadata": {},
     "output_type": "execute_result"
    },
    {
     "data": {
      "image/png": "[encoded data removed]",
      "text/plain": [
       "<Figure size 432x288 with 1 Axes>"
      ]
     },
     "metadata": {
      "needs_background": "light"
     },
     "output_type": "display_data"
    }
   ],
   "source": [
    "test_df.evil.value_counts().plot(kind='bar', title='Label Frequency for evil label in Test Dataset')"
   ]
  },
  {
   "cell_type": "code",
   "execution_count": 12,
   "id": "016d58b9",
   "metadata": {
    "execution": {
     "iopub.execute_input": "2021-10-24T12:53:20.080840Z",
     "iopub.status.busy": "2021-10-24T12:53:20.079953Z",
     "iopub.status.idle": "2021-10-24T12:53:20.303552Z",
     "shell.execute_reply": "2021-10-24T12:53:20.304553Z"
    },
    "papermill": {
     "duration": 0.316942,
     "end_time": "2021-10-24T12:53:20.304783",
     "exception": false,
     "start_time": "2021-10-24T12:53:19.987841",
     "status": "completed"
    },
    "tags": []
   },
   "outputs": [
    {
     "data": {
      "text/plain": [
       "<AxesSubplot:title={'center':'Label Frequency for sus label in Test Dataset'}>"
      ]
     },
     "execution_count": 12,
     "metadata": {},
     "output_type": "execute_result"
    },
    {
     "data": {
      "image/png": "[encoded data removed]",
      "text/plain": [
       "<Figure size 432x288 with 1 Axes>"
      ]
     },
     "metadata": {
      "needs_background": "light"
     },
     "output_type": "display_data"
    }
   ],
   "source": [
    "test_df.sus.value_counts().plot(kind='bar', title='Label Frequency for sus label in Test Dataset')"
   ]
  },
  {
   "attachments": {},
   "cell_type": "markdown",
   "id": "d5fd6cb2",
   "metadata": {
    "papermill": {
     "duration": 0.117381,
     "end_time": "2021-10-24T12:53:20.540535",
     "exception": false,
     "start_time": "2021-10-24T12:53:20.423154",
     "status": "completed"
    },
    "tags": []
   },
   "source": [
    "### `validation` dataset"
   ]
  },
  {
   "cell_type": "code",
   "execution_count": 13,
   "id": "4222a906",
   "metadata": {
    "execution": {
     "iopub.execute_input": "2021-10-24T12:53:20.727059Z",
     "iopub.status.busy": "2021-10-24T12:53:20.726289Z",
     "iopub.status.idle": "2021-10-24T12:53:20.854802Z",
     "shell.execute_reply": "2021-10-24T12:53:20.855520Z"
    },
    "papermill": {
     "duration": 0.204708,
     "end_time": "2021-10-24T12:53:20.855696",
     "exception": false,
     "start_time": "2021-10-24T12:53:20.650988",
     "status": "completed"
    },
    "tags": []
   },
   "outputs": [
    {
     "data": {
      "text/plain": [
       "<AxesSubplot:title={'center':'Label Frequency for evil label in Validation Dataset'}>"
      ]
     },
     "execution_count": 13,
     "metadata": {},
     "output_type": "execute_result"
    },
    {
     "data": {
      "image/png": "[encoded data removed]",
      "text/plain": [
       "<Figure size 432x288 with 1 Axes>"
      ]
     },
     "metadata": {
      "needs_background": "light"
     },
     "output_type": "display_data"
    }
   ],
   "source": [
    "validation_df.evil.value_counts().plot(kind='bar', title='Label Frequency for evil label in Validation Dataset')"
   ]
  },
  {
   "cell_type": "code",
   "execution_count": 14,
   "id": "7f9d723e",
   "metadata": {
    "execution": {
     "iopub.execute_input": "2021-10-24T12:53:21.021595Z",
     "iopub.status.busy": "2021-10-24T12:53:21.020847Z",
     "iopub.status.idle": "2021-10-24T12:53:21.160270Z",
     "shell.execute_reply": "2021-10-24T12:53:21.160687Z"
    },
    "papermill": {
     "duration": 0.224088,
     "end_time": "2021-10-24T12:53:21.160894",
     "exception": false,
     "start_time": "2021-10-24T12:53:20.936806",
     "status": "completed"
    },
    "tags": []
   },
   "outputs": [
    {
     "data": {
      "text/plain": [
       "<AxesSubplot:title={'center':'Label Frequency for sus label in Validation Dataset'}>"
      ]
     },
     "execution_count": 14,
     "metadata": {},
     "output_type": "execute_result"
    },
    {
     "data": {
      "image/png": "[encoded data removed]",
      "text/plain": [
       "<Figure size 432x288 with 1 Axes>"
      ]
     },
     "metadata": {
      "needs_background": "light"
     },
     "output_type": "display_data"
    }
   ],
   "source": [
    "validation_df.sus.value_counts().plot(kind='bar', title='Label Frequency for sus label in Validation Dataset')"
   ]
  },
  {
   "attachments": {},
   "cell_type": "markdown",
   "id": "3970418d",
   "metadata": {
    "papermill": {
     "duration": 0.075871,
     "end_time": "2021-10-24T12:53:21.310838",
     "exception": false,
     "start_time": "2021-10-24T12:53:21.234967",
     "status": "completed"
    },
    "tags": []
   },
   "source": [
    "## Are any events labelled both`sus` and `evil` in each dataset?\n",
    "\n",
    "### `train` dataset"
   ]
  },
  {
   "cell_type": "code",
   "execution_count": 15,
   "id": "fc6d903e",
   "metadata": {
    "execution": {
     "iopub.execute_input": "2021-10-24T12:53:21.469410Z",
     "iopub.status.busy": "2021-10-24T12:53:21.468584Z",
     "iopub.status.idle": "2021-10-24T12:53:21.510672Z",
     "shell.execute_reply": "2021-10-24T12:53:21.511064Z"
    },
    "papermill": {
     "duration": 0.125872,
     "end_time": "2021-10-24T12:53:21.511224",
     "exception": false,
     "start_time": "2021-10-24T12:53:21.385352",
     "status": "completed"
    },
    "tags": []
   },
   "outputs": [
    {
     "data": {
      "text/html": [
       "<div>\n",
       "<style scoped>\n",
       "    .dataframe tbody tr th:only-of-type {\n",
       "        vertical-align: middle;\n",
       "    }\n",
       "\n",
       "    .dataframe tbody tr th {\n",
       "        vertical-align: top;\n",
       "    }\n",
       "\n",
       "    .dataframe thead th {\n",
       "        text-align: right;\n",
       "    }\n",
       "</style>\n",
       "<table border=\"1\" class=\"dataframe\">\n",
       "  <thead>\n",
       "    <tr style=\"text-align: right;\">\n",
       "      <th></th>\n",
       "      <th></th>\n",
       "      <th>timestamp</th>\n",
       "    </tr>\n",
       "    <tr>\n",
       "      <th>sus</th>\n",
       "      <th>evil</th>\n",
       "      <th></th>\n",
       "    </tr>\n",
       "  </thead>\n",
       "  <tbody>\n",
       "    <tr>\n",
       "      <th>0</th>\n",
       "      <th>0</th>\n",
       "      <td>761875</td>\n",
       "    </tr>\n",
       "    <tr>\n",
       "      <th>1</th>\n",
       "      <th>0</th>\n",
       "      <td>1269</td>\n",
       "    </tr>\n",
       "  </tbody>\n",
       "</table>\n",
       "</div>"
      ],
      "text/plain": [
       "          timestamp\n",
       "sus evil           \n",
       "0   0        761875\n",
       "1   0          1269"
      ]
     },
     "execution_count": 15,
     "metadata": {},
     "output_type": "execute_result"
    }
   ],
   "source": [
    "train_df.groupby(['sus', 'evil'])[['timestamp']].count()"
   ]
  },
  {
   "cell_type": "code",
   "execution_count": 16,
   "id": "438cab60",
   "metadata": {
    "execution": {
     "iopub.execute_input": "2021-10-24T12:53:21.667339Z",
     "iopub.status.busy": "2021-10-24T12:53:21.666438Z",
     "iopub.status.idle": "2021-10-24T12:53:21.842460Z",
     "shell.execute_reply": "2021-10-24T12:53:21.842914Z"
    },
    "papermill": {
     "duration": 0.25831,
     "end_time": "2021-10-24T12:53:21.843069",
     "exception": false,
     "start_time": "2021-10-24T12:53:21.584759",
     "status": "completed"
    },
    "tags": []
   },
   "outputs": [
    {
     "data": {
      "text/plain": [
       "<AxesSubplot:xlabel='sus,evil'>"
      ]
     },
     "execution_count": 16,
     "metadata": {},
     "output_type": "execute_result"
    },
    {
     "data": {
      "image/png": "[encoded data removed]",
      "text/plain": [
       "<Figure size 432x288 with 1 Axes>"
      ]
     },
     "metadata": {
      "needs_background": "light"
     },
     "output_type": "display_data"
    }
   ],
   "source": [
    "train_df.groupby(['sus', 'evil'])[['timestamp']].count().plot(kind='bar')"
   ]
  },
  {
   "attachments": {},
   "cell_type": "markdown",
   "id": "b5e88830",
   "metadata": {
    "papermill": {
     "duration": 0.076265,
     "end_time": "2021-10-24T12:53:21.994688",
     "exception": false,
     "start_time": "2021-10-24T12:53:21.918423",
     "status": "completed"
    },
    "tags": []
   },
   "source": [
    "### `test` dataset"
   ]
  },
  {
   "cell_type": "code",
   "execution_count": 17,
   "id": "983c49c3",
   "metadata": {
    "execution": {
     "iopub.execute_input": "2021-10-24T12:53:22.192095Z",
     "iopub.status.busy": "2021-10-24T12:53:22.191275Z",
     "iopub.status.idle": "2021-10-24T12:53:22.208303Z",
     "shell.execute_reply": "2021-10-24T12:53:22.208667Z"
    },
    "papermill": {
     "duration": 0.138455,
     "end_time": "2021-10-24T12:53:22.208853",
     "exception": false,
     "start_time": "2021-10-24T12:53:22.070398",
     "status": "completed"
    },
    "tags": []
   },
   "outputs": [
    {
     "data": {
      "text/html": [
       "<div>\n",
       "<style scoped>\n",
       "    .dataframe tbody tr th:only-of-type {\n",
       "        vertical-align: middle;\n",
       "    }\n",
       "\n",
       "    .dataframe tbody tr th {\n",
       "        vertical-align: top;\n",
       "    }\n",
       "\n",
       "    .dataframe thead th {\n",
       "        text-align: right;\n",
       "    }\n",
       "</style>\n",
       "<table border=\"1\" class=\"dataframe\">\n",
       "  <thead>\n",
       "    <tr style=\"text-align: right;\">\n",
       "      <th></th>\n",
       "      <th></th>\n",
       "      <th>timestamp</th>\n",
       "    </tr>\n",
       "    <tr>\n",
       "      <th>sus</th>\n",
       "      <th>evil</th>\n",
       "      <th></th>\n",
       "    </tr>\n",
       "  </thead>\n",
       "  <tbody>\n",
       "    <tr>\n",
       "      <th>0</th>\n",
       "      <th>0</th>\n",
       "      <td>17508</td>\n",
       "    </tr>\n",
       "    <tr>\n",
       "      <th rowspan=\"2\" valign=\"top\">1</th>\n",
       "      <th>0</th>\n",
       "      <td>13027</td>\n",
       "    </tr>\n",
       "    <tr>\n",
       "      <th>1</th>\n",
       "      <td>158432</td>\n",
       "    </tr>\n",
       "  </tbody>\n",
       "</table>\n",
       "</div>"
      ],
      "text/plain": [
       "          timestamp\n",
       "sus evil           \n",
       "0   0         17508\n",
       "1   0         13027\n",
       "    1        158432"
      ]
     },
     "execution_count": 17,
     "metadata": {},
     "output_type": "execute_result"
    }
   ],
   "source": [
    "test_df.groupby(['sus', 'evil'])[['timestamp']].count()"
   ]
  },
  {
   "attachments": {},
   "cell_type": "markdown",
   "id": "8ec699a6",
   "metadata": {
    "papermill": {
     "duration": 0.077604,
     "end_time": "2021-10-24T12:53:22.362976",
     "exception": false,
     "start_time": "2021-10-24T12:53:22.285372",
     "status": "completed"
    },
    "tags": []
   },
   "source": [
    "*Note: The snippet below is to double-check the results from the cell above.*"
   ]
  },
  {
   "cell_type": "code",
   "execution_count": 18,
   "id": "1d6332f6",
   "metadata": {
    "execution": {
     "iopub.execute_input": "2021-10-24T12:53:22.526826Z",
     "iopub.status.busy": "2021-10-24T12:53:22.525869Z",
     "iopub.status.idle": "2021-10-24T12:53:22.544353Z",
     "shell.execute_reply": "2021-10-24T12:53:22.543917Z"
    },
    "papermill": {
     "duration": 0.104026,
     "end_time": "2021-10-24T12:53:22.544467",
     "exception": false,
     "start_time": "2021-10-24T12:53:22.440441",
     "status": "completed"
    },
    "tags": []
   },
   "outputs": [
    {
     "data": {
      "text/plain": [
       "158432"
      ]
     },
     "execution_count": 18,
     "metadata": {},
     "output_type": "execute_result"
    }
   ],
   "source": [
    "test_df.loc[(test_df['sus'] == 1) & (test_df['evil'] == 1)].shape[0]"
   ]
  },
  {
   "cell_type": "code",
   "execution_count": 19,
   "id": "d5c01c06",
   "metadata": {
    "execution": {
     "iopub.execute_input": "2021-10-24T12:53:22.703609Z",
     "iopub.status.busy": "2021-10-24T12:53:22.702790Z",
     "iopub.status.idle": "2021-10-24T12:53:22.869193Z",
     "shell.execute_reply": "2021-10-24T12:53:22.868721Z"
    },
    "papermill": {
     "duration": 0.248619,
     "end_time": "2021-10-24T12:53:22.869314",
     "exception": false,
     "start_time": "2021-10-24T12:53:22.620695",
     "status": "completed"
    },
    "tags": []
   },
   "outputs": [
    {
     "data": {
      "text/plain": [
       "<AxesSubplot:xlabel='sus,evil'>"
      ]
     },
     "execution_count": 19,
     "metadata": {},
     "output_type": "execute_result"
    },
    {
     "data": {
      "image/png": "[encoded data removed]",
      "text/plain": [
       "<Figure size 432x288 with 1 Axes>"
      ]
     },
     "metadata": {
      "needs_background": "light"
     },
     "output_type": "display_data"
    }
   ],
   "source": [
    "test_df.groupby(['sus', 'evil'])[['timestamp']].count().plot(kind='bar')"
   ]
  },
  {
   "attachments": {},
   "cell_type": "markdown",
   "id": "ca2daa26",
   "metadata": {
    "papermill": {
     "duration": 0.078059,
     "end_time": "2021-10-24T12:53:23.023616",
     "exception": false,
     "start_time": "2021-10-24T12:53:22.945557",
     "status": "completed"
    },
    "tags": []
   },
   "source": [
    "### `validation` dataset"
   ]
  },
  {
   "cell_type": "code",
   "execution_count": 20,
   "id": "0371f023",
   "metadata": {
    "execution": {
     "iopub.execute_input": "2021-10-24T12:53:23.185123Z",
     "iopub.status.busy": "2021-10-24T12:53:23.184309Z",
     "iopub.status.idle": "2021-10-24T12:53:23.199711Z",
     "shell.execute_reply": "2021-10-24T12:53:23.200124Z"
    },
    "papermill": {
     "duration": 0.099309,
     "end_time": "2021-10-24T12:53:23.200281",
     "exception": false,
     "start_time": "2021-10-24T12:53:23.100972",
     "status": "completed"
    },
    "tags": []
   },
   "outputs": [
    {
     "data": {
      "text/html": [
       "<div>\n",
       "<style scoped>\n",
       "    .dataframe tbody tr th:only-of-type {\n",
       "        vertical-align: middle;\n",
       "    }\n",
       "\n",
       "    .dataframe tbody tr th {\n",
       "        vertical-align: top;\n",
       "    }\n",
       "\n",
       "    .dataframe thead th {\n",
       "        text-align: right;\n",
       "    }\n",
       "</style>\n",
       "<table border=\"1\" class=\"dataframe\">\n",
       "  <thead>\n",
       "    <tr style=\"text-align: right;\">\n",
       "      <th></th>\n",
       "      <th></th>\n",
       "      <th>timestamp</th>\n",
       "    </tr>\n",
       "    <tr>\n",
       "      <th>sus</th>\n",
       "      <th>evil</th>\n",
       "      <th></th>\n",
       "    </tr>\n",
       "  </thead>\n",
       "  <tbody>\n",
       "    <tr>\n",
       "      <th>0</th>\n",
       "      <th>0</th>\n",
       "      <td>188181</td>\n",
       "    </tr>\n",
       "    <tr>\n",
       "      <th>1</th>\n",
       "      <th>0</th>\n",
       "      <td>786</td>\n",
       "    </tr>\n",
       "  </tbody>\n",
       "</table>\n",
       "</div>"
      ],
      "text/plain": [
       "          timestamp\n",
       "sus evil           \n",
       "0   0        188181\n",
       "1   0           786"
      ]
     },
     "execution_count": 20,
     "metadata": {},
     "output_type": "execute_result"
    }
   ],
   "source": [
    "validation_df.groupby(['sus', 'evil'])[['timestamp']].count()"
   ]
  },
  {
   "cell_type": "code",
   "execution_count": 21,
   "id": "2711ae10",
   "metadata": {
    "execution": {
     "iopub.execute_input": "2021-10-24T12:53:23.363495Z",
     "iopub.status.busy": "2021-10-24T12:53:23.362640Z",
     "iopub.status.idle": "2021-10-24T12:53:23.517928Z",
     "shell.execute_reply": "2021-10-24T12:53:23.518329Z"
    },
    "papermill": {
     "duration": 0.240846,
     "end_time": "2021-10-24T12:53:23.518485",
     "exception": false,
     "start_time": "2021-10-24T12:53:23.277639",
     "status": "completed"
    },
    "tags": []
   },
   "outputs": [
    {
     "data": {
      "text/plain": [
       "<AxesSubplot:xlabel='sus,evil'>"
      ]
     },
     "execution_count": 21,
     "metadata": {},
     "output_type": "execute_result"
    },
    {
     "data": {
      "image/png": "[encoded data removed]",
      "text/plain": [
       "<Figure size 432x288 with 1 Axes>"
      ]
     },
     "metadata": {
      "needs_background": "light"
     },
     "output_type": "display_data"
    }
   ],
   "source": [
    "validation_df.groupby(['sus', 'evil'])[['timestamp']].count().plot(kind='bar')"
   ]
  },
  {
   "attachments": {},
   "cell_type": "markdown",
   "id": "e6f991e2",
   "metadata": {
    "papermill": {
     "duration": 0.078164,
     "end_time": "2021-10-24T12:53:23.674839",
     "exception": false,
     "start_time": "2021-10-24T12:53:23.596675",
     "status": "completed"
    },
    "tags": []
   },
   "source": [
    "**NOTE:** From looking at these plots, it looks fairly imbalanced across the board but this is expected with a dataset like this. From reading the paper, it's kinda' the whole point! The test dataset is the only dataset that contains `evil` labelled events. This means that anomoly detection approaches will probably the best place to start. Something like an Auto-Encoder or One-Class SVM."
   ]
  },
  {
   "attachments": {},
   "cell_type": "markdown",
   "id": "871420c3",
   "metadata": {
    "papermill": {
     "duration": 0.07981,
     "end_time": "2021-10-24T12:53:23.833686",
     "exception": false,
     "start_time": "2021-10-24T12:53:23.753876",
     "status": "completed"
    },
    "tags": []
   },
   "source": [
    "## What is the correlation of features across each dataset?"
   ]
  },
  {
   "cell_type": "code",
   "execution_count": 22,
   "id": "448071e5",
   "metadata": {
    "execution": {
     "iopub.execute_input": "2021-10-24T12:53:23.999144Z",
     "iopub.status.busy": "2021-10-24T12:53:23.998341Z",
     "iopub.status.idle": "2021-10-24T12:53:24.001217Z",
     "shell.execute_reply": "2021-10-24T12:53:24.000776Z"
    },
    "papermill": {
     "duration": 0.087635,
     "end_time": "2021-10-24T12:53:24.001329",
     "exception": false,
     "start_time": "2021-10-24T12:53:23.913694",
     "status": "completed"
    },
    "tags": []
   },
   "outputs": [],
   "source": [
    "def dataset_to_corr_heatmap(dataframe, title, ax):\n",
    "    corr = dataframe.corr()\n",
    "    sns.heatmap(corr, ax = ax, annot=True, cmap=\"YlGnBu\")\n",
    "    ax.set_title(f'Correlation Plot for {title}')"
   ]
  },
  {
   "cell_type": "code",
   "execution_count": 23,
   "id": "841bcf20",
   "metadata": {
    "execution": {
     "iopub.execute_input": "2021-10-24T12:53:24.176519Z",
     "iopub.status.busy": "2021-10-24T12:53:24.175668Z",
     "iopub.status.idle": "2021-10-24T12:53:28.269652Z",
     "shell.execute_reply": "2021-10-24T12:53:28.270103Z"
    },
    "papermill": {
     "duration": 4.18988,
     "end_time": "2021-10-24T12:53:28.270268",
     "exception": false,
     "start_time": "2021-10-24T12:53:24.080388",
     "status": "completed"
    },
    "tags": []
   },
   "outputs": [
    {
     "data": {
      "image/png": "[encoded data removed]",
      "text/plain": [
       "<Figure size 1080x1440 with 6 Axes>"
      ]
     },
     "metadata": {
      "needs_background": "light"
     },
     "output_type": "display_data"
    }
   ],
   "source": [
    "fig, (ax1, ax2, ax3) = plt.subplots(3, 1, figsize = (15,20))\n",
    "fig.tight_layout(pad=10.0)\n",
    "datasets = [train_df, test_df, validation_df]\n",
    "dataset_names = ['train', 'test', 'validation']\n",
    "axs = [ax1, ax2, ax3]\n",
    "\n",
    "for dataset, name, ax in zip(datasets, dataset_names, axs):\n",
    "    dataset_to_corr_heatmap(dataset, name, ax)"
   ]
  },
  {
   "attachments": {},
   "cell_type": "markdown",
   "id": "a05f3b87",
   "metadata": {
    "papermill": {
     "duration": 0.088311,
     "end_time": "2021-10-24T12:53:28.448369",
     "exception": false,
     "start_time": "2021-10-24T12:53:28.360058",
     "status": "completed"
    },
    "tags": []
   },
   "source": [
    "## What does this show?\n",
    "\n",
    "* All three of the datasets have a heavy correlation between `userid` and the associated labels which feature in the dataset (`sus` and/or `evil`).\n",
    "* `processid` and `threadid` are highly correlated and seem to have similar correlation vaules across all three datasets. This means that they are representing pretty much the same thing and one of them could be dropped.\n",
    "* The correlation plots all look significantly different. This probably means its a hard problem!"
   ]
  },
  {
   "attachments": {},
   "cell_type": "markdown",
   "id": "11213626",
   "metadata": {
    "papermill": {
     "duration": 0.083826,
     "end_time": "2021-10-24T12:53:28.617257",
     "exception": false,
     "start_time": "2021-10-24T12:53:28.533431",
     "status": "completed"
    },
    "tags": []
   },
   "source": [
    "## Experimenting with ways to compare the datasets\n",
    "\n",
    "### Entropy"
   ]
  },
  {
   "cell_type": "code",
   "execution_count": 24,
   "id": "7c9825d8",
   "metadata": {
    "execution": {
     "iopub.execute_input": "2021-10-24T12:53:28.794036Z",
     "iopub.status.busy": "2021-10-24T12:53:28.793255Z",
     "iopub.status.idle": "2021-10-24T12:53:30.530147Z",
     "shell.execute_reply": "2021-10-24T12:53:30.529684Z"
    },
    "papermill": {
     "duration": 1.827885,
     "end_time": "2021-10-24T12:53:30.530281",
     "exception": false,
     "start_time": "2021-10-24T12:53:28.702396",
     "status": "completed"
    },
    "tags": []
   },
   "outputs": [
    {
     "data": {
      "image/png": "[encoded data removed]",
      "text/plain": [
       "<Figure size 432x288 with 1 Axes>"
      ]
     },
     "metadata": {
      "needs_background": "light"
     },
     "output_type": "display_data"
    }
   ],
   "source": [
    "datasets = [train_df, test_df, validation_df]\n",
    "\n",
    "entropy_values = []\n",
    "for dataset in datasets:\n",
    "    dataset_entropy_values = []\n",
    "    for col in dataset.columns:\n",
    "        if col == 'timestamp':\n",
    "            pass\n",
    "        else:\n",
    "            counts = dataset[col].value_counts()\n",
    "            col_entropy = stats.entropy(counts)\n",
    "            dataset_entropy_values.append(col_entropy)\n",
    "            \n",
    "    entropy_values.append(dataset_entropy_values)\n",
    "\n",
    "plt.boxplot(entropy_values)\n",
    "plt.title('Boxplot of Entropy Values')\n",
    "plt.ylabel(\"entropy values\")\n",
    "plt.xticks([0,1,2,3],labels=['','train', 'test', 'validate'])\n",
    "plt.show()"
   ]
  },
  {
   "attachments": {},
   "cell_type": "markdown",
   "id": "b2d82c4e",
   "metadata": {
    "papermill": {
     "duration": 0.085537,
     "end_time": "2021-10-24T12:53:30.702354",
     "exception": false,
     "start_time": "2021-10-24T12:53:30.616817",
     "status": "completed"
    },
    "tags": []
   },
   "source": [
    "### Variation"
   ]
  },
  {
   "cell_type": "code",
   "execution_count": 25,
   "id": "29f54fa1",
   "metadata": {
    "execution": {
     "iopub.execute_input": "2021-10-24T12:53:30.883433Z",
     "iopub.status.busy": "2021-10-24T12:53:30.882584Z",
     "iopub.status.idle": "2021-10-24T12:53:32.831504Z",
     "shell.execute_reply": "2021-10-24T12:53:32.831003Z"
    },
    "papermill": {
     "duration": 2.043114,
     "end_time": "2021-10-24T12:53:32.831686",
     "exception": false,
     "start_time": "2021-10-24T12:53:30.788572",
     "status": "completed"
    },
    "tags": []
   },
   "outputs": [
    {
     "data": {
      "image/png": "[encoded data removed]",
      "text/plain": [
       "<Figure size 432x288 with 1 Axes>"
      ]
     },
     "metadata": {
      "needs_background": "light"
     },
     "output_type": "display_data"
    }
   ],
   "source": [
    "datasets = [train_df, test_df, validation_df]\n",
    "\n",
    "variation_values = []\n",
    "for dataset in datasets:\n",
    "    dataset_variation_values = []\n",
    "    for col in dataset.columns:\n",
    "        if col == 'timestamp':\n",
    "            pass\n",
    "        else:\n",
    "            counts = dataset[col].value_counts()\n",
    "            col_variation = stats.variation(counts)\n",
    "            dataset_variation_values.append(col_variation)\n",
    "            \n",
    "    variation_values.append(dataset_variation_values)\n",
    "\n",
    "plt.boxplot(variation_values)\n",
    "plt.title('Boxplot of Variation Values')\n",
    "plt.ylabel(\"Variation values\")\n",
    "plt.xticks([0,1,2,3],labels=['','train', 'test', 'validate'])\n",
    "plt.show()"
   ]
  },
  {
   "attachments": {},
   "cell_type": "markdown",
   "id": "c49cb424",
   "metadata": {
    "papermill": {
     "duration": 0.086711,
     "end_time": "2021-10-24T12:53:33.010058",
     "exception": false,
     "start_time": "2021-10-24T12:53:32.923347",
     "status": "completed"
    },
    "tags": []
   },
   "source": [
    "## Exploring the Non-Numeric Cols\n",
    "\n",
    "Let's use the `train_df` for this exploration\n",
    "\n",
    "From looking at the annex of the paper related to this dataset, the `eventName` columns maps directly to the `eventId` column as shown in the cell below, becuase of this, it'll be ignored in the analysis. (Look at line 2 (idx 1) and line 8 (idx 7))"
   ]
  },
  {
   "cell_type": "code",
   "execution_count": 26,
   "id": "c09ec0dd",
   "metadata": {
    "execution": {
     "iopub.execute_input": "2021-10-24T12:53:33.191596Z",
     "iopub.status.busy": "2021-10-24T12:53:33.190606Z",
     "iopub.status.idle": "2021-10-24T12:53:33.202535Z",
     "shell.execute_reply": "2021-10-24T12:53:33.202068Z"
    },
    "papermill": {
     "duration": 0.105014,
     "end_time": "2021-10-24T12:53:33.202648",
     "exception": false,
     "start_time": "2021-10-24T12:53:33.097634",
     "status": "completed"
    },
    "tags": []
   },
   "outputs": [
    {
     "data": {
      "text/html": [
       "<div>\n",
       "<style scoped>\n",
       "    .dataframe tbody tr th:only-of-type {\n",
       "        vertical-align: middle;\n",
       "    }\n",
       "\n",
       "    .dataframe tbody tr th {\n",
       "        vertical-align: top;\n",
       "    }\n",
       "\n",
       "    .dataframe thead th {\n",
       "        text-align: right;\n",
       "    }\n",
       "</style>\n",
       "<table border=\"1\" class=\"dataframe\">\n",
       "  <thead>\n",
       "    <tr style=\"text-align: right;\">\n",
       "      <th></th>\n",
       "      <th>eventId</th>\n",
       "      <th>eventName</th>\n",
       "    </tr>\n",
       "  </thead>\n",
       "  <tbody>\n",
       "    <tr>\n",
       "      <th>0</th>\n",
       "      <td>157</td>\n",
       "      <td>prctl</td>\n",
       "    </tr>\n",
       "    <tr>\n",
       "      <th>1</th>\n",
       "      <td>3</td>\n",
       "      <td>close</td>\n",
       "    </tr>\n",
       "    <tr>\n",
       "      <th>2</th>\n",
       "      <td>1010</td>\n",
       "      <td>sched_process_exit</td>\n",
       "    </tr>\n",
       "    <tr>\n",
       "      <th>3</th>\n",
       "      <td>21</td>\n",
       "      <td>access</td>\n",
       "    </tr>\n",
       "    <tr>\n",
       "      <th>4</th>\n",
       "      <td>1005</td>\n",
       "      <td>security_file_open</td>\n",
       "    </tr>\n",
       "    <tr>\n",
       "      <th>5</th>\n",
       "      <td>257</td>\n",
       "      <td>openat</td>\n",
       "    </tr>\n",
       "    <tr>\n",
       "      <th>6</th>\n",
       "      <td>5</td>\n",
       "      <td>fstat</td>\n",
       "    </tr>\n",
       "    <tr>\n",
       "      <th>7</th>\n",
       "      <td>3</td>\n",
       "      <td>close</td>\n",
       "    </tr>\n",
       "    <tr>\n",
       "      <th>8</th>\n",
       "      <td>1005</td>\n",
       "      <td>security_file_open</td>\n",
       "    </tr>\n",
       "    <tr>\n",
       "      <th>9</th>\n",
       "      <td>257</td>\n",
       "      <td>openat</td>\n",
       "    </tr>\n",
       "  </tbody>\n",
       "</table>\n",
       "</div>"
      ],
      "text/plain": [
       "   eventId           eventName\n",
       "0      157               prctl\n",
       "1        3               close\n",
       "2     1010  sched_process_exit\n",
       "3       21              access\n",
       "4     1005  security_file_open\n",
       "5      257              openat\n",
       "6        5               fstat\n",
       "7        3               close\n",
       "8     1005  security_file_open\n",
       "9      257              openat"
      ]
     },
     "execution_count": 26,
     "metadata": {},
     "output_type": "execute_result"
    }
   ],
   "source": [
    "train_df.loc[:, ['eventId', 'eventName']].head(10)"
   ]
  },
  {
   "cell_type": "code",
   "execution_count": 27,
   "id": "f0e08386",
   "metadata": {
    "execution": {
     "iopub.execute_input": "2021-10-24T12:53:33.387008Z",
     "iopub.status.busy": "2021-10-24T12:53:33.385800Z",
     "iopub.status.idle": "2021-10-24T12:53:33.417174Z",
     "shell.execute_reply": "2021-10-24T12:53:33.416568Z"
    },
    "papermill": {
     "duration": 0.127346,
     "end_time": "2021-10-24T12:53:33.417300",
     "exception": false,
     "start_time": "2021-10-24T12:53:33.289954",
     "status": "completed"
    },
    "tags": []
   },
   "outputs": [
    {
     "data": {
      "text/html": [
       "<div>\n",
       "<style scoped>\n",
       "    .dataframe tbody tr th:only-of-type {\n",
       "        vertical-align: middle;\n",
       "    }\n",
       "\n",
       "    .dataframe tbody tr th {\n",
       "        vertical-align: top;\n",
       "    }\n",
       "\n",
       "    .dataframe thead th {\n",
       "        text-align: right;\n",
       "    }\n",
       "</style>\n",
       "<table border=\"1\" class=\"dataframe\">\n",
       "  <thead>\n",
       "    <tr style=\"text-align: right;\">\n",
       "      <th></th>\n",
       "      <th>processName</th>\n",
       "      <th>hostName</th>\n",
       "      <th>args</th>\n",
       "    </tr>\n",
       "  </thead>\n",
       "  <tbody>\n",
       "    <tr>\n",
       "      <th>0</th>\n",
       "      <td>close</td>\n",
       "      <td>ip-10-100-1-120</td>\n",
       "      <td>[{'name': 'option', 'type': 'int', 'value': 'P...</td>\n",
       "    </tr>\n",
       "    <tr>\n",
       "      <th>1</th>\n",
       "      <td>close</td>\n",
       "      <td>ip-10-100-1-120</td>\n",
       "      <td>[{'name': 'fd', 'type': 'int', 'value': 19}]</td>\n",
       "    </tr>\n",
       "    <tr>\n",
       "      <th>2</th>\n",
       "      <td>close</td>\n",
       "      <td>ip-10-100-1-120</td>\n",
       "      <td>[]</td>\n",
       "    </tr>\n",
       "    <tr>\n",
       "      <th>3</th>\n",
       "      <td>sh</td>\n",
       "      <td>ip-10-100-1-120</td>\n",
       "      <td>[{'name': 'pathname', 'type': 'const char*', '...</td>\n",
       "    </tr>\n",
       "    <tr>\n",
       "      <th>4</th>\n",
       "      <td>sh</td>\n",
       "      <td>ip-10-100-1-120</td>\n",
       "      <td>[{'name': 'pathname', 'type': 'const char*', '...</td>\n",
       "    </tr>\n",
       "    <tr>\n",
       "      <th>5</th>\n",
       "      <td>sh</td>\n",
       "      <td>ip-10-100-1-120</td>\n",
       "      <td>[{'name': 'dirfd', 'type': 'int', 'value': -10...</td>\n",
       "    </tr>\n",
       "    <tr>\n",
       "      <th>6</th>\n",
       "      <td>sh</td>\n",
       "      <td>ip-10-100-1-120</td>\n",
       "      <td>[{'name': 'fd', 'type': 'int', 'value': 3}, {'...</td>\n",
       "    </tr>\n",
       "    <tr>\n",
       "      <th>7</th>\n",
       "      <td>sh</td>\n",
       "      <td>ip-10-100-1-120</td>\n",
       "      <td>[{'name': 'fd', 'type': 'int', 'value': 3}]</td>\n",
       "    </tr>\n",
       "    <tr>\n",
       "      <th>8</th>\n",
       "      <td>sh</td>\n",
       "      <td>ip-10-100-1-120</td>\n",
       "      <td>[{'name': 'pathname', 'type': 'const char*', '...</td>\n",
       "    </tr>\n",
       "    <tr>\n",
       "      <th>9</th>\n",
       "      <td>sh</td>\n",
       "      <td>ip-10-100-1-120</td>\n",
       "      <td>[{'name': 'dirfd', 'type': 'int', 'value': -10...</td>\n",
       "    </tr>\n",
       "  </tbody>\n",
       "</table>\n",
       "</div>"
      ],
      "text/plain": [
       "  processName         hostName  \\\n",
       "0       close  ip-10-100-1-120   \n",
       "1       close  ip-10-100-1-120   \n",
       "2       close  ip-10-100-1-120   \n",
       "3          sh  ip-10-100-1-120   \n",
       "4          sh  ip-10-100-1-120   \n",
       "5          sh  ip-10-100-1-120   \n",
       "6          sh  ip-10-100-1-120   \n",
       "7          sh  ip-10-100-1-120   \n",
       "8          sh  ip-10-100-1-120   \n",
       "9          sh  ip-10-100-1-120   \n",
       "\n",
       "                                                args  \n",
       "0  [{'name': 'option', 'type': 'int', 'value': 'P...  \n",
       "1       [{'name': 'fd', 'type': 'int', 'value': 19}]  \n",
       "2                                                 []  \n",
       "3  [{'name': 'pathname', 'type': 'const char*', '...  \n",
       "4  [{'name': 'pathname', 'type': 'const char*', '...  \n",
       "5  [{'name': 'dirfd', 'type': 'int', 'value': -10...  \n",
       "6  [{'name': 'fd', 'type': 'int', 'value': 3}, {'...  \n",
       "7        [{'name': 'fd', 'type': 'int', 'value': 3}]  \n",
       "8  [{'name': 'pathname', 'type': 'const char*', '...  \n",
       "9  [{'name': 'dirfd', 'type': 'int', 'value': -10...  "
      ]
     },
     "execution_count": 27,
     "metadata": {},
     "output_type": "execute_result"
    }
   ],
   "source": [
    "train_df.loc[:, ['processName', 'hostName', 'args']].head(10)"
   ]
  },
  {
   "attachments": {},
   "cell_type": "markdown",
   "id": "d5ba588e",
   "metadata": {
    "papermill": {
     "duration": 0.0872,
     "end_time": "2021-10-24T12:53:33.592395",
     "exception": false,
     "start_time": "2021-10-24T12:53:33.505195",
     "status": "completed"
    },
    "tags": []
   },
   "source": [
    "## Check Unique Values for all three of the fields above"
   ]
  },
  {
   "cell_type": "code",
   "execution_count": 28,
   "id": "de71561d",
   "metadata": {
    "execution": {
     "iopub.execute_input": "2021-10-24T12:53:33.773380Z",
     "iopub.status.busy": "2021-10-24T12:53:33.772570Z",
     "iopub.status.idle": "2021-10-24T12:53:33.775479Z",
     "shell.execute_reply": "2021-10-24T12:53:33.774969Z"
    },
    "papermill": {
     "duration": 0.094777,
     "end_time": "2021-10-24T12:53:33.775606",
     "exception": false,
     "start_time": "2021-10-24T12:53:33.680829",
     "status": "completed"
    },
    "tags": []
   },
   "outputs": [],
   "source": [
    "def column_uniques(df, col):\n",
    "    print(f'{col} - Uniques:\\n\\n{df[col].unique()} \\n\\nNo. Uniques: {df[col].nunique()}')"
   ]
  },
  {
   "cell_type": "code",
   "execution_count": 29,
   "id": "5c9eb604",
   "metadata": {
    "execution": {
     "iopub.execute_input": "2021-10-24T12:53:33.996755Z",
     "iopub.status.busy": "2021-10-24T12:53:33.995896Z",
     "iopub.status.idle": "2021-10-24T12:53:34.130214Z",
     "shell.execute_reply": "2021-10-24T12:53:34.130777Z"
    },
    "papermill": {
     "duration": 0.267125,
     "end_time": "2021-10-24T12:53:34.130978",
     "exception": false,
     "start_time": "2021-10-24T12:53:33.863853",
     "status": "completed"
    },
    "tags": []
   },
   "outputs": [
    {
     "name": "stdout",
     "output_type": "stream",
     "text": [
      "processName - Uniques:\n",
      "\n",
      "['close' 'sh' 'run-parts' 'atd' 'systemd-logind' 'systemd'\n",
      " 'systemd-journal' 'dbus-daemon' '(time-dir)' 'systemd-user-ru' 'docker'\n",
      " 'systemd-resolve' 'dockerd' 'containerd-shim' 'amazon-ssm-agen' 'ps'\n",
      " 'cron' 'snapd' 'systemd-network' 'journal-offline' 'kworker/dying'\n",
      " 'ssm-agent-worke' 'packagekitd' 'gdbus' 'gmain' '(tmpfiles)'\n",
      " 'systemd-tmpfile' 'kworker/u30:1' 'poweroff' '(sd-sync)' 'kworker/u30:0'\n",
      " 'kworker/u30:2' 'systemd-timesyn' 'systemd-udevd' '(sd-pam)' 'sshd'] \n",
      "\n",
      "No. Uniques: 36\n"
     ]
    }
   ],
   "source": [
    "column_uniques(train_df, 'processName')"
   ]
  },
  {
   "attachments": {},
   "cell_type": "markdown",
   "id": "e04e8038",
   "metadata": {
    "papermill": {
     "duration": 0.090501,
     "end_time": "2021-10-24T12:53:34.310877",
     "exception": false,
     "start_time": "2021-10-24T12:53:34.220376",
     "status": "completed"
    },
    "tags": []
   },
   "source": [
    "This column contains the process names and could be processed further to create binary features. For example, a feature called `amazon or not` could be one or `systemd or not`. Something to explore later."
   ]
  },
  {
   "cell_type": "code",
   "execution_count": 30,
   "id": "b3ee2bdd",
   "metadata": {
    "execution": {
     "iopub.execute_input": "2021-10-24T12:53:34.534309Z",
     "iopub.status.busy": "2021-10-24T12:53:34.533526Z",
     "iopub.status.idle": "2021-10-24T12:53:34.670907Z",
     "shell.execute_reply": "2021-10-24T12:53:34.670413Z"
    },
    "papermill": {
     "duration": 0.268784,
     "end_time": "2021-10-24T12:53:34.671051",
     "exception": false,
     "start_time": "2021-10-24T12:53:34.402267",
     "status": "completed"
    },
    "tags": []
   },
   "outputs": [
    {
     "name": "stdout",
     "output_type": "stream",
     "text": [
      "hostName - Uniques:\n",
      "\n",
      "['ip-10-100-1-120' 'ip-10-100-1-173' 'ip-10-100-1-28' 'ip-10-100-1-34'\n",
      " 'ip-10-100-1-55' 'ip-10-100-1-57' 'ip-10-100-1-79' 'ubuntu'] \n",
      "\n",
      "No. Uniques: 8\n"
     ]
    }
   ],
   "source": [
    "column_uniques(train_df, 'hostName')"
   ]
  },
  {
   "attachments": {},
   "cell_type": "markdown",
   "id": "5fe93efb",
   "metadata": {
    "papermill": {
     "duration": 0.088145,
     "end_time": "2021-10-24T12:53:34.847759",
     "exception": false,
     "start_time": "2021-10-24T12:53:34.759614",
     "status": "completed"
    },
    "tags": []
   },
   "source": [
    "This columns looks fairly useless for model training. As the dataset authors mention in the paper, this field is probs only useful for linking activity together in the dataset."
   ]
  },
  {
   "cell_type": "code",
   "execution_count": 31,
   "id": "4435403c",
   "metadata": {
    "execution": {
     "iopub.execute_input": "2021-10-24T12:53:35.098456Z",
     "iopub.status.busy": "2021-10-24T12:53:35.095722Z",
     "iopub.status.idle": "2021-10-24T12:53:35.698329Z",
     "shell.execute_reply": "2021-10-24T12:53:35.698893Z"
    },
    "papermill": {
     "duration": 0.759773,
     "end_time": "2021-10-24T12:53:35.699089",
     "exception": false,
     "start_time": "2021-10-24T12:53:34.939316",
     "status": "completed"
    },
    "tags": []
   },
   "outputs": [
    {
     "name": "stdout",
     "output_type": "stream",
     "text": [
      "args - Uniques:\n",
      "\n",
      "[\"[{'name': 'option', 'type': 'int', 'value': 'PR_SET_NAME'}, {'name': 'arg2', 'type': 'unsigned long', 'value': 94819493392601}, {'name': 'arg3', 'type': 'unsigned long', 'value': 94819493392601}, {'name': 'arg4', 'type': 'unsigned long', 'value': 140662171848350}, {'name': 'arg5', 'type': 'unsigned long', 'value': 140662156379904}]\"\n",
      " \"[{'name': 'fd', 'type': 'int', 'value': 19}]\" '[]' ...\n",
      " \"[{'name': 'option', 'type': 'int', 'value': 'PR_SET_SECCOMP'}, {'name': 'arg2', 'type': 'unsigned long', 'value': 2}, {'name': 'arg3', 'type': 'unsigned long', 'value': 94764243566176}, {'name': 'arg4', 'type': 'unsigned long', 'value': 140537881935518}, {'name': 'arg5', 'type': 'unsigned long', 'value': 0}]\"\n",
      " \"[{'name': 'option', 'type': 'int', 'value': 'PR_SET_NO_NEW_PRIVS'}, {'name': 'arg2', 'type': 'unsigned long', 'value': 1}, {'name': 'arg3', 'type': 'unsigned long', 'value': 0}, {'name': 'arg4', 'type': 'unsigned long', 'value': 140537881935518}, {'name': 'arg5', 'type': 'unsigned long', 'value': 0}]\"\n",
      " \"[{'name': 'pid', 'type': 'pid_t', 'value': 7275}, {'name': 'sig', 'type': 'int', 'value': 14}]\"] \n",
      "\n",
      "No. Uniques: 214720\n"
     ]
    }
   ],
   "source": [
    "column_uniques(train_df, 'args')"
   ]
  },
  {
   "attachments": {},
   "cell_type": "markdown",
   "id": "b6653313",
   "metadata": {
    "papermill": {
     "duration": 0.089395,
     "end_time": "2021-10-24T12:53:35.877998",
     "exception": false,
     "start_time": "2021-10-24T12:53:35.788603",
     "status": "completed"
    },
    "tags": []
   },
   "source": [
    "This column looks very useful but also very messy. Let's create a small sub-sample and investigate futher\n",
    "\n",
    "# Down the Rabbit Hole - `args` column\n",
    "\n",
    "Let's create a small sample of 15 random rows"
   ]
  },
  {
   "cell_type": "code",
   "execution_count": 32,
   "id": "61cddc64",
   "metadata": {
    "execution": {
     "iopub.execute_input": "2021-10-24T12:53:36.075223Z",
     "iopub.status.busy": "2021-10-24T12:53:36.074146Z",
     "iopub.status.idle": "2021-10-24T12:53:36.105715Z",
     "shell.execute_reply": "2021-10-24T12:53:36.106507Z"
    },
    "papermill": {
     "duration": 0.136381,
     "end_time": "2021-10-24T12:53:36.106663",
     "exception": false,
     "start_time": "2021-10-24T12:53:35.970282",
     "status": "completed"
    },
    "tags": []
   },
   "outputs": [
    {
     "data": {
      "text/plain": [
       "177122          [{'name': 'fd', 'type': 'int', 'value': 9}]\n",
       "373280    [{'name': 'cap', 'type': 'int', 'value': 'CAP_...\n",
       "308561    [{'name': 'dirfd', 'type': 'int', 'value': -10...\n",
       "5304      [{'name': 'pathname', 'type': 'const char*', '...\n",
       "443058    [{'name': 'pathname', 'type': 'const char*', '...\n",
       "30792           [{'name': 'fd', 'type': 'int', 'value': 9}]\n",
       "696842    [{'name': 'oldfd', 'type': 'int', 'value': 5},...\n",
       "231563    [{'name': 'dirfd', 'type': 'int', 'value': -10...\n",
       "596975    [{'name': 'fd', 'type': 'unsigned int', 'value...\n",
       "194924    [{'name': 'pathname', 'type': 'const char*', '...\n",
       "246369    [{'name': 'pathname', 'type': 'const char*', '...\n",
       "749766    [{'name': 'dirfd', 'type': 'int', 'value': -10...\n",
       "632617    [{'name': 'dirfd', 'type': 'int', 'value': 6},...\n",
       "615272    [{'name': 'dirfd', 'type': 'int', 'value': 6},...\n",
       "500954    [{'name': 'pathname', 'type': 'const char*', '...\n",
       "Name: args, dtype: object"
      ]
     },
     "execution_count": 32,
     "metadata": {},
     "output_type": "execute_result"
    }
   ],
   "source": [
    "sample = train_df['args'].sample(n=15, random_state=1)\n",
    "sample"
   ]
  },
  {
   "cell_type": "code",
   "execution_count": 33,
   "id": "d38b1485",
   "metadata": {
    "execution": {
     "iopub.execute_input": "2021-10-24T12:53:36.299382Z",
     "iopub.status.busy": "2021-10-24T12:53:36.298589Z",
     "iopub.status.idle": "2021-10-24T12:53:36.304192Z",
     "shell.execute_reply": "2021-10-24T12:53:36.303712Z"
    },
    "papermill": {
     "duration": 0.104039,
     "end_time": "2021-10-24T12:53:36.304314",
     "exception": false,
     "start_time": "2021-10-24T12:53:36.200275",
     "status": "completed"
    },
    "tags": []
   },
   "outputs": [
    {
     "data": {
      "text/html": [
       "<div>\n",
       "<style scoped>\n",
       "    .dataframe tbody tr th:only-of-type {\n",
       "        vertical-align: middle;\n",
       "    }\n",
       "\n",
       "    .dataframe tbody tr th {\n",
       "        vertical-align: top;\n",
       "    }\n",
       "\n",
       "    .dataframe thead th {\n",
       "        text-align: right;\n",
       "    }\n",
       "</style>\n",
       "<table border=\"1\" class=\"dataframe\">\n",
       "  <thead>\n",
       "    <tr style=\"text-align: right;\">\n",
       "      <th></th>\n",
       "      <th>args</th>\n",
       "    </tr>\n",
       "  </thead>\n",
       "  <tbody>\n",
       "    <tr>\n",
       "      <th>177122</th>\n",
       "      <td>[{'name': 'fd', 'type': 'int', 'value': 9}]</td>\n",
       "    </tr>\n",
       "    <tr>\n",
       "      <th>373280</th>\n",
       "      <td>[{'name': 'cap', 'type': 'int', 'value': 'CAP_...</td>\n",
       "    </tr>\n",
       "    <tr>\n",
       "      <th>308561</th>\n",
       "      <td>[{'name': 'dirfd', 'type': 'int', 'value': -10...</td>\n",
       "    </tr>\n",
       "    <tr>\n",
       "      <th>5304</th>\n",
       "      <td>[{'name': 'pathname', 'type': 'const char*', '...</td>\n",
       "    </tr>\n",
       "    <tr>\n",
       "      <th>443058</th>\n",
       "      <td>[{'name': 'pathname', 'type': 'const char*', '...</td>\n",
       "    </tr>\n",
       "    <tr>\n",
       "      <th>30792</th>\n",
       "      <td>[{'name': 'fd', 'type': 'int', 'value': 9}]</td>\n",
       "    </tr>\n",
       "    <tr>\n",
       "      <th>696842</th>\n",
       "      <td>[{'name': 'oldfd', 'type': 'int', 'value': 5},...</td>\n",
       "    </tr>\n",
       "    <tr>\n",
       "      <th>231563</th>\n",
       "      <td>[{'name': 'dirfd', 'type': 'int', 'value': -10...</td>\n",
       "    </tr>\n",
       "    <tr>\n",
       "      <th>596975</th>\n",
       "      <td>[{'name': 'fd', 'type': 'unsigned int', 'value...</td>\n",
       "    </tr>\n",
       "    <tr>\n",
       "      <th>194924</th>\n",
       "      <td>[{'name': 'pathname', 'type': 'const char*', '...</td>\n",
       "    </tr>\n",
       "    <tr>\n",
       "      <th>246369</th>\n",
       "      <td>[{'name': 'pathname', 'type': 'const char*', '...</td>\n",
       "    </tr>\n",
       "    <tr>\n",
       "      <th>749766</th>\n",
       "      <td>[{'name': 'dirfd', 'type': 'int', 'value': -10...</td>\n",
       "    </tr>\n",
       "    <tr>\n",
       "      <th>632617</th>\n",
       "      <td>[{'name': 'dirfd', 'type': 'int', 'value': 6},...</td>\n",
       "    </tr>\n",
       "    <tr>\n",
       "      <th>615272</th>\n",
       "      <td>[{'name': 'dirfd', 'type': 'int', 'value': 6},...</td>\n",
       "    </tr>\n",
       "    <tr>\n",
       "      <th>500954</th>\n",
       "      <td>[{'name': 'pathname', 'type': 'const char*', '...</td>\n",
       "    </tr>\n",
       "  </tbody>\n",
       "</table>\n",
       "</div>"
      ],
      "text/plain": [
       "                                                     args\n",
       "177122        [{'name': 'fd', 'type': 'int', 'value': 9}]\n",
       "373280  [{'name': 'cap', 'type': 'int', 'value': 'CAP_...\n",
       "308561  [{'name': 'dirfd', 'type': 'int', 'value': -10...\n",
       "5304    [{'name': 'pathname', 'type': 'const char*', '...\n",
       "443058  [{'name': 'pathname', 'type': 'const char*', '...\n",
       "30792         [{'name': 'fd', 'type': 'int', 'value': 9}]\n",
       "696842  [{'name': 'oldfd', 'type': 'int', 'value': 5},...\n",
       "231563  [{'name': 'dirfd', 'type': 'int', 'value': -10...\n",
       "596975  [{'name': 'fd', 'type': 'unsigned int', 'value...\n",
       "194924  [{'name': 'pathname', 'type': 'const char*', '...\n",
       "246369  [{'name': 'pathname', 'type': 'const char*', '...\n",
       "749766  [{'name': 'dirfd', 'type': 'int', 'value': -10...\n",
       "632617  [{'name': 'dirfd', 'type': 'int', 'value': 6},...\n",
       "615272  [{'name': 'dirfd', 'type': 'int', 'value': 6},...\n",
       "500954  [{'name': 'pathname', 'type': 'const char*', '..."
      ]
     },
     "execution_count": 33,
     "metadata": {},
     "output_type": "execute_result"
    }
   ],
   "source": [
    "sample_df = pd.DataFrame(sample)\n",
    "sample_df"
   ]
  },
  {
   "attachments": {},
   "cell_type": "markdown",
   "id": "cb787cf7",
   "metadata": {
    "papermill": {
     "duration": 0.091868,
     "end_time": "2021-10-24T12:53:36.488736",
     "exception": false,
     "start_time": "2021-10-24T12:53:36.396868",
     "status": "completed"
    },
    "tags": []
   },
   "source": [
    "As we can see from this sample, there seems to be a pattern here. All of the values start with `[{` and end with `}]` which suggests it could be a dictionary within a list or maybe even json. Let's try to process a row and see if we can load it as json."
   ]
  },
  {
   "cell_type": "code",
   "execution_count": 34,
   "id": "5ced0d6c",
   "metadata": {
    "execution": {
     "iopub.execute_input": "2021-10-24T12:53:36.677976Z",
     "iopub.status.busy": "2021-10-24T12:53:36.677287Z",
     "iopub.status.idle": "2021-10-24T12:53:36.680220Z",
     "shell.execute_reply": "2021-10-24T12:53:36.680650Z"
    },
    "papermill": {
     "duration": 0.099396,
     "end_time": "2021-10-24T12:53:36.680822",
     "exception": false,
     "start_time": "2021-10-24T12:53:36.581426",
     "status": "completed"
    },
    "tags": []
   },
   "outputs": [
    {
     "data": {
      "text/plain": [
       "args    [{'name': 'fd', 'type': 'int', 'value': 9}]\n",
       "Name: 177122, dtype: object"
      ]
     },
     "execution_count": 34,
     "metadata": {},
     "output_type": "execute_result"
    }
   ],
   "source": [
    "sample_df.iloc[0]"
   ]
  },
  {
   "cell_type": "code",
   "execution_count": 35,
   "id": "bc7f1751",
   "metadata": {
    "execution": {
     "iopub.execute_input": "2021-10-24T12:53:36.871521Z",
     "iopub.status.busy": "2021-10-24T12:53:36.870922Z",
     "iopub.status.idle": "2021-10-24T12:53:36.873667Z",
     "shell.execute_reply": "2021-10-24T12:53:36.874081Z"
    },
    "papermill": {
     "duration": 0.102215,
     "end_time": "2021-10-24T12:53:36.874223",
     "exception": false,
     "start_time": "2021-10-24T12:53:36.772008",
     "status": "completed"
    },
    "tags": []
   },
   "outputs": [
    {
     "data": {
      "text/plain": [
       "\"[{'name': 'fd', 'type': 'int', 'value': 9}]\""
      ]
     },
     "execution_count": 35,
     "metadata": {},
     "output_type": "execute_result"
    }
   ],
   "source": [
    "sample1 = sample_df.iloc[0]\n",
    "sample1 = sample1.replace(\"[\", \"\").replace(\"]\", \"\").replace(\"'\", '\"')\n",
    "sample1 = sample1[0]\n",
    "sample1"
   ]
  },
  {
   "cell_type": "code",
   "execution_count": 36,
   "id": "fbcdae67",
   "metadata": {
    "execution": {
     "iopub.execute_input": "2021-10-24T12:53:37.064926Z",
     "iopub.status.busy": "2021-10-24T12:53:37.064350Z",
     "iopub.status.idle": "2021-10-24T12:53:37.068309Z",
     "shell.execute_reply": "2021-10-24T12:53:37.067886Z"
    },
    "papermill": {
     "duration": 0.100111,
     "end_time": "2021-10-24T12:53:37.068431",
     "exception": false,
     "start_time": "2021-10-24T12:53:36.968320",
     "status": "completed"
    },
    "tags": []
   },
   "outputs": [],
   "source": [
    "sample1 = json.dumps(sample1)\n",
    "test1 = json.loads(sample1)"
   ]
  },
  {
   "cell_type": "code",
   "execution_count": 37,
   "id": "a0975a35",
   "metadata": {
    "execution": {
     "iopub.execute_input": "2021-10-24T12:53:37.259172Z",
     "iopub.status.busy": "2021-10-24T12:53:37.258575Z",
     "iopub.status.idle": "2021-10-24T12:53:37.264024Z",
     "shell.execute_reply": "2021-10-24T12:53:37.263581Z"
    },
    "papermill": {
     "duration": 0.102246,
     "end_time": "2021-10-24T12:53:37.264143",
     "exception": false,
     "start_time": "2021-10-24T12:53:37.161897",
     "status": "completed"
    },
    "tags": []
   },
   "outputs": [
    {
     "data": {
      "text/plain": [
       "\"[{'name': 'fd', 'type': 'int', 'value': 9}]\""
      ]
     },
     "execution_count": 37,
     "metadata": {},
     "output_type": "execute_result"
    }
   ],
   "source": [
    "test1"
   ]
  },
  {
   "attachments": {},
   "cell_type": "markdown",
   "id": "3568062a",
   "metadata": {
    "papermill": {
     "duration": 0.093077,
     "end_time": "2021-10-24T12:53:37.449425",
     "exception": false,
     "start_time": "2021-10-24T12:53:37.356348",
     "status": "completed"
    },
    "tags": []
   },
   "source": [
    "This looks like a potential option if we can get each of the fields into a JSON compatible state. Let's see how it works on the rest of the sample"
   ]
  },
  {
   "cell_type": "code",
   "execution_count": 38,
   "id": "bfa1ba85",
   "metadata": {
    "execution": {
     "iopub.execute_input": "2021-10-24T12:53:37.639128Z",
     "iopub.status.busy": "2021-10-24T12:53:37.638147Z",
     "iopub.status.idle": "2021-10-24T12:53:37.640767Z",
     "shell.execute_reply": "2021-10-24T12:53:37.640353Z"
    },
    "papermill": {
     "duration": 0.099003,
     "end_time": "2021-10-24T12:53:37.640884",
     "exception": false,
     "start_time": "2021-10-24T12:53:37.541881",
     "status": "completed"
    },
    "tags": []
   },
   "outputs": [],
   "source": [
    "def strip_string(input_str):\n",
    "    \"\"\"\n",
    "    Takes an input string and replaces specific\n",
    "    puncutation marks with nothing\n",
    "    \n",
    "    Args:\n",
    "        input_str: The string to be processed\n",
    "    \n",
    "    Returns:\n",
    "        The processed string\n",
    "    \"\"\"\n",
    "    assert isinstance(input_str, str)\n",
    "    return input_str.replace(\"[\", \"\").replace(\"]\", \"\").replace(\"'\", '\"')"
   ]
  },
  {
   "cell_type": "code",
   "execution_count": 39,
   "id": "8c7cdab4",
   "metadata": {
    "execution": {
     "iopub.execute_input": "2021-10-24T12:53:37.828146Z",
     "iopub.status.busy": "2021-10-24T12:53:37.827391Z",
     "iopub.status.idle": "2021-10-24T12:53:37.829860Z",
     "shell.execute_reply": "2021-10-24T12:53:37.830307Z"
    },
    "papermill": {
     "duration": 0.098815,
     "end_time": "2021-10-24T12:53:37.830438",
     "exception": false,
     "start_time": "2021-10-24T12:53:37.731623",
     "status": "completed"
    },
    "tags": []
   },
   "outputs": [],
   "source": [
    "sample_df['stripped_args'] = sample_df['args'].apply(strip_string)"
   ]
  },
  {
   "cell_type": "code",
   "execution_count": 40,
   "id": "55066abe",
   "metadata": {
    "execution": {
     "iopub.execute_input": "2021-10-24T12:53:38.027701Z",
     "iopub.status.busy": "2021-10-24T12:53:38.026605Z",
     "iopub.status.idle": "2021-10-24T12:53:38.033122Z",
     "shell.execute_reply": "2021-10-24T12:53:38.033783Z"
    },
    "papermill": {
     "duration": 0.112429,
     "end_time": "2021-10-24T12:53:38.033987",
     "exception": false,
     "start_time": "2021-10-24T12:53:37.921558",
     "status": "completed"
    },
    "tags": []
   },
   "outputs": [
    {
     "name": "stdout",
     "output_type": "stream",
     "text": [
      "{\"name\": \"fd\", \"type\": \"int\", \"value\": 9}\n",
      "\n",
      "\n",
      "{\"name\": \"cap\", \"type\": \"int\", \"value\": \"CAP_DAC_OVERRIDE\"}\n",
      "\n",
      "\n",
      "{\"name\": \"dirfd\", \"type\": \"int\", \"value\": -100}, {\"name\": \"pathname\", \"type\": \"const char*\", \"value\": \"/proc/88/stat\"}, {\"name\": \"flags\", \"type\": \"unsigned long\", \"value\": \"O_RDONLY\"}, {\"name\": \"mode\", \"type\": \"int*\", \"value\": 3849653931}\n",
      "\n",
      "\n",
      "{\"name\": \"pathname\", \"type\": \"const char*\", \"value\": \"/proc/7141\"}, {\"name\": \"statbuf\", \"type\": \"struct stat*\", \"value\": \"0x7F521D47F680\"}\n",
      "\n",
      "\n",
      "{\"name\": \"pathname\", \"type\": \"const char*\", \"value\": \"/proc/7582/comm\"}, {\"name\": \"flags\", \"type\": \"int\", \"value\": \"O_RDONLY|O_LARGEFILE\"}, {\"name\": \"dev\", \"type\": \"dev_t\", \"value\": 5}, {\"name\": \"inode\", \"type\": \"unsigned long\", \"value\": 46124}\n",
      "\n",
      "\n",
      "{\"name\": \"fd\", \"type\": \"int\", \"value\": 9}\n",
      "\n",
      "\n",
      "{\"name\": \"oldfd\", \"type\": \"int\", \"value\": 5}, {\"name\": \"newfd\", \"type\": \"int\", \"value\": 1}\n",
      "\n",
      "\n",
      "{\"name\": \"dirfd\", \"type\": \"int\", \"value\": -100}, {\"name\": \"pathname\", \"type\": \"const char*\", \"value\": \"/proc/22/stat\"}, {\"name\": \"flags\", \"type\": \"int\", \"value\": \"O_RDONLY\"}, {\"name\": \"mode\", \"type\": \"mode_t\", \"value\": 1532681899}\n",
      "\n",
      "\n",
      "{\"name\": \"fd\", \"type\": \"unsigned int\", \"value\": 16}\n",
      "\n",
      "\n",
      "{\"name\": \"pathname\", \"type\": \"const char*\", \"value\": \"/proc/504/status\"}, {\"name\": \"flags\", \"type\": \"int\", \"value\": \"O_RDONLY|O_LARGEFILE\"}, {\"name\": \"dev\", \"type\": \"dev_t\", \"value\": 5}, {\"name\": \"inode\", \"type\": \"unsigned long\", \"value\": 38957}\n",
      "\n",
      "\n",
      "{\"name\": \"pathname\", \"type\": \"const char*\", \"value\": \"/proc/646/stat\"}, {\"name\": \"flags\", \"type\": \"int\", \"value\": \"O_RDONLY|O_LARGEFILE\"}, {\"name\": \"dev\", \"type\": \"dev_t\", \"value\": 5}, {\"name\": \"inode\", \"type\": \"unsigned long\", \"value\": 39185}\n",
      "\n",
      "\n",
      "{\"name\": \"dirfd\", \"type\": \"int\", \"value\": -100}, {\"name\": \"pathname\", \"type\": \"const char*\", \"value\": \"/lib/x86_64-linux-gnu/libnsl.so.1\"}, {\"name\": \"flags\", \"type\": \"int\", \"value\": \"O_RDONLY|O_CLOEXEC\"}, {\"name\": \"mode\", \"type\": \"mode_t\", \"value\": 1472757592}\n",
      "\n",
      "\n",
      "{\"name\": \"dirfd\", \"type\": \"int\", \"value\": 6}, {\"name\": \"pathname\", \"type\": \"const char*\", \"value\": \"sys\"}, {\"name\": \"flags\", \"type\": \"int\", \"value\": \"O_RDONLY|O_NOFOLLOW|O_CLOEXEC|O_PATH\"}, {\"name\": \"mode\", \"type\": \"mode_t\", \"value\": 678600742}\n",
      "\n",
      "\n",
      "{\"name\": \"dirfd\", \"type\": \"int\", \"value\": 6}, {\"name\": \"pathname\", \"type\": \"const char*\", \"value\": \"sys\"}, {\"name\": \"flags\", \"type\": \"unsigned long\", \"value\": \"O_RDONLY|O_NOFOLLOW|O_CLOEXEC|O_PATH\"}, {\"name\": \"mode\", \"type\": \"int*\", \"value\": 1215512614}\n",
      "\n",
      "\n",
      "{\"name\": \"pathname\", \"type\": \"const char*\", \"value\": \"/sys/devices/virtual/dmi/id/sys_vendor\"}, {\"name\": \"flags\", \"type\": \"unsigned int\", \"value\": \"O_RDONLY|O_LARGEFILE\"}, {\"name\": \"dev\", \"type\": \"dev_t\", \"value\": 22}, {\"name\": \"inode\", \"type\": \"unsigned long\", \"value\": 721}\n",
      "\n",
      "\n"
     ]
    }
   ],
   "source": [
    "for i in sample_df['stripped_args']:\n",
    "    print(i)\n",
    "    print('\\n')"
   ]
  },
  {
   "attachments": {},
   "cell_type": "markdown",
   "id": "ac47e556",
   "metadata": {
    "papermill": {
     "duration": 0.091721,
     "end_time": "2021-10-24T12:53:38.218159",
     "exception": false,
     "start_time": "2021-10-24T12:53:38.126438",
     "status": "completed"
    },
    "tags": []
   },
   "source": [
    "Looks like we have a pretty big problem here. Most of the records within our sample are actually multiple dictionaries/dictonary like objects with the same keys. It might be worth changing tactics and seeing if what we can do with the original field.\n",
    "\n",
    "## Lets take a more complicated example\n",
    "\n",
    "The 3rd row in the sample is a bit more complicated. We have four sets of values which have the same keys (`name`, `type` and `value`) and a good variation of values. "
   ]
  },
  {
   "cell_type": "code",
   "execution_count": 41,
   "id": "7121e329",
   "metadata": {
    "execution": {
     "iopub.execute_input": "2021-10-24T12:53:38.409722Z",
     "iopub.status.busy": "2021-10-24T12:53:38.408480Z",
     "iopub.status.idle": "2021-10-24T12:53:38.413107Z",
     "shell.execute_reply": "2021-10-24T12:53:38.413493Z"
    },
    "papermill": {
     "duration": 0.103271,
     "end_time": "2021-10-24T12:53:38.413640",
     "exception": false,
     "start_time": "2021-10-24T12:53:38.310369",
     "status": "completed"
    },
    "tags": []
   },
   "outputs": [
    {
     "data": {
      "text/plain": [
       "\"[{'name': 'dirfd', 'type': 'int', 'value': -100}, {'name': 'pathname', 'type': 'const char*', 'value': '/proc/88/stat'}, {'name': 'flags', 'type': 'unsigned long', 'value': 'O_RDONLY'}, {'name': 'mode', 'type': 'int*', 'value': 3849653931}]\""
      ]
     },
     "execution_count": 41,
     "metadata": {},
     "output_type": "execute_result"
    }
   ],
   "source": [
    "sample_df['args'].iloc[2]"
   ]
  },
  {
   "cell_type": "code",
   "execution_count": 42,
   "id": "64b979da",
   "metadata": {
    "execution": {
     "iopub.execute_input": "2021-10-24T12:53:38.611004Z",
     "iopub.status.busy": "2021-10-24T12:53:38.610114Z",
     "iopub.status.idle": "2021-10-24T12:53:38.612900Z",
     "shell.execute_reply": "2021-10-24T12:53:38.612425Z"
    },
    "papermill": {
     "duration": 0.100249,
     "end_time": "2021-10-24T12:53:38.613022",
     "exception": false,
     "start_time": "2021-10-24T12:53:38.512773",
     "status": "completed"
    },
    "tags": []
   },
   "outputs": [],
   "source": [
    "test2 = sample_df['args'].iloc[2]"
   ]
  },
  {
   "attachments": {},
   "cell_type": "markdown",
   "id": "2cbd3252",
   "metadata": {
    "papermill": {
     "duration": 0.092057,
     "end_time": "2021-10-24T12:53:38.798038",
     "exception": false,
     "start_time": "2021-10-24T12:53:38.705981",
     "status": "completed"
    },
    "tags": []
   },
   "source": [
    "### Stage One: Isolate each individual dictionary-like object"
   ]
  },
  {
   "cell_type": "code",
   "execution_count": 43,
   "id": "12703549",
   "metadata": {
    "execution": {
     "iopub.execute_input": "2021-10-24T12:53:38.999911Z",
     "iopub.status.busy": "2021-10-24T12:53:38.999291Z",
     "iopub.status.idle": "2021-10-24T12:53:39.004134Z",
     "shell.execute_reply": "2021-10-24T12:53:39.003693Z"
    },
    "papermill": {
     "duration": 0.111262,
     "end_time": "2021-10-24T12:53:39.004255",
     "exception": false,
     "start_time": "2021-10-24T12:53:38.892993",
     "status": "completed"
    },
    "tags": []
   },
   "outputs": [
    {
     "data": {
      "text/plain": [
       "[\"[{'name': 'dirfd', 'type': 'int', 'value': -100\",\n",
       " \" {'name': 'pathname', 'type': 'const char*', 'value': '/proc/88/stat'\",\n",
       " \" {'name': 'flags', 'type': 'unsigned long', 'value': 'O_RDONLY'\",\n",
       " \" {'name': 'mode', 'type': 'int*', 'value': 3849653931}]\"]"
      ]
     },
     "execution_count": 43,
     "metadata": {},
     "output_type": "execute_result"
    }
   ],
   "source": [
    "split_test2 = test2.split('},')\n",
    "split_test2"
   ]
  },
  {
   "attachments": {},
   "cell_type": "markdown",
   "id": "3c03fff2",
   "metadata": {
    "papermill": {
     "duration": 0.092341,
     "end_time": "2021-10-24T12:53:39.190309",
     "exception": false,
     "start_time": "2021-10-24T12:53:39.097968",
     "status": "completed"
    },
    "tags": []
   },
   "source": [
    "### Stage Two: Clean up the string by replacing punctuation and stripping blank space\n",
    "\n",
    "*Note: I have taken a similar approach to the string cleaning as the example above. The key difference here is that I am using a list comprehension to process all of the strings at once rather than just individual strings*"
   ]
  },
  {
   "cell_type": "code",
   "execution_count": 44,
   "id": "738cfd7b",
   "metadata": {
    "execution": {
     "iopub.execute_input": "2021-10-24T12:53:39.382513Z",
     "iopub.status.busy": "2021-10-24T12:53:39.381937Z",
     "iopub.status.idle": "2021-10-24T12:53:39.384611Z",
     "shell.execute_reply": "2021-10-24T12:53:39.385045Z"
    },
    "papermill": {
     "duration": 0.101159,
     "end_time": "2021-10-24T12:53:39.385204",
     "exception": false,
     "start_time": "2021-10-24T12:53:39.284045",
     "status": "completed"
    },
    "tags": []
   },
   "outputs": [
    {
     "data": {
      "text/plain": [
       "['name: dirfd, type: int, value: -100',\n",
       " 'name: pathname, type: const char*, value: /proc/88/stat',\n",
       " 'name: flags, type: unsigned long, value: O_RDONLY',\n",
       " 'name: mode, type: int*, value: 3849653931']"
      ]
     },
     "execution_count": 44,
     "metadata": {},
     "output_type": "execute_result"
    }
   ],
   "source": [
    "strings = [string.replace(\"[\", \"\").replace(\"]\", \"\").replace(\"{\", \"\").replace(\"'\", \"\").replace(\"}\", \"\").lstrip(\" \") for string in split_test2]\n",
    "strings"
   ]
  },
  {
   "attachments": {},
   "cell_type": "markdown",
   "id": "f3883441",
   "metadata": {
    "papermill": {
     "duration": 0.094876,
     "end_time": "2021-10-24T12:53:39.572303",
     "exception": false,
     "start_time": "2021-10-24T12:53:39.477427",
     "status": "completed"
    },
    "tags": []
   },
   "source": [
    "We are getting there. As you can see from the above output, we now have each of the dictionary-like objects cleaned and each one is an item within a list minus all of the extra punctuation. The next stage is to break up each string to give us `key:value` pairs. For example, for the first string in the list above `name: dirfd, type: int, value: -100`, we want to get `['name: dirfd', 'type: int', 'value: -100']`\n",
    "\n",
    "### Stage Three: Split each string into it's `key:value` pairs"
   ]
  },
  {
   "cell_type": "code",
   "execution_count": 45,
   "id": "b40e6ebc",
   "metadata": {
    "execution": {
     "iopub.execute_input": "2021-10-24T12:53:39.766288Z",
     "iopub.status.busy": "2021-10-24T12:53:39.765587Z",
     "iopub.status.idle": "2021-10-24T12:53:39.769116Z",
     "shell.execute_reply": "2021-10-24T12:53:39.768690Z"
    },
    "papermill": {
     "duration": 0.102336,
     "end_time": "2021-10-24T12:53:39.769233",
     "exception": false,
     "start_time": "2021-10-24T12:53:39.666897",
     "status": "completed"
    },
    "tags": []
   },
   "outputs": [
    {
     "data": {
      "text/plain": [
       "[['name: dirfd', ' type: int', ' value: -100'],\n",
       " ['name: pathname', ' type: const char*', ' value: /proc/88/stat'],\n",
       " ['name: flags', ' type: unsigned long', ' value: O_RDONLY'],\n",
       " ['name: mode', ' type: int*', ' value: 3849653931']]"
      ]
     },
     "execution_count": 45,
     "metadata": {},
     "output_type": "execute_result"
    }
   ],
   "source": [
    "list_of_lists = [item.split(',') for item in strings]\n",
    "list_of_lists"
   ]
  },
  {
   "attachments": {},
   "cell_type": "markdown",
   "id": "e3fde50a",
   "metadata": {
    "papermill": {
     "duration": 0.092933,
     "end_time": "2021-10-24T12:53:39.955305",
     "exception": false,
     "start_time": "2021-10-24T12:53:39.862372",
     "status": "completed"
    },
    "tags": []
   },
   "source": [
    "This is starting to look promising! The next stage is to break each of element in each list into it's `key:value` pairs and then turn into an actual dictionary. \n",
    "\n",
    "### Stage Four: Breaking each element into key value pairs and convert to dictionary"
   ]
  },
  {
   "cell_type": "code",
   "execution_count": 45,
   "id": "309fc089",
   "metadata": {
    "execution": {
     "iopub.execute_input": "2021-10-24T12:53:40.147256Z",
     "iopub.status.busy": "2021-10-24T12:53:40.146440Z",
     "iopub.status.idle": "2021-10-24T12:53:40.149423Z",
     "shell.execute_reply": "2021-10-24T12:53:40.148893Z"
    },
    "papermill": {
     "duration": 0.100371,
     "end_time": "2021-10-24T12:53:40.149542",
     "exception": false,
     "start_time": "2021-10-24T12:53:40.049171",
     "status": "completed"
    },
    "tags": []
   },
   "outputs": [],
   "source": [
    "output = []\n",
    "for lst in list_of_lists:\n",
    "    for key_value in lst:\n",
    "        key, value = key_value.split(': ', 1)\n",
    "        if not output or key in output[-1]:\n",
    "            output.append({})\n",
    "        output[-1][key] = value"
   ]
  },
  {
   "cell_type": "code",
   "execution_count": 46,
   "id": "31bb6a31",
   "metadata": {
    "execution": {
     "iopub.execute_input": "2021-10-24T12:53:40.353186Z",
     "iopub.status.busy": "2021-10-24T12:53:40.352445Z",
     "iopub.status.idle": "2021-10-24T12:53:40.356115Z",
     "shell.execute_reply": "2021-10-24T12:53:40.355662Z"
    },
    "papermill": {
     "duration": 0.106793,
     "end_time": "2021-10-24T12:53:40.356236",
     "exception": false,
     "start_time": "2021-10-24T12:53:40.249443",
     "status": "completed"
    },
    "tags": []
   },
   "outputs": [
    {
     "data": {
      "text/plain": [
       "[{'name': 'dirfd', ' type': 'int', ' value': '-100'},\n",
       " {'name': 'pathname', ' type': 'const char*', ' value': '/proc/88/stat'},\n",
       " {'name': 'flags', ' type': 'unsigned long', ' value': 'O_RDONLY'},\n",
       " {'name': 'mode', ' type': 'int*', ' value': '3849653931'}]"
      ]
     },
     "execution_count": 46,
     "metadata": {},
     "output_type": "execute_result"
    }
   ],
   "source": [
    "output"
   ]
  },
  {
   "attachments": {},
   "cell_type": "markdown",
   "id": "5789f227",
   "metadata": {
    "papermill": {
     "duration": 0.093559,
     "end_time": "2021-10-24T12:53:40.544452",
     "exception": false,
     "start_time": "2021-10-24T12:53:40.450893",
     "status": "completed"
    },
    "tags": []
   },
   "source": [
    "### Stage 5: Convert the List of Dictionaries into a Pandas Dataframe using json_normalize\n",
    "\n",
    "This stage has two steps - The first is to dump the list of dictionaries to a JSON object and then use `pd.json_normalize` and `json.loads` to load it into a DataFrame."
   ]
  },
  {
   "cell_type": "code",
   "execution_count": 47,
   "id": "9760715c",
   "metadata": {
    "execution": {
     "iopub.execute_input": "2021-10-24T12:53:40.737319Z",
     "iopub.status.busy": "2021-10-24T12:53:40.736524Z",
     "iopub.status.idle": "2021-10-24T12:53:40.739327Z",
     "shell.execute_reply": "2021-10-24T12:53:40.738872Z"
    },
    "papermill": {
     "duration": 0.101229,
     "end_time": "2021-10-24T12:53:40.739434",
     "exception": false,
     "start_time": "2021-10-24T12:53:40.638205",
     "status": "completed"
    },
    "tags": []
   },
   "outputs": [],
   "source": [
    "json_output = json.dumps(output)"
   ]
  },
  {
   "cell_type": "code",
   "execution_count": 48,
   "id": "0e1ab4d4",
   "metadata": {
    "execution": {
     "iopub.execute_input": "2021-10-24T12:53:40.937282Z",
     "iopub.status.busy": "2021-10-24T12:53:40.936493Z",
     "iopub.status.idle": "2021-10-24T12:53:40.940194Z",
     "shell.execute_reply": "2021-10-24T12:53:40.939788Z"
    },
    "papermill": {
     "duration": 0.107722,
     "end_time": "2021-10-24T12:53:40.940310",
     "exception": false,
     "start_time": "2021-10-24T12:53:40.832588",
     "status": "completed"
    },
    "tags": []
   },
   "outputs": [
    {
     "data": {
      "text/html": [
       "<div>\n",
       "<style scoped>\n",
       "    .dataframe tbody tr th:only-of-type {\n",
       "        vertical-align: middle;\n",
       "    }\n",
       "\n",
       "    .dataframe tbody tr th {\n",
       "        vertical-align: top;\n",
       "    }\n",
       "\n",
       "    .dataframe thead th {\n",
       "        text-align: right;\n",
       "    }\n",
       "</style>\n",
       "<table border=\"1\" class=\"dataframe\">\n",
       "  <thead>\n",
       "    <tr style=\"text-align: right;\">\n",
       "      <th></th>\n",
       "      <th>name</th>\n",
       "      <th>type</th>\n",
       "      <th>value</th>\n",
       "    </tr>\n",
       "  </thead>\n",
       "  <tbody>\n",
       "    <tr>\n",
       "      <th>0</th>\n",
       "      <td>dirfd</td>\n",
       "      <td>int</td>\n",
       "      <td>-100</td>\n",
       "    </tr>\n",
       "    <tr>\n",
       "      <th>1</th>\n",
       "      <td>pathname</td>\n",
       "      <td>const char*</td>\n",
       "      <td>/proc/88/stat</td>\n",
       "    </tr>\n",
       "    <tr>\n",
       "      <th>2</th>\n",
       "      <td>flags</td>\n",
       "      <td>unsigned long</td>\n",
       "      <td>O_RDONLY</td>\n",
       "    </tr>\n",
       "    <tr>\n",
       "      <th>3</th>\n",
       "      <td>mode</td>\n",
       "      <td>int*</td>\n",
       "      <td>3849653931</td>\n",
       "    </tr>\n",
       "  </tbody>\n",
       "</table>\n",
       "</div>"
      ],
      "text/plain": [
       "       name           type          value\n",
       "0     dirfd            int           -100\n",
       "1  pathname    const char*  /proc/88/stat\n",
       "2     flags  unsigned long       O_RDONLY\n",
       "3      mode           int*     3849653931"
      ]
     },
     "execution_count": 48,
     "metadata": {},
     "output_type": "execute_result"
    }
   ],
   "source": [
    "interim_df = pd.json_normalize(json.loads(json_output))\n",
    "interim_df"
   ]
  },
  {
   "attachments": {},
   "cell_type": "markdown",
   "id": "ee7c37a9",
   "metadata": {
    "papermill": {
     "duration": 0.096133,
     "end_time": "2021-10-24T12:53:41.131821",
     "exception": false,
     "start_time": "2021-10-24T12:53:41.035688",
     "status": "completed"
    },
    "tags": []
   },
   "source": [
    "This is starting to look much better but we still have a major problem. Each row within the dataset contains the `args` field and as we can see from the output above, we have generated 4 rows worth of data for just one row. The next stage is to use some pandas magic to turn this dataframe into a single row.\n",
    "\n",
    "### Stage 6: Convert `iterim_df` into a single row\n",
    "\n",
    "*Note: The 2/3 line version of this can be found in a couple of cells time, I have broken it out to make it eaiser to understand how each steps works for folks that are unfamiliar with this sort of processing*\n",
    "\n",
    "#### Step 1: Unstack\n",
    "\n",
    "I like to think of unstack as like a whole dataframe groupby where you are grouping stuff by its column."
   ]
  },
  {
   "cell_type": "code",
   "execution_count": 49,
   "id": "00341fe1",
   "metadata": {
    "execution": {
     "iopub.execute_input": "2021-10-24T12:53:41.329237Z",
     "iopub.status.busy": "2021-10-24T12:53:41.328474Z",
     "iopub.status.idle": "2021-10-24T12:53:41.332111Z",
     "shell.execute_reply": "2021-10-24T12:53:41.331552Z"
    },
    "papermill": {
     "duration": 0.10535,
     "end_time": "2021-10-24T12:53:41.332230",
     "exception": false,
     "start_time": "2021-10-24T12:53:41.226880",
     "status": "completed"
    },
    "tags": []
   },
   "outputs": [
    {
     "data": {
      "text/plain": [
       "name    0            dirfd\n",
       "        1         pathname\n",
       "        2            flags\n",
       "        3             mode\n",
       " type   0              int\n",
       "        1      const char*\n",
       "        2    unsigned long\n",
       "        3             int*\n",
       " value  0             -100\n",
       "        1    /proc/88/stat\n",
       "        2         O_RDONLY\n",
       "        3       3849653931\n",
       "dtype: object"
      ]
     },
     "execution_count": 49,
     "metadata": {},
     "output_type": "execute_result"
    }
   ],
   "source": [
    "interim_df.unstack()"
   ]
  },
  {
   "attachments": {},
   "cell_type": "markdown",
   "id": "a9a90d41",
   "metadata": {
    "papermill": {
     "duration": 0.095669,
     "end_time": "2021-10-24T12:53:41.523579",
     "exception": false,
     "start_time": "2021-10-24T12:53:41.427910",
     "status": "completed"
    },
    "tags": []
   },
   "source": [
    "#### Step 2: Turn into a DataFrame"
   ]
  },
  {
   "cell_type": "code",
   "execution_count": 50,
   "id": "6d039320",
   "metadata": {
    "execution": {
     "iopub.execute_input": "2021-10-24T12:53:41.727058Z",
     "iopub.status.busy": "2021-10-24T12:53:41.726487Z",
     "iopub.status.idle": "2021-10-24T12:53:41.731487Z",
     "shell.execute_reply": "2021-10-24T12:53:41.731043Z"
    },
    "papermill": {
     "duration": 0.111298,
     "end_time": "2021-10-24T12:53:41.731599",
     "exception": false,
     "start_time": "2021-10-24T12:53:41.620301",
     "status": "completed"
    },
    "tags": []
   },
   "outputs": [
    {
     "data": {
      "text/html": [
       "<div>\n",
       "<style scoped>\n",
       "    .dataframe tbody tr th:only-of-type {\n",
       "        vertical-align: middle;\n",
       "    }\n",
       "\n",
       "    .dataframe tbody tr th {\n",
       "        vertical-align: top;\n",
       "    }\n",
       "\n",
       "    .dataframe thead th {\n",
       "        text-align: right;\n",
       "    }\n",
       "</style>\n",
       "<table border=\"1\" class=\"dataframe\">\n",
       "  <thead>\n",
       "    <tr style=\"text-align: right;\">\n",
       "      <th></th>\n",
       "      <th></th>\n",
       "      <th>0</th>\n",
       "    </tr>\n",
       "  </thead>\n",
       "  <tbody>\n",
       "    <tr>\n",
       "      <th rowspan=\"4\" valign=\"top\">name</th>\n",
       "      <th>0</th>\n",
       "      <td>dirfd</td>\n",
       "    </tr>\n",
       "    <tr>\n",
       "      <th>1</th>\n",
       "      <td>pathname</td>\n",
       "    </tr>\n",
       "    <tr>\n",
       "      <th>2</th>\n",
       "      <td>flags</td>\n",
       "    </tr>\n",
       "    <tr>\n",
       "      <th>3</th>\n",
       "      <td>mode</td>\n",
       "    </tr>\n",
       "    <tr>\n",
       "      <th rowspan=\"4\" valign=\"top\">type</th>\n",
       "      <th>0</th>\n",
       "      <td>int</td>\n",
       "    </tr>\n",
       "    <tr>\n",
       "      <th>1</th>\n",
       "      <td>const char*</td>\n",
       "    </tr>\n",
       "    <tr>\n",
       "      <th>2</th>\n",
       "      <td>unsigned long</td>\n",
       "    </tr>\n",
       "    <tr>\n",
       "      <th>3</th>\n",
       "      <td>int*</td>\n",
       "    </tr>\n",
       "    <tr>\n",
       "      <th rowspan=\"4\" valign=\"top\">value</th>\n",
       "      <th>0</th>\n",
       "      <td>-100</td>\n",
       "    </tr>\n",
       "    <tr>\n",
       "      <th>1</th>\n",
       "      <td>/proc/88/stat</td>\n",
       "    </tr>\n",
       "    <tr>\n",
       "      <th>2</th>\n",
       "      <td>O_RDONLY</td>\n",
       "    </tr>\n",
       "    <tr>\n",
       "      <th>3</th>\n",
       "      <td>3849653931</td>\n",
       "    </tr>\n",
       "  </tbody>\n",
       "</table>\n",
       "</div>"
      ],
      "text/plain": [
       "                      0\n",
       "name   0          dirfd\n",
       "       1       pathname\n",
       "       2          flags\n",
       "       3           mode\n",
       " type  0            int\n",
       "       1    const char*\n",
       "       2  unsigned long\n",
       "       3           int*\n",
       " value 0           -100\n",
       "       1  /proc/88/stat\n",
       "       2       O_RDONLY\n",
       "       3     3849653931"
      ]
     },
     "execution_count": 50,
     "metadata": {},
     "output_type": "execute_result"
    }
   ],
   "source": [
    "interim_df.unstack().to_frame()"
   ]
  },
  {
   "attachments": {},
   "cell_type": "markdown",
   "id": "6d252250",
   "metadata": {
    "papermill": {
     "duration": 0.094463,
     "end_time": "2021-10-24T12:53:41.921510",
     "exception": false,
     "start_time": "2021-10-24T12:53:41.827047",
     "status": "completed"
    },
    "tags": []
   },
   "source": [
    "#### Step 3: Transpose the DataFrame (Flip it so it's horizontal instead of vertical)"
   ]
  },
  {
   "cell_type": "code",
   "execution_count": 51,
   "id": "bd475a2e",
   "metadata": {
    "execution": {
     "iopub.execute_input": "2021-10-24T12:53:42.171319Z",
     "iopub.status.busy": "2021-10-24T12:53:42.170427Z",
     "iopub.status.idle": "2021-10-24T12:53:42.195655Z",
     "shell.execute_reply": "2021-10-24T12:53:42.194683Z"
    },
    "papermill": {
     "duration": 0.179358,
     "end_time": "2021-10-24T12:53:42.195860",
     "exception": false,
     "start_time": "2021-10-24T12:53:42.016502",
     "status": "completed"
    },
    "tags": []
   },
   "outputs": [
    {
     "data": {
      "text/html": [
       "<div>\n",
       "<style scoped>\n",
       "    .dataframe tbody tr th:only-of-type {\n",
       "        vertical-align: middle;\n",
       "    }\n",
       "\n",
       "    .dataframe tbody tr th {\n",
       "        vertical-align: top;\n",
       "    }\n",
       "\n",
       "    .dataframe thead tr th {\n",
       "        text-align: left;\n",
       "    }\n",
       "</style>\n",
       "<table border=\"1\" class=\"dataframe\">\n",
       "  <thead>\n",
       "    <tr>\n",
       "      <th></th>\n",
       "      <th colspan=\"4\" halign=\"left\">name</th>\n",
       "      <th colspan=\"4\" halign=\"left\">type</th>\n",
       "      <th colspan=\"4\" halign=\"left\">value</th>\n",
       "    </tr>\n",
       "    <tr>\n",
       "      <th></th>\n",
       "      <th>0</th>\n",
       "      <th>1</th>\n",
       "      <th>2</th>\n",
       "      <th>3</th>\n",
       "      <th>0</th>\n",
       "      <th>1</th>\n",
       "      <th>2</th>\n",
       "      <th>3</th>\n",
       "      <th>0</th>\n",
       "      <th>1</th>\n",
       "      <th>2</th>\n",
       "      <th>3</th>\n",
       "    </tr>\n",
       "  </thead>\n",
       "  <tbody>\n",
       "    <tr>\n",
       "      <th>0</th>\n",
       "      <td>dirfd</td>\n",
       "      <td>pathname</td>\n",
       "      <td>flags</td>\n",
       "      <td>mode</td>\n",
       "      <td>int</td>\n",
       "      <td>const char*</td>\n",
       "      <td>unsigned long</td>\n",
       "      <td>int*</td>\n",
       "      <td>-100</td>\n",
       "      <td>/proc/88/stat</td>\n",
       "      <td>O_RDONLY</td>\n",
       "      <td>3849653931</td>\n",
       "    </tr>\n",
       "  </tbody>\n",
       "</table>\n",
       "</div>"
      ],
      "text/plain": [
       "    name                         type                                    \\\n",
       "       0         1      2     3     0            1              2     3   \n",
       "0  dirfd  pathname  flags  mode   int  const char*  unsigned long  int*   \n",
       "\n",
       "   value                                       \n",
       "       0              1         2           3  \n",
       "0   -100  /proc/88/stat  O_RDONLY  3849653931  "
      ]
     },
     "execution_count": 51,
     "metadata": {},
     "output_type": "execute_result"
    }
   ],
   "source": [
    "interim_df.unstack().to_frame().T"
   ]
  },
  {
   "attachments": {},
   "cell_type": "markdown",
   "id": "4437d9e1",
   "metadata": {
    "papermill": {
     "duration": 0.158106,
     "end_time": "2021-10-24T12:53:42.537518",
     "exception": false,
     "start_time": "2021-10-24T12:53:42.379412",
     "status": "completed"
    },
    "tags": []
   },
   "source": [
    "#### Step 4: Sort the Indexes so each set of values is next to each other"
   ]
  },
  {
   "cell_type": "code",
   "execution_count": 52,
   "id": "20a1f8dd",
   "metadata": {
    "execution": {
     "iopub.execute_input": "2021-10-24T12:53:42.792565Z",
     "iopub.status.busy": "2021-10-24T12:53:42.791671Z",
     "iopub.status.idle": "2021-10-24T12:53:42.794766Z",
     "shell.execute_reply": "2021-10-24T12:53:42.795206Z"
    },
    "papermill": {
     "duration": 0.122453,
     "end_time": "2021-10-24T12:53:42.795352",
     "exception": false,
     "start_time": "2021-10-24T12:53:42.672899",
     "status": "completed"
    },
    "tags": []
   },
   "outputs": [
    {
     "data": {
      "text/html": [
       "<div>\n",
       "<style scoped>\n",
       "    .dataframe tbody tr th:only-of-type {\n",
       "        vertical-align: middle;\n",
       "    }\n",
       "\n",
       "    .dataframe tbody tr th {\n",
       "        vertical-align: top;\n",
       "    }\n",
       "\n",
       "    .dataframe thead tr th {\n",
       "        text-align: left;\n",
       "    }\n",
       "</style>\n",
       "<table border=\"1\" class=\"dataframe\">\n",
       "  <thead>\n",
       "    <tr>\n",
       "      <th></th>\n",
       "      <th>type</th>\n",
       "      <th>value</th>\n",
       "      <th>name</th>\n",
       "      <th>type</th>\n",
       "      <th>value</th>\n",
       "      <th>name</th>\n",
       "      <th>type</th>\n",
       "      <th>value</th>\n",
       "      <th>name</th>\n",
       "      <th>type</th>\n",
       "      <th>value</th>\n",
       "      <th>name</th>\n",
       "    </tr>\n",
       "    <tr>\n",
       "      <th></th>\n",
       "      <th>0</th>\n",
       "      <th>0</th>\n",
       "      <th>0</th>\n",
       "      <th>1</th>\n",
       "      <th>1</th>\n",
       "      <th>1</th>\n",
       "      <th>2</th>\n",
       "      <th>2</th>\n",
       "      <th>2</th>\n",
       "      <th>3</th>\n",
       "      <th>3</th>\n",
       "      <th>3</th>\n",
       "    </tr>\n",
       "  </thead>\n",
       "  <tbody>\n",
       "    <tr>\n",
       "      <th>0</th>\n",
       "      <td>int</td>\n",
       "      <td>-100</td>\n",
       "      <td>dirfd</td>\n",
       "      <td>const char*</td>\n",
       "      <td>/proc/88/stat</td>\n",
       "      <td>pathname</td>\n",
       "      <td>unsigned long</td>\n",
       "      <td>O_RDONLY</td>\n",
       "      <td>flags</td>\n",
       "      <td>int*</td>\n",
       "      <td>3849653931</td>\n",
       "      <td>mode</td>\n",
       "    </tr>\n",
       "  </tbody>\n",
       "</table>\n",
       "</div>"
      ],
      "text/plain": [
       "   type  value   name         type          value      name           type  \\\n",
       "      0      0      0            1              1         1              2   \n",
       "0   int   -100  dirfd  const char*  /proc/88/stat  pathname  unsigned long   \n",
       "\n",
       "      value   name  type       value  name  \n",
       "          2      2     3           3     3  \n",
       "0  O_RDONLY  flags  int*  3849653931  mode  "
      ]
     },
     "execution_count": 52,
     "metadata": {},
     "output_type": "execute_result"
    }
   ],
   "source": [
    "interim_df.unstack().to_frame().T.sort_index(1,1)"
   ]
  },
  {
   "attachments": {},
   "cell_type": "markdown",
   "id": "f9cd3a19",
   "metadata": {
    "papermill": {
     "duration": 0.101642,
     "end_time": "2021-10-24T12:53:42.996375",
     "exception": false,
     "start_time": "2021-10-24T12:53:42.894733",
     "status": "completed"
    },
    "tags": []
   },
   "source": [
    "We are so close now. The last thing to do now is to sot of the column names. For this we can use `map` as shown below\n",
    "\n",
    "### Stage 7: Pulling it all together and Tidy up Column Names"
   ]
  },
  {
   "cell_type": "code",
   "execution_count": 53,
   "id": "20eca4a4",
   "metadata": {
    "execution": {
     "iopub.execute_input": "2021-10-24T12:53:43.216317Z",
     "iopub.status.busy": "2021-10-24T12:53:43.215589Z",
     "iopub.status.idle": "2021-10-24T12:53:43.218565Z",
     "shell.execute_reply": "2021-10-24T12:53:43.219032Z"
    },
    "papermill": {
     "duration": 0.123154,
     "end_time": "2021-10-24T12:53:43.219194",
     "exception": false,
     "start_time": "2021-10-24T12:53:43.096040",
     "status": "completed"
    },
    "tags": []
   },
   "outputs": [
    {
     "data": {
      "text/html": [
       "<div>\n",
       "<style scoped>\n",
       "    .dataframe tbody tr th:only-of-type {\n",
       "        vertical-align: middle;\n",
       "    }\n",
       "\n",
       "    .dataframe tbody tr th {\n",
       "        vertical-align: top;\n",
       "    }\n",
       "\n",
       "    .dataframe thead th {\n",
       "        text-align: right;\n",
       "    }\n",
       "</style>\n",
       "<table border=\"1\" class=\"dataframe\">\n",
       "  <thead>\n",
       "    <tr style=\"text-align: right;\">\n",
       "      <th></th>\n",
       "      <th>type_0</th>\n",
       "      <th>value_0</th>\n",
       "      <th>name_0</th>\n",
       "      <th>type_1</th>\n",
       "      <th>value_1</th>\n",
       "      <th>name_1</th>\n",
       "      <th>type_2</th>\n",
       "      <th>value_2</th>\n",
       "      <th>name_2</th>\n",
       "      <th>type_3</th>\n",
       "      <th>value_3</th>\n",
       "      <th>name_3</th>\n",
       "    </tr>\n",
       "  </thead>\n",
       "  <tbody>\n",
       "    <tr>\n",
       "      <th>0</th>\n",
       "      <td>int</td>\n",
       "      <td>-100</td>\n",
       "      <td>dirfd</td>\n",
       "      <td>const char*</td>\n",
       "      <td>/proc/88/stat</td>\n",
       "      <td>pathname</td>\n",
       "      <td>unsigned long</td>\n",
       "      <td>O_RDONLY</td>\n",
       "      <td>flags</td>\n",
       "      <td>int*</td>\n",
       "      <td>3849653931</td>\n",
       "      <td>mode</td>\n",
       "    </tr>\n",
       "  </tbody>\n",
       "</table>\n",
       "</div>"
      ],
      "text/plain": [
       "   type_0  value_0 name_0       type_1        value_1    name_1  \\\n",
       "0     int     -100  dirfd  const char*  /proc/88/stat  pathname   \n",
       "\n",
       "          type_2   value_2 name_2  type_3     value_3 name_3  \n",
       "0  unsigned long  O_RDONLY  flags    int*  3849653931   mode  "
      ]
     },
     "execution_count": 53,
     "metadata": {},
     "output_type": "execute_result"
    }
   ],
   "source": [
    "final_df = interim_df.unstack().to_frame().T.sort_index(1,1)\n",
    "final_df.columns = final_df.columns.map('{0[0]}_{0[1]}'.format)\n",
    "final_df"
   ]
  },
  {
   "attachments": {},
   "cell_type": "markdown",
   "id": "7d4aaa46",
   "metadata": {
    "papermill": {
     "duration": 0.097996,
     "end_time": "2021-10-24T12:53:43.416927",
     "exception": false,
     "start_time": "2021-10-24T12:53:43.318931",
     "status": "completed"
    },
    "tags": []
   },
   "source": [
    "This looks exactly how we want it. All we need to do now is create a function that pull all of the stages above together and see how it shapes up on the whole dataset (very slow I bet)\n",
    "\n",
    "# `args` Processing Function + Test on Sample"
   ]
  },
  {
   "cell_type": "code",
   "execution_count": 54,
   "id": "f338d7a9",
   "metadata": {
    "execution": {
     "iopub.execute_input": "2021-10-24T12:53:43.632600Z",
     "iopub.status.busy": "2021-10-24T12:53:43.631687Z",
     "iopub.status.idle": "2021-10-24T12:53:43.634369Z",
     "shell.execute_reply": "2021-10-24T12:53:43.633960Z"
    },
    "papermill": {
     "duration": 0.108653,
     "end_time": "2021-10-24T12:53:43.634482",
     "exception": false,
     "start_time": "2021-10-24T12:53:43.525829",
     "status": "completed"
    },
    "tags": []
   },
   "outputs": [],
   "source": [
    "def process_args_row(row):\n",
    "    \"\"\"\n",
    "    Takes an single value from the 'args' column\n",
    "    and returns a processed dataframe row\n",
    "    \n",
    "    Args:\n",
    "        row: A single 'args' value/row\n",
    "        \n",
    "    Returns:\n",
    "        final_df: The processed dataframe row\n",
    "    \"\"\"\n",
    "    \n",
    "    row = row.split('},')\n",
    "    row = [string.replace(\"[\", \"\").replace(\"]\", \"\").replace(\"{\", \"\").replace(\"'\", \"\").replace(\"}\", \"\").lstrip(\" \") for string in row]\n",
    "    row = [item.split(',') for item in row]\n",
    "    \n",
    "    processed_row = []\n",
    "    for lst in row:\n",
    "        for key_value in lst:\n",
    "            key, value = key_value.split(': ', 1)\n",
    "            if not processed_row or key in processed_row[-1]:\n",
    "                processed_row.append({})\n",
    "            processed_row[-1][key] = value\n",
    "    \n",
    "    json_row = json.dumps(processed_row)\n",
    "    row_df = pd.json_normalize(json.loads(json_row))\n",
    "    \n",
    "    final_df = row_df.unstack().to_frame().T.sort_index(1,1)\n",
    "    final_df.columns = final_df.columns.map('{0[0]}_{0[1]}'.format)\n",
    "    \n",
    "    return final_df"
   ]
  },
  {
   "attachments": {},
   "cell_type": "markdown",
   "id": "e0607e55",
   "metadata": {
    "papermill": {
     "duration": 0.097703,
     "end_time": "2021-10-24T12:53:43.829901",
     "exception": false,
     "start_time": "2021-10-24T12:53:43.732198",
     "status": "completed"
    },
    "tags": []
   },
   "source": [
    "Let's test out the function above. First, we will convert the `sample_df['args']` column to a list so we can iterate through it easily. We will then loop over each item in the list and add each processed dataframe to another list called `processed_dataframes`. Once complete, we will then concatanate the dataframes together to see what the output looks like!"
   ]
  },
  {
   "cell_type": "code",
   "execution_count": 55,
   "id": "9b52947a",
   "metadata": {
    "execution": {
     "iopub.execute_input": "2021-10-24T12:53:44.032522Z",
     "iopub.status.busy": "2021-10-24T12:53:44.031670Z",
     "iopub.status.idle": "2021-10-24T12:53:44.034362Z",
     "shell.execute_reply": "2021-10-24T12:53:44.033954Z"
    },
    "papermill": {
     "duration": 0.104444,
     "end_time": "2021-10-24T12:53:44.034476",
     "exception": false,
     "start_time": "2021-10-24T12:53:43.930032",
     "status": "completed"
    },
    "tags": []
   },
   "outputs": [],
   "source": [
    "data = sample_df['args'].tolist()"
   ]
  },
  {
   "cell_type": "code",
   "execution_count": 56,
   "id": "e1e50838",
   "metadata": {
    "execution": {
     "iopub.execute_input": "2021-10-24T12:53:44.268432Z",
     "iopub.status.busy": "2021-10-24T12:53:44.254442Z",
     "iopub.status.idle": "2021-10-24T12:53:44.301633Z",
     "shell.execute_reply": "2021-10-24T12:53:44.301214Z"
    },
    "papermill": {
     "duration": 0.169607,
     "end_time": "2021-10-24T12:53:44.301779",
     "exception": false,
     "start_time": "2021-10-24T12:53:44.132172",
     "status": "completed"
    },
    "tags": []
   },
   "outputs": [],
   "source": [
    "processed_dataframes = []\n",
    "\n",
    "for row in data:\n",
    "    ret = process_args_row(row)\n",
    "    processed_dataframes.append(ret)"
   ]
  },
  {
   "cell_type": "code",
   "execution_count": 57,
   "id": "ec8a42c1",
   "metadata": {
    "execution": {
     "iopub.execute_input": "2021-10-24T12:53:44.532127Z",
     "iopub.status.busy": "2021-10-24T12:53:44.531000Z",
     "iopub.status.idle": "2021-10-24T12:53:44.534979Z",
     "shell.execute_reply": "2021-10-24T12:53:44.535518Z"
    },
    "papermill": {
     "duration": 0.135743,
     "end_time": "2021-10-24T12:53:44.535663",
     "exception": false,
     "start_time": "2021-10-24T12:53:44.399920",
     "status": "completed"
    },
    "tags": []
   },
   "outputs": [
    {
     "data": {
      "text/html": [
       "<div>\n",
       "<style scoped>\n",
       "    .dataframe tbody tr th:only-of-type {\n",
       "        vertical-align: middle;\n",
       "    }\n",
       "\n",
       "    .dataframe tbody tr th {\n",
       "        vertical-align: top;\n",
       "    }\n",
       "\n",
       "    .dataframe thead th {\n",
       "        text-align: right;\n",
       "    }\n",
       "</style>\n",
       "<table border=\"1\" class=\"dataframe\">\n",
       "  <thead>\n",
       "    <tr style=\"text-align: right;\">\n",
       "      <th></th>\n",
       "      <th>type_0</th>\n",
       "      <th>value_0</th>\n",
       "      <th>name_0</th>\n",
       "      <th>type_1</th>\n",
       "      <th>value_1</th>\n",
       "      <th>name_1</th>\n",
       "      <th>type_2</th>\n",
       "      <th>value_2</th>\n",
       "      <th>name_2</th>\n",
       "      <th>type_3</th>\n",
       "      <th>value_3</th>\n",
       "      <th>name_3</th>\n",
       "    </tr>\n",
       "  </thead>\n",
       "  <tbody>\n",
       "    <tr>\n",
       "      <th>0</th>\n",
       "      <td>int</td>\n",
       "      <td>9</td>\n",
       "      <td>fd</td>\n",
       "      <td>NaN</td>\n",
       "      <td>NaN</td>\n",
       "      <td>NaN</td>\n",
       "      <td>NaN</td>\n",
       "      <td>NaN</td>\n",
       "      <td>NaN</td>\n",
       "      <td>NaN</td>\n",
       "      <td>NaN</td>\n",
       "      <td>NaN</td>\n",
       "    </tr>\n",
       "    <tr>\n",
       "      <th>1</th>\n",
       "      <td>int</td>\n",
       "      <td>CAP_DAC_OVERRIDE</td>\n",
       "      <td>cap</td>\n",
       "      <td>NaN</td>\n",
       "      <td>NaN</td>\n",
       "      <td>NaN</td>\n",
       "      <td>NaN</td>\n",
       "      <td>NaN</td>\n",
       "      <td>NaN</td>\n",
       "      <td>NaN</td>\n",
       "      <td>NaN</td>\n",
       "      <td>NaN</td>\n",
       "    </tr>\n",
       "    <tr>\n",
       "      <th>2</th>\n",
       "      <td>int</td>\n",
       "      <td>-100</td>\n",
       "      <td>dirfd</td>\n",
       "      <td>const char*</td>\n",
       "      <td>/proc/88/stat</td>\n",
       "      <td>pathname</td>\n",
       "      <td>unsigned long</td>\n",
       "      <td>O_RDONLY</td>\n",
       "      <td>flags</td>\n",
       "      <td>int*</td>\n",
       "      <td>3849653931</td>\n",
       "      <td>mode</td>\n",
       "    </tr>\n",
       "    <tr>\n",
       "      <th>3</th>\n",
       "      <td>const char*</td>\n",
       "      <td>/proc/7141</td>\n",
       "      <td>pathname</td>\n",
       "      <td>struct stat*</td>\n",
       "      <td>0x7F521D47F680</td>\n",
       "      <td>statbuf</td>\n",
       "      <td>NaN</td>\n",
       "      <td>NaN</td>\n",
       "      <td>NaN</td>\n",
       "      <td>NaN</td>\n",
       "      <td>NaN</td>\n",
       "      <td>NaN</td>\n",
       "    </tr>\n",
       "    <tr>\n",
       "      <th>4</th>\n",
       "      <td>const char*</td>\n",
       "      <td>/proc/7582/comm</td>\n",
       "      <td>pathname</td>\n",
       "      <td>int</td>\n",
       "      <td>O_RDONLY|O_LARGEFILE</td>\n",
       "      <td>flags</td>\n",
       "      <td>dev_t</td>\n",
       "      <td>5</td>\n",
       "      <td>dev</td>\n",
       "      <td>unsigned long</td>\n",
       "      <td>46124</td>\n",
       "      <td>inode</td>\n",
       "    </tr>\n",
       "    <tr>\n",
       "      <th>5</th>\n",
       "      <td>int</td>\n",
       "      <td>9</td>\n",
       "      <td>fd</td>\n",
       "      <td>NaN</td>\n",
       "      <td>NaN</td>\n",
       "      <td>NaN</td>\n",
       "      <td>NaN</td>\n",
       "      <td>NaN</td>\n",
       "      <td>NaN</td>\n",
       "      <td>NaN</td>\n",
       "      <td>NaN</td>\n",
       "      <td>NaN</td>\n",
       "    </tr>\n",
       "    <tr>\n",
       "      <th>6</th>\n",
       "      <td>int</td>\n",
       "      <td>5</td>\n",
       "      <td>oldfd</td>\n",
       "      <td>int</td>\n",
       "      <td>1</td>\n",
       "      <td>newfd</td>\n",
       "      <td>NaN</td>\n",
       "      <td>NaN</td>\n",
       "      <td>NaN</td>\n",
       "      <td>NaN</td>\n",
       "      <td>NaN</td>\n",
       "      <td>NaN</td>\n",
       "    </tr>\n",
       "    <tr>\n",
       "      <th>7</th>\n",
       "      <td>int</td>\n",
       "      <td>-100</td>\n",
       "      <td>dirfd</td>\n",
       "      <td>const char*</td>\n",
       "      <td>/proc/22/stat</td>\n",
       "      <td>pathname</td>\n",
       "      <td>int</td>\n",
       "      <td>O_RDONLY</td>\n",
       "      <td>flags</td>\n",
       "      <td>mode_t</td>\n",
       "      <td>1532681899</td>\n",
       "      <td>mode</td>\n",
       "    </tr>\n",
       "    <tr>\n",
       "      <th>8</th>\n",
       "      <td>unsigned int</td>\n",
       "      <td>16</td>\n",
       "      <td>fd</td>\n",
       "      <td>NaN</td>\n",
       "      <td>NaN</td>\n",
       "      <td>NaN</td>\n",
       "      <td>NaN</td>\n",
       "      <td>NaN</td>\n",
       "      <td>NaN</td>\n",
       "      <td>NaN</td>\n",
       "      <td>NaN</td>\n",
       "      <td>NaN</td>\n",
       "    </tr>\n",
       "    <tr>\n",
       "      <th>9</th>\n",
       "      <td>const char*</td>\n",
       "      <td>/proc/504/status</td>\n",
       "      <td>pathname</td>\n",
       "      <td>int</td>\n",
       "      <td>O_RDONLY|O_LARGEFILE</td>\n",
       "      <td>flags</td>\n",
       "      <td>dev_t</td>\n",
       "      <td>5</td>\n",
       "      <td>dev</td>\n",
       "      <td>unsigned long</td>\n",
       "      <td>38957</td>\n",
       "      <td>inode</td>\n",
       "    </tr>\n",
       "    <tr>\n",
       "      <th>10</th>\n",
       "      <td>const char*</td>\n",
       "      <td>/proc/646/stat</td>\n",
       "      <td>pathname</td>\n",
       "      <td>int</td>\n",
       "      <td>O_RDONLY|O_LARGEFILE</td>\n",
       "      <td>flags</td>\n",
       "      <td>dev_t</td>\n",
       "      <td>5</td>\n",
       "      <td>dev</td>\n",
       "      <td>unsigned long</td>\n",
       "      <td>39185</td>\n",
       "      <td>inode</td>\n",
       "    </tr>\n",
       "    <tr>\n",
       "      <th>11</th>\n",
       "      <td>int</td>\n",
       "      <td>-100</td>\n",
       "      <td>dirfd</td>\n",
       "      <td>const char*</td>\n",
       "      <td>/lib/x86_64-linux-gnu/libnsl.so.1</td>\n",
       "      <td>pathname</td>\n",
       "      <td>int</td>\n",
       "      <td>O_RDONLY|O_CLOEXEC</td>\n",
       "      <td>flags</td>\n",
       "      <td>mode_t</td>\n",
       "      <td>1472757592</td>\n",
       "      <td>mode</td>\n",
       "    </tr>\n",
       "    <tr>\n",
       "      <th>12</th>\n",
       "      <td>int</td>\n",
       "      <td>6</td>\n",
       "      <td>dirfd</td>\n",
       "      <td>const char*</td>\n",
       "      <td>sys</td>\n",
       "      <td>pathname</td>\n",
       "      <td>int</td>\n",
       "      <td>O_RDONLY|O_NOFOLLOW|O_CLOEXEC|O_PATH</td>\n",
       "      <td>flags</td>\n",
       "      <td>mode_t</td>\n",
       "      <td>678600742</td>\n",
       "      <td>mode</td>\n",
       "    </tr>\n",
       "    <tr>\n",
       "      <th>13</th>\n",
       "      <td>int</td>\n",
       "      <td>6</td>\n",
       "      <td>dirfd</td>\n",
       "      <td>const char*</td>\n",
       "      <td>sys</td>\n",
       "      <td>pathname</td>\n",
       "      <td>unsigned long</td>\n",
       "      <td>O_RDONLY|O_NOFOLLOW|O_CLOEXEC|O_PATH</td>\n",
       "      <td>flags</td>\n",
       "      <td>int*</td>\n",
       "      <td>1215512614</td>\n",
       "      <td>mode</td>\n",
       "    </tr>\n",
       "    <tr>\n",
       "      <th>14</th>\n",
       "      <td>const char*</td>\n",
       "      <td>/sys/devices/virtual/dmi/id/sys_vendor</td>\n",
       "      <td>pathname</td>\n",
       "      <td>unsigned int</td>\n",
       "      <td>O_RDONLY|O_LARGEFILE</td>\n",
       "      <td>flags</td>\n",
       "      <td>dev_t</td>\n",
       "      <td>22</td>\n",
       "      <td>dev</td>\n",
       "      <td>unsigned long</td>\n",
       "      <td>721</td>\n",
       "      <td>inode</td>\n",
       "    </tr>\n",
       "  </tbody>\n",
       "</table>\n",
       "</div>"
      ],
      "text/plain": [
       "          type_0                                 value_0    name_0  \\\n",
       "0            int                                       9        fd   \n",
       "1            int                        CAP_DAC_OVERRIDE       cap   \n",
       "2            int                                    -100     dirfd   \n",
       "3    const char*                              /proc/7141  pathname   \n",
       "4    const char*                         /proc/7582/comm  pathname   \n",
       "5            int                                       9        fd   \n",
       "6            int                                       5     oldfd   \n",
       "7            int                                    -100     dirfd   \n",
       "8   unsigned int                                      16        fd   \n",
       "9    const char*                        /proc/504/status  pathname   \n",
       "10   const char*                          /proc/646/stat  pathname   \n",
       "11           int                                    -100     dirfd   \n",
       "12           int                                       6     dirfd   \n",
       "13           int                                       6     dirfd   \n",
       "14   const char*  /sys/devices/virtual/dmi/id/sys_vendor  pathname   \n",
       "\n",
       "          type_1                            value_1    name_1         type_2  \\\n",
       "0            NaN                                NaN       NaN            NaN   \n",
       "1            NaN                                NaN       NaN            NaN   \n",
       "2    const char*                      /proc/88/stat  pathname  unsigned long   \n",
       "3   struct stat*                     0x7F521D47F680   statbuf            NaN   \n",
       "4            int               O_RDONLY|O_LARGEFILE     flags          dev_t   \n",
       "5            NaN                                NaN       NaN            NaN   \n",
       "6            int                                  1     newfd            NaN   \n",
       "7    const char*                      /proc/22/stat  pathname            int   \n",
       "8            NaN                                NaN       NaN            NaN   \n",
       "9            int               O_RDONLY|O_LARGEFILE     flags          dev_t   \n",
       "10           int               O_RDONLY|O_LARGEFILE     flags          dev_t   \n",
       "11   const char*  /lib/x86_64-linux-gnu/libnsl.so.1  pathname            int   \n",
       "12   const char*                                sys  pathname            int   \n",
       "13   const char*                                sys  pathname  unsigned long   \n",
       "14  unsigned int               O_RDONLY|O_LARGEFILE     flags          dev_t   \n",
       "\n",
       "                                 value_2 name_2         type_3     value_3  \\\n",
       "0                                    NaN    NaN            NaN         NaN   \n",
       "1                                    NaN    NaN            NaN         NaN   \n",
       "2                               O_RDONLY  flags           int*  3849653931   \n",
       "3                                    NaN    NaN            NaN         NaN   \n",
       "4                                      5    dev  unsigned long       46124   \n",
       "5                                    NaN    NaN            NaN         NaN   \n",
       "6                                    NaN    NaN            NaN         NaN   \n",
       "7                               O_RDONLY  flags         mode_t  1532681899   \n",
       "8                                    NaN    NaN            NaN         NaN   \n",
       "9                                      5    dev  unsigned long       38957   \n",
       "10                                     5    dev  unsigned long       39185   \n",
       "11                    O_RDONLY|O_CLOEXEC  flags         mode_t  1472757592   \n",
       "12  O_RDONLY|O_NOFOLLOW|O_CLOEXEC|O_PATH  flags         mode_t   678600742   \n",
       "13  O_RDONLY|O_NOFOLLOW|O_CLOEXEC|O_PATH  flags           int*  1215512614   \n",
       "14                                    22    dev  unsigned long         721   \n",
       "\n",
       "   name_3  \n",
       "0     NaN  \n",
       "1     NaN  \n",
       "2    mode  \n",
       "3     NaN  \n",
       "4   inode  \n",
       "5     NaN  \n",
       "6     NaN  \n",
       "7    mode  \n",
       "8     NaN  \n",
       "9   inode  \n",
       "10  inode  \n",
       "11   mode  \n",
       "12   mode  \n",
       "13   mode  \n",
       "14  inode  "
      ]
     },
     "execution_count": 57,
     "metadata": {},
     "output_type": "execute_result"
    }
   ],
   "source": [
    "processed = pd.concat(processed_dataframes).reset_index(drop=True)\n",
    "processed.columns = processed.columns.str.lstrip()\n",
    "processed"
   ]
  },
  {
   "attachments": {},
   "cell_type": "markdown",
   "id": "eac233a2",
   "metadata": {
    "papermill": {
     "duration": 0.104756,
     "end_time": "2021-10-24T12:53:44.753269",
     "exception": false,
     "start_time": "2021-10-24T12:53:44.648513",
     "status": "completed"
    },
    "tags": []
   },
   "source": [
    "Looks like we may have cracked it!\n",
    "\n",
    "## Merge above back into Sample"
   ]
  },
  {
   "cell_type": "code",
   "execution_count": 58,
   "id": "b7efc79e",
   "metadata": {
    "execution": {
     "iopub.execute_input": "2021-10-24T12:53:44.982341Z",
     "iopub.status.busy": "2021-10-24T12:53:44.981417Z",
     "iopub.status.idle": "2021-10-24T12:53:44.986319Z",
     "shell.execute_reply": "2021-10-24T12:53:44.985897Z"
    },
    "papermill": {
     "duration": 0.127959,
     "end_time": "2021-10-24T12:53:44.986435",
     "exception": false,
     "start_time": "2021-10-24T12:53:44.858476",
     "status": "completed"
    },
    "tags": []
   },
   "outputs": [
    {
     "data": {
      "text/html": [
       "<div>\n",
       "<style scoped>\n",
       "    .dataframe tbody tr th:only-of-type {\n",
       "        vertical-align: middle;\n",
       "    }\n",
       "\n",
       "    .dataframe tbody tr th {\n",
       "        vertical-align: top;\n",
       "    }\n",
       "\n",
       "    .dataframe thead th {\n",
       "        text-align: right;\n",
       "    }\n",
       "</style>\n",
       "<table border=\"1\" class=\"dataframe\">\n",
       "  <thead>\n",
       "    <tr style=\"text-align: right;\">\n",
       "      <th></th>\n",
       "      <th>args</th>\n",
       "      <th>stripped_args</th>\n",
       "      <th>type_0</th>\n",
       "      <th>value_0</th>\n",
       "      <th>name_0</th>\n",
       "      <th>type_1</th>\n",
       "      <th>value_1</th>\n",
       "      <th>name_1</th>\n",
       "      <th>type_2</th>\n",
       "      <th>value_2</th>\n",
       "      <th>name_2</th>\n",
       "      <th>type_3</th>\n",
       "      <th>value_3</th>\n",
       "      <th>name_3</th>\n",
       "    </tr>\n",
       "  </thead>\n",
       "  <tbody>\n",
       "    <tr>\n",
       "      <th>0</th>\n",
       "      <td>[{'name': 'fd', 'type': 'int', 'value': 9}]</td>\n",
       "      <td>{\"name\": \"fd\", \"type\": \"int\", \"value\": 9}</td>\n",
       "      <td>int</td>\n",
       "      <td>9</td>\n",
       "      <td>fd</td>\n",
       "      <td>NaN</td>\n",
       "      <td>NaN</td>\n",
       "      <td>NaN</td>\n",
       "      <td>NaN</td>\n",
       "      <td>NaN</td>\n",
       "      <td>NaN</td>\n",
       "      <td>NaN</td>\n",
       "      <td>NaN</td>\n",
       "      <td>NaN</td>\n",
       "    </tr>\n",
       "    <tr>\n",
       "      <th>1</th>\n",
       "      <td>[{'name': 'cap', 'type': 'int', 'value': 'CAP_...</td>\n",
       "      <td>{\"name\": \"cap\", \"type\": \"int\", \"value\": \"CAP_D...</td>\n",
       "      <td>int</td>\n",
       "      <td>CAP_DAC_OVERRIDE</td>\n",
       "      <td>cap</td>\n",
       "      <td>NaN</td>\n",
       "      <td>NaN</td>\n",
       "      <td>NaN</td>\n",
       "      <td>NaN</td>\n",
       "      <td>NaN</td>\n",
       "      <td>NaN</td>\n",
       "      <td>NaN</td>\n",
       "      <td>NaN</td>\n",
       "      <td>NaN</td>\n",
       "    </tr>\n",
       "    <tr>\n",
       "      <th>2</th>\n",
       "      <td>[{'name': 'dirfd', 'type': 'int', 'value': -10...</td>\n",
       "      <td>{\"name\": \"dirfd\", \"type\": \"int\", \"value\": -100...</td>\n",
       "      <td>int</td>\n",
       "      <td>-100</td>\n",
       "      <td>dirfd</td>\n",
       "      <td>const char*</td>\n",
       "      <td>/proc/88/stat</td>\n",
       "      <td>pathname</td>\n",
       "      <td>unsigned long</td>\n",
       "      <td>O_RDONLY</td>\n",
       "      <td>flags</td>\n",
       "      <td>int*</td>\n",
       "      <td>3849653931</td>\n",
       "      <td>mode</td>\n",
       "    </tr>\n",
       "    <tr>\n",
       "      <th>3</th>\n",
       "      <td>[{'name': 'pathname', 'type': 'const char*', '...</td>\n",
       "      <td>{\"name\": \"pathname\", \"type\": \"const char*\", \"v...</td>\n",
       "      <td>const char*</td>\n",
       "      <td>/proc/7141</td>\n",
       "      <td>pathname</td>\n",
       "      <td>struct stat*</td>\n",
       "      <td>0x7F521D47F680</td>\n",
       "      <td>statbuf</td>\n",
       "      <td>NaN</td>\n",
       "      <td>NaN</td>\n",
       "      <td>NaN</td>\n",
       "      <td>NaN</td>\n",
       "      <td>NaN</td>\n",
       "      <td>NaN</td>\n",
       "    </tr>\n",
       "    <tr>\n",
       "      <th>4</th>\n",
       "      <td>[{'name': 'pathname', 'type': 'const char*', '...</td>\n",
       "      <td>{\"name\": \"pathname\", \"type\": \"const char*\", \"v...</td>\n",
       "      <td>const char*</td>\n",
       "      <td>/proc/7582/comm</td>\n",
       "      <td>pathname</td>\n",
       "      <td>int</td>\n",
       "      <td>O_RDONLY|O_LARGEFILE</td>\n",
       "      <td>flags</td>\n",
       "      <td>dev_t</td>\n",
       "      <td>5</td>\n",
       "      <td>dev</td>\n",
       "      <td>unsigned long</td>\n",
       "      <td>46124</td>\n",
       "      <td>inode</td>\n",
       "    </tr>\n",
       "    <tr>\n",
       "      <th>5</th>\n",
       "      <td>[{'name': 'fd', 'type': 'int', 'value': 9}]</td>\n",
       "      <td>{\"name\": \"fd\", \"type\": \"int\", \"value\": 9}</td>\n",
       "      <td>int</td>\n",
       "      <td>9</td>\n",
       "      <td>fd</td>\n",
       "      <td>NaN</td>\n",
       "      <td>NaN</td>\n",
       "      <td>NaN</td>\n",
       "      <td>NaN</td>\n",
       "      <td>NaN</td>\n",
       "      <td>NaN</td>\n",
       "      <td>NaN</td>\n",
       "      <td>NaN</td>\n",
       "      <td>NaN</td>\n",
       "    </tr>\n",
       "    <tr>\n",
       "      <th>6</th>\n",
       "      <td>[{'name': 'oldfd', 'type': 'int', 'value': 5},...</td>\n",
       "      <td>{\"name\": \"oldfd\", \"type\": \"int\", \"value\": 5}, ...</td>\n",
       "      <td>int</td>\n",
       "      <td>5</td>\n",
       "      <td>oldfd</td>\n",
       "      <td>int</td>\n",
       "      <td>1</td>\n",
       "      <td>newfd</td>\n",
       "      <td>NaN</td>\n",
       "      <td>NaN</td>\n",
       "      <td>NaN</td>\n",
       "      <td>NaN</td>\n",
       "      <td>NaN</td>\n",
       "      <td>NaN</td>\n",
       "    </tr>\n",
       "    <tr>\n",
       "      <th>7</th>\n",
       "      <td>[{'name': 'dirfd', 'type': 'int', 'value': -10...</td>\n",
       "      <td>{\"name\": \"dirfd\", \"type\": \"int\", \"value\": -100...</td>\n",
       "      <td>int</td>\n",
       "      <td>-100</td>\n",
       "      <td>dirfd</td>\n",
       "      <td>const char*</td>\n",
       "      <td>/proc/22/stat</td>\n",
       "      <td>pathname</td>\n",
       "      <td>int</td>\n",
       "      <td>O_RDONLY</td>\n",
       "      <td>flags</td>\n",
       "      <td>mode_t</td>\n",
       "      <td>1532681899</td>\n",
       "      <td>mode</td>\n",
       "    </tr>\n",
       "    <tr>\n",
       "      <th>8</th>\n",
       "      <td>[{'name': 'fd', 'type': 'unsigned int', 'value...</td>\n",
       "      <td>{\"name\": \"fd\", \"type\": \"unsigned int\", \"value\"...</td>\n",
       "      <td>unsigned int</td>\n",
       "      <td>16</td>\n",
       "      <td>fd</td>\n",
       "      <td>NaN</td>\n",
       "      <td>NaN</td>\n",
       "      <td>NaN</td>\n",
       "      <td>NaN</td>\n",
       "      <td>NaN</td>\n",
       "      <td>NaN</td>\n",
       "      <td>NaN</td>\n",
       "      <td>NaN</td>\n",
       "      <td>NaN</td>\n",
       "    </tr>\n",
       "    <tr>\n",
       "      <th>9</th>\n",
       "      <td>[{'name': 'pathname', 'type': 'const char*', '...</td>\n",
       "      <td>{\"name\": \"pathname\", \"type\": \"const char*\", \"v...</td>\n",
       "      <td>const char*</td>\n",
       "      <td>/proc/504/status</td>\n",
       "      <td>pathname</td>\n",
       "      <td>int</td>\n",
       "      <td>O_RDONLY|O_LARGEFILE</td>\n",
       "      <td>flags</td>\n",
       "      <td>dev_t</td>\n",
       "      <td>5</td>\n",
       "      <td>dev</td>\n",
       "      <td>unsigned long</td>\n",
       "      <td>38957</td>\n",
       "      <td>inode</td>\n",
       "    </tr>\n",
       "    <tr>\n",
       "      <th>10</th>\n",
       "      <td>[{'name': 'pathname', 'type': 'const char*', '...</td>\n",
       "      <td>{\"name\": \"pathname\", \"type\": \"const char*\", \"v...</td>\n",
       "      <td>const char*</td>\n",
       "      <td>/proc/646/stat</td>\n",
       "      <td>pathname</td>\n",
       "      <td>int</td>\n",
       "      <td>O_RDONLY|O_LARGEFILE</td>\n",
       "      <td>flags</td>\n",
       "      <td>dev_t</td>\n",
       "      <td>5</td>\n",
       "      <td>dev</td>\n",
       "      <td>unsigned long</td>\n",
       "      <td>39185</td>\n",
       "      <td>inode</td>\n",
       "    </tr>\n",
       "    <tr>\n",
       "      <th>11</th>\n",
       "      <td>[{'name': 'dirfd', 'type': 'int', 'value': -10...</td>\n",
       "      <td>{\"name\": \"dirfd\", \"type\": \"int\", \"value\": -100...</td>\n",
       "      <td>int</td>\n",
       "      <td>-100</td>\n",
       "      <td>dirfd</td>\n",
       "      <td>const char*</td>\n",
       "      <td>/lib/x86_64-linux-gnu/libnsl.so.1</td>\n",
       "      <td>pathname</td>\n",
       "      <td>int</td>\n",
       "      <td>O_RDONLY|O_CLOEXEC</td>\n",
       "      <td>flags</td>\n",
       "      <td>mode_t</td>\n",
       "      <td>1472757592</td>\n",
       "      <td>mode</td>\n",
       "    </tr>\n",
       "    <tr>\n",
       "      <th>12</th>\n",
       "      <td>[{'name': 'dirfd', 'type': 'int', 'value': 6},...</td>\n",
       "      <td>{\"name\": \"dirfd\", \"type\": \"int\", \"value\": 6}, ...</td>\n",
       "      <td>int</td>\n",
       "      <td>6</td>\n",
       "      <td>dirfd</td>\n",
       "      <td>const char*</td>\n",
       "      <td>sys</td>\n",
       "      <td>pathname</td>\n",
       "      <td>int</td>\n",
       "      <td>O_RDONLY|O_NOFOLLOW|O_CLOEXEC|O_PATH</td>\n",
       "      <td>flags</td>\n",
       "      <td>mode_t</td>\n",
       "      <td>678600742</td>\n",
       "      <td>mode</td>\n",
       "    </tr>\n",
       "    <tr>\n",
       "      <th>13</th>\n",
       "      <td>[{'name': 'dirfd', 'type': 'int', 'value': 6},...</td>\n",
       "      <td>{\"name\": \"dirfd\", \"type\": \"int\", \"value\": 6}, ...</td>\n",
       "      <td>int</td>\n",
       "      <td>6</td>\n",
       "      <td>dirfd</td>\n",
       "      <td>const char*</td>\n",
       "      <td>sys</td>\n",
       "      <td>pathname</td>\n",
       "      <td>unsigned long</td>\n",
       "      <td>O_RDONLY|O_NOFOLLOW|O_CLOEXEC|O_PATH</td>\n",
       "      <td>flags</td>\n",
       "      <td>int*</td>\n",
       "      <td>1215512614</td>\n",
       "      <td>mode</td>\n",
       "    </tr>\n",
       "    <tr>\n",
       "      <th>14</th>\n",
       "      <td>[{'name': 'pathname', 'type': 'const char*', '...</td>\n",
       "      <td>{\"name\": \"pathname\", \"type\": \"const char*\", \"v...</td>\n",
       "      <td>const char*</td>\n",
       "      <td>/sys/devices/virtual/dmi/id/sys_vendor</td>\n",
       "      <td>pathname</td>\n",
       "      <td>unsigned int</td>\n",
       "      <td>O_RDONLY|O_LARGEFILE</td>\n",
       "      <td>flags</td>\n",
       "      <td>dev_t</td>\n",
       "      <td>22</td>\n",
       "      <td>dev</td>\n",
       "      <td>unsigned long</td>\n",
       "      <td>721</td>\n",
       "      <td>inode</td>\n",
       "    </tr>\n",
       "  </tbody>\n",
       "</table>\n",
       "</div>"
      ],
      "text/plain": [
       "                                                 args  \\\n",
       "0         [{'name': 'fd', 'type': 'int', 'value': 9}]   \n",
       "1   [{'name': 'cap', 'type': 'int', 'value': 'CAP_...   \n",
       "2   [{'name': 'dirfd', 'type': 'int', 'value': -10...   \n",
       "3   [{'name': 'pathname', 'type': 'const char*', '...   \n",
       "4   [{'name': 'pathname', 'type': 'const char*', '...   \n",
       "5         [{'name': 'fd', 'type': 'int', 'value': 9}]   \n",
       "6   [{'name': 'oldfd', 'type': 'int', 'value': 5},...   \n",
       "7   [{'name': 'dirfd', 'type': 'int', 'value': -10...   \n",
       "8   [{'name': 'fd', 'type': 'unsigned int', 'value...   \n",
       "9   [{'name': 'pathname', 'type': 'const char*', '...   \n",
       "10  [{'name': 'pathname', 'type': 'const char*', '...   \n",
       "11  [{'name': 'dirfd', 'type': 'int', 'value': -10...   \n",
       "12  [{'name': 'dirfd', 'type': 'int', 'value': 6},...   \n",
       "13  [{'name': 'dirfd', 'type': 'int', 'value': 6},...   \n",
       "14  [{'name': 'pathname', 'type': 'const char*', '...   \n",
       "\n",
       "                                        stripped_args        type_0  \\\n",
       "0           {\"name\": \"fd\", \"type\": \"int\", \"value\": 9}           int   \n",
       "1   {\"name\": \"cap\", \"type\": \"int\", \"value\": \"CAP_D...           int   \n",
       "2   {\"name\": \"dirfd\", \"type\": \"int\", \"value\": -100...           int   \n",
       "3   {\"name\": \"pathname\", \"type\": \"const char*\", \"v...   const char*   \n",
       "4   {\"name\": \"pathname\", \"type\": \"const char*\", \"v...   const char*   \n",
       "5           {\"name\": \"fd\", \"type\": \"int\", \"value\": 9}           int   \n",
       "6   {\"name\": \"oldfd\", \"type\": \"int\", \"value\": 5}, ...           int   \n",
       "7   {\"name\": \"dirfd\", \"type\": \"int\", \"value\": -100...           int   \n",
       "8   {\"name\": \"fd\", \"type\": \"unsigned int\", \"value\"...  unsigned int   \n",
       "9   {\"name\": \"pathname\", \"type\": \"const char*\", \"v...   const char*   \n",
       "10  {\"name\": \"pathname\", \"type\": \"const char*\", \"v...   const char*   \n",
       "11  {\"name\": \"dirfd\", \"type\": \"int\", \"value\": -100...           int   \n",
       "12  {\"name\": \"dirfd\", \"type\": \"int\", \"value\": 6}, ...           int   \n",
       "13  {\"name\": \"dirfd\", \"type\": \"int\", \"value\": 6}, ...           int   \n",
       "14  {\"name\": \"pathname\", \"type\": \"const char*\", \"v...   const char*   \n",
       "\n",
       "                                   value_0    name_0        type_1  \\\n",
       "0                                        9        fd           NaN   \n",
       "1                         CAP_DAC_OVERRIDE       cap           NaN   \n",
       "2                                     -100     dirfd   const char*   \n",
       "3                               /proc/7141  pathname  struct stat*   \n",
       "4                          /proc/7582/comm  pathname           int   \n",
       "5                                        9        fd           NaN   \n",
       "6                                        5     oldfd           int   \n",
       "7                                     -100     dirfd   const char*   \n",
       "8                                       16        fd           NaN   \n",
       "9                         /proc/504/status  pathname           int   \n",
       "10                          /proc/646/stat  pathname           int   \n",
       "11                                    -100     dirfd   const char*   \n",
       "12                                       6     dirfd   const char*   \n",
       "13                                       6     dirfd   const char*   \n",
       "14  /sys/devices/virtual/dmi/id/sys_vendor  pathname  unsigned int   \n",
       "\n",
       "                              value_1    name_1         type_2  \\\n",
       "0                                 NaN       NaN            NaN   \n",
       "1                                 NaN       NaN            NaN   \n",
       "2                       /proc/88/stat  pathname  unsigned long   \n",
       "3                      0x7F521D47F680   statbuf            NaN   \n",
       "4                O_RDONLY|O_LARGEFILE     flags          dev_t   \n",
       "5                                 NaN       NaN            NaN   \n",
       "6                                   1     newfd            NaN   \n",
       "7                       /proc/22/stat  pathname            int   \n",
       "8                                 NaN       NaN            NaN   \n",
       "9                O_RDONLY|O_LARGEFILE     flags          dev_t   \n",
       "10               O_RDONLY|O_LARGEFILE     flags          dev_t   \n",
       "11  /lib/x86_64-linux-gnu/libnsl.so.1  pathname            int   \n",
       "12                                sys  pathname            int   \n",
       "13                                sys  pathname  unsigned long   \n",
       "14               O_RDONLY|O_LARGEFILE     flags          dev_t   \n",
       "\n",
       "                                 value_2 name_2         type_3     value_3  \\\n",
       "0                                    NaN    NaN            NaN         NaN   \n",
       "1                                    NaN    NaN            NaN         NaN   \n",
       "2                               O_RDONLY  flags           int*  3849653931   \n",
       "3                                    NaN    NaN            NaN         NaN   \n",
       "4                                      5    dev  unsigned long       46124   \n",
       "5                                    NaN    NaN            NaN         NaN   \n",
       "6                                    NaN    NaN            NaN         NaN   \n",
       "7                               O_RDONLY  flags         mode_t  1532681899   \n",
       "8                                    NaN    NaN            NaN         NaN   \n",
       "9                                      5    dev  unsigned long       38957   \n",
       "10                                     5    dev  unsigned long       39185   \n",
       "11                    O_RDONLY|O_CLOEXEC  flags         mode_t  1472757592   \n",
       "12  O_RDONLY|O_NOFOLLOW|O_CLOEXEC|O_PATH  flags         mode_t   678600742   \n",
       "13  O_RDONLY|O_NOFOLLOW|O_CLOEXEC|O_PATH  flags           int*  1215512614   \n",
       "14                                    22    dev  unsigned long         721   \n",
       "\n",
       "   name_3  \n",
       "0     NaN  \n",
       "1     NaN  \n",
       "2    mode  \n",
       "3     NaN  \n",
       "4   inode  \n",
       "5     NaN  \n",
       "6     NaN  \n",
       "7    mode  \n",
       "8     NaN  \n",
       "9   inode  \n",
       "10  inode  \n",
       "11   mode  \n",
       "12   mode  \n",
       "13   mode  \n",
       "14  inode  "
      ]
     },
     "execution_count": 58,
     "metadata": {},
     "output_type": "execute_result"
    }
   ],
   "source": [
    "sample_df = sample_df.reset_index(drop=True)\n",
    "merged_sample = pd.concat([sample_df, processed], axis=1)\n",
    "merged_sample"
   ]
  },
  {
   "attachments": {},
   "cell_type": "markdown",
   "id": "fa62d654",
   "metadata": {
    "papermill": {
     "duration": 0.099362,
     "end_time": "2021-10-24T12:53:45.186621",
     "exception": false,
     "start_time": "2021-10-24T12:53:45.087259",
     "status": "completed"
    },
    "tags": []
   },
   "source": [
    "# Process Training Dataset \n",
    "\n",
    "From reading the paper's annex and the code from the linked github, there are several easy processing steps that we can take. The below code has been directly copied from the github repo."
   ]
  },
  {
   "cell_type": "code",
   "execution_count": 46,
   "id": "9be31888",
   "metadata": {
    "execution": {
     "iopub.execute_input": "2021-10-24T12:53:45.395319Z",
     "iopub.status.busy": "2021-10-24T12:53:45.394119Z",
     "iopub.status.idle": "2021-10-24T12:53:47.508731Z",
     "shell.execute_reply": "2021-10-24T12:53:47.508255Z"
    },
    "papermill": {
     "duration": 2.222846,
     "end_time": "2021-10-24T12:53:47.508894",
     "exception": false,
     "start_time": "2021-10-24T12:53:45.286048",
     "status": "completed"
    },
    "tags": []
   },
   "outputs": [],
   "source": [
    "# Taken from here - https://github.com/jinxmirror13/BETH_Dataset_Analysis\n",
    "train_df[\"processId\"] = train_df[\"processId\"].map(lambda x: 0 if x in [0, 1, 2] else 1)  # Map to OS/not OS\n",
    "train_df[\"parentProcessId\"] = train_df[\"parentProcessId\"].map(lambda x: 0 if x in [0, 1, 2] else 1)  # Map to OS/not OS\n",
    "train_df[\"userId\"] = train_df[\"userId\"].map(lambda x: 0 if x < 1000 else 1)  # Map to OS/not OS\n",
    "train_df[\"mountNamespace\"] = train_df[\"mountNamespace\"].map(lambda x: 0 if x == 4026531840 else 1)  # Map to mount access to mnt/ (all non-OS users) /elsewhere\n",
    "train_df[\"eventId\"] = train_df[\"eventId\"]  # Keep eventId values (requires knowing max value)\n",
    "train_df[\"returnValue\"] = train_df[\"returnValue\"].map(lambda x: 0 if x == 0 else (1 if x > 0 else 2))  # Map to success/success with value/error"
   ]
  },
  {
   "cell_type": "code",
   "execution_count": 60,
   "id": "cc07115b",
   "metadata": {
    "execution": {
     "iopub.execute_input": "2021-10-24T12:53:47.726638Z",
     "iopub.status.busy": "2021-10-24T12:53:47.725646Z",
     "iopub.status.idle": "2021-10-24T12:53:47.729865Z",
     "shell.execute_reply": "2021-10-24T12:53:47.729362Z"
    },
    "papermill": {
     "duration": 0.121557,
     "end_time": "2021-10-24T12:53:47.730005",
     "exception": false,
     "start_time": "2021-10-24T12:53:47.608448",
     "status": "completed"
    },
    "tags": []
   },
   "outputs": [
    {
     "data": {
      "text/html": [
       "<div>\n",
       "<style scoped>\n",
       "    .dataframe tbody tr th:only-of-type {\n",
       "        vertical-align: middle;\n",
       "    }\n",
       "\n",
       "    .dataframe tbody tr th {\n",
       "        vertical-align: top;\n",
       "    }\n",
       "\n",
       "    .dataframe thead th {\n",
       "        text-align: right;\n",
       "    }\n",
       "</style>\n",
       "<table border=\"1\" class=\"dataframe\">\n",
       "  <thead>\n",
       "    <tr style=\"text-align: right;\">\n",
       "      <th></th>\n",
       "      <th>timestamp</th>\n",
       "      <th>processId</th>\n",
       "      <th>threadId</th>\n",
       "      <th>parentProcessId</th>\n",
       "      <th>userId</th>\n",
       "      <th>mountNamespace</th>\n",
       "      <th>processName</th>\n",
       "      <th>hostName</th>\n",
       "      <th>eventId</th>\n",
       "      <th>eventName</th>\n",
       "      <th>stackAddresses</th>\n",
       "      <th>argsNum</th>\n",
       "      <th>returnValue</th>\n",
       "      <th>args</th>\n",
       "      <th>sus</th>\n",
       "      <th>evil</th>\n",
       "    </tr>\n",
       "  </thead>\n",
       "  <tbody>\n",
       "    <tr>\n",
       "      <th>0</th>\n",
       "      <td>1809.495787</td>\n",
       "      <td>1</td>\n",
       "      <td>7337</td>\n",
       "      <td>0</td>\n",
       "      <td>0</td>\n",
       "      <td>1</td>\n",
       "      <td>close</td>\n",
       "      <td>ip-10-100-1-120</td>\n",
       "      <td>157</td>\n",
       "      <td>prctl</td>\n",
       "      <td>[140662171848350, 11649800180280676]</td>\n",
       "      <td>5</td>\n",
       "      <td>0</td>\n",
       "      <td>[{'name': 'option', 'type': 'int', 'value': 'P...</td>\n",
       "      <td>1</td>\n",
       "      <td>0</td>\n",
       "    </tr>\n",
       "    <tr>\n",
       "      <th>1</th>\n",
       "      <td>1809.495832</td>\n",
       "      <td>1</td>\n",
       "      <td>7337</td>\n",
       "      <td>0</td>\n",
       "      <td>0</td>\n",
       "      <td>1</td>\n",
       "      <td>close</td>\n",
       "      <td>ip-10-100-1-120</td>\n",
       "      <td>3</td>\n",
       "      <td>close</td>\n",
       "      <td>[140662171777451]</td>\n",
       "      <td>1</td>\n",
       "      <td>0</td>\n",
       "      <td>[{'name': 'fd', 'type': 'int', 'value': 19}]</td>\n",
       "      <td>1</td>\n",
       "      <td>0</td>\n",
       "    </tr>\n",
       "    <tr>\n",
       "      <th>2</th>\n",
       "      <td>1809.495921</td>\n",
       "      <td>1</td>\n",
       "      <td>7337</td>\n",
       "      <td>0</td>\n",
       "      <td>0</td>\n",
       "      <td>1</td>\n",
       "      <td>close</td>\n",
       "      <td>ip-10-100-1-120</td>\n",
       "      <td>1010</td>\n",
       "      <td>sched_process_exit</td>\n",
       "      <td>[]</td>\n",
       "      <td>0</td>\n",
       "      <td>0</td>\n",
       "      <td>[]</td>\n",
       "      <td>1</td>\n",
       "      <td>0</td>\n",
       "    </tr>\n",
       "    <tr>\n",
       "      <th>3</th>\n",
       "      <td>1894.139651</td>\n",
       "      <td>1</td>\n",
       "      <td>7347</td>\n",
       "      <td>1</td>\n",
       "      <td>0</td>\n",
       "      <td>0</td>\n",
       "      <td>sh</td>\n",
       "      <td>ip-10-100-1-120</td>\n",
       "      <td>21</td>\n",
       "      <td>access</td>\n",
       "      <td>[]</td>\n",
       "      <td>2</td>\n",
       "      <td>2</td>\n",
       "      <td>[{'name': 'pathname', 'type': 'const char*', '...</td>\n",
       "      <td>1</td>\n",
       "      <td>0</td>\n",
       "    </tr>\n",
       "    <tr>\n",
       "      <th>4</th>\n",
       "      <td>1894.142127</td>\n",
       "      <td>1</td>\n",
       "      <td>7347</td>\n",
       "      <td>1</td>\n",
       "      <td>0</td>\n",
       "      <td>0</td>\n",
       "      <td>sh</td>\n",
       "      <td>ip-10-100-1-120</td>\n",
       "      <td>1005</td>\n",
       "      <td>security_file_open</td>\n",
       "      <td>[139778263990104, 139778263906698]</td>\n",
       "      <td>4</td>\n",
       "      <td>0</td>\n",
       "      <td>[{'name': 'pathname', 'type': 'const char*', '...</td>\n",
       "      <td>1</td>\n",
       "      <td>0</td>\n",
       "    </tr>\n",
       "  </tbody>\n",
       "</table>\n",
       "</div>"
      ],
      "text/plain": [
       "     timestamp  processId  threadId  parentProcessId  userId  mountNamespace  \\\n",
       "0  1809.495787          1      7337                0       0               1   \n",
       "1  1809.495832          1      7337                0       0               1   \n",
       "2  1809.495921          1      7337                0       0               1   \n",
       "3  1894.139651          1      7347                1       0               0   \n",
       "4  1894.142127          1      7347                1       0               0   \n",
       "\n",
       "  processName         hostName  eventId           eventName  \\\n",
       "0       close  ip-10-100-1-120      157               prctl   \n",
       "1       close  ip-10-100-1-120        3               close   \n",
       "2       close  ip-10-100-1-120     1010  sched_process_exit   \n",
       "3          sh  ip-10-100-1-120       21              access   \n",
       "4          sh  ip-10-100-1-120     1005  security_file_open   \n",
       "\n",
       "                         stackAddresses  argsNum  returnValue  \\\n",
       "0  [140662171848350, 11649800180280676]        5            0   \n",
       "1                     [140662171777451]        1            0   \n",
       "2                                    []        0            0   \n",
       "3                                    []        2            2   \n",
       "4    [139778263990104, 139778263906698]        4            0   \n",
       "\n",
       "                                                args  sus  evil  \n",
       "0  [{'name': 'option', 'type': 'int', 'value': 'P...    1     0  \n",
       "1       [{'name': 'fd', 'type': 'int', 'value': 19}]    1     0  \n",
       "2                                                 []    1     0  \n",
       "3  [{'name': 'pathname', 'type': 'const char*', '...    1     0  \n",
       "4  [{'name': 'pathname', 'type': 'const char*', '...    1     0  "
      ]
     },
     "execution_count": 60,
     "metadata": {},
     "output_type": "execute_result"
    }
   ],
   "source": [
    "train_df.head(5)"
   ]
  },
  {
   "cell_type": "code",
   "execution_count": 61,
   "id": "10b07f4b",
   "metadata": {
    "execution": {
     "iopub.execute_input": "2021-10-24T12:53:47.953849Z",
     "iopub.status.busy": "2021-10-24T12:53:47.952893Z",
     "iopub.status.idle": "2021-10-24T12:53:47.954998Z",
     "shell.execute_reply": "2021-10-24T12:53:47.955423Z"
    },
    "papermill": {
     "duration": 0.123071,
     "end_time": "2021-10-24T12:53:47.955576",
     "exception": false,
     "start_time": "2021-10-24T12:53:47.832505",
     "status": "completed"
    },
    "tags": []
   },
   "outputs": [],
   "source": [
    "train = train_df[[\"processId\", \"parentProcessId\", \"userId\", \"mountNamespace\", \"eventId\", \"argsNum\", \"returnValue\"]]\n",
    "train_labels = train_df['sus']"
   ]
  },
  {
   "cell_type": "code",
   "execution_count": 62,
   "id": "5b28b923",
   "metadata": {
    "execution": {
     "iopub.execute_input": "2021-10-24T12:53:48.165768Z",
     "iopub.status.busy": "2021-10-24T12:53:48.164967Z",
     "iopub.status.idle": "2021-10-24T12:53:48.168634Z",
     "shell.execute_reply": "2021-10-24T12:53:48.168242Z"
    },
    "papermill": {
     "duration": 0.112182,
     "end_time": "2021-10-24T12:53:48.168789",
     "exception": false,
     "start_time": "2021-10-24T12:53:48.056607",
     "status": "completed"
    },
    "tags": []
   },
   "outputs": [
    {
     "data": {
      "text/html": [
       "<div>\n",
       "<style scoped>\n",
       "    .dataframe tbody tr th:only-of-type {\n",
       "        vertical-align: middle;\n",
       "    }\n",
       "\n",
       "    .dataframe tbody tr th {\n",
       "        vertical-align: top;\n",
       "    }\n",
       "\n",
       "    .dataframe thead th {\n",
       "        text-align: right;\n",
       "    }\n",
       "</style>\n",
       "<table border=\"1\" class=\"dataframe\">\n",
       "  <thead>\n",
       "    <tr style=\"text-align: right;\">\n",
       "      <th></th>\n",
       "      <th>processId</th>\n",
       "      <th>parentProcessId</th>\n",
       "      <th>userId</th>\n",
       "      <th>mountNamespace</th>\n",
       "      <th>eventId</th>\n",
       "      <th>argsNum</th>\n",
       "      <th>returnValue</th>\n",
       "    </tr>\n",
       "  </thead>\n",
       "  <tbody>\n",
       "    <tr>\n",
       "      <th>0</th>\n",
       "      <td>1</td>\n",
       "      <td>0</td>\n",
       "      <td>0</td>\n",
       "      <td>1</td>\n",
       "      <td>157</td>\n",
       "      <td>5</td>\n",
       "      <td>0</td>\n",
       "    </tr>\n",
       "    <tr>\n",
       "      <th>1</th>\n",
       "      <td>1</td>\n",
       "      <td>0</td>\n",
       "      <td>0</td>\n",
       "      <td>1</td>\n",
       "      <td>3</td>\n",
       "      <td>1</td>\n",
       "      <td>0</td>\n",
       "    </tr>\n",
       "    <tr>\n",
       "      <th>2</th>\n",
       "      <td>1</td>\n",
       "      <td>0</td>\n",
       "      <td>0</td>\n",
       "      <td>1</td>\n",
       "      <td>1010</td>\n",
       "      <td>0</td>\n",
       "      <td>0</td>\n",
       "    </tr>\n",
       "    <tr>\n",
       "      <th>3</th>\n",
       "      <td>1</td>\n",
       "      <td>1</td>\n",
       "      <td>0</td>\n",
       "      <td>0</td>\n",
       "      <td>21</td>\n",
       "      <td>2</td>\n",
       "      <td>2</td>\n",
       "    </tr>\n",
       "    <tr>\n",
       "      <th>4</th>\n",
       "      <td>1</td>\n",
       "      <td>1</td>\n",
       "      <td>0</td>\n",
       "      <td>0</td>\n",
       "      <td>1005</td>\n",
       "      <td>4</td>\n",
       "      <td>0</td>\n",
       "    </tr>\n",
       "  </tbody>\n",
       "</table>\n",
       "</div>"
      ],
      "text/plain": [
       "   processId  parentProcessId  userId  mountNamespace  eventId  argsNum  \\\n",
       "0          1                0       0               1      157        5   \n",
       "1          1                0       0               1        3        1   \n",
       "2          1                0       0               1     1010        0   \n",
       "3          1                1       0               0       21        2   \n",
       "4          1                1       0               0     1005        4   \n",
       "\n",
       "   returnValue  \n",
       "0            0  \n",
       "1            0  \n",
       "2            0  \n",
       "3            2  \n",
       "4            0  "
      ]
     },
     "execution_count": 62,
     "metadata": {},
     "output_type": "execute_result"
    }
   ],
   "source": [
    "train.head(5)"
   ]
  },
  {
   "cell_type": "code",
   "execution_count": 63,
   "id": "0df01ddf",
   "metadata": {
    "execution": {
     "iopub.execute_input": "2021-10-24T12:53:48.376432Z",
     "iopub.status.busy": "2021-10-24T12:53:48.375665Z",
     "iopub.status.idle": "2021-10-24T12:53:48.378992Z",
     "shell.execute_reply": "2021-10-24T12:53:48.379412Z"
    },
    "papermill": {
     "duration": 0.111099,
     "end_time": "2021-10-24T12:53:48.379578",
     "exception": false,
     "start_time": "2021-10-24T12:53:48.268479",
     "status": "completed"
    },
    "tags": []
   },
   "outputs": [
    {
     "data": {
      "text/plain": [
       "0         1\n",
       "1         1\n",
       "2         1\n",
       "3         1\n",
       "4         1\n",
       "         ..\n",
       "763139    0\n",
       "763140    0\n",
       "763141    0\n",
       "763142    0\n",
       "763143    0\n",
       "Name: sus, Length: 763144, dtype: int64"
      ]
     },
     "execution_count": 63,
     "metadata": {},
     "output_type": "execute_result"
    }
   ],
   "source": [
    "train_labels"
   ]
  },
  {
   "cell_type": "code",
   "execution_count": 64,
   "id": "1508bda0",
   "metadata": {
    "execution": {
     "iopub.execute_input": "2021-10-24T12:53:48.588451Z",
     "iopub.status.busy": "2021-10-24T12:53:48.587607Z",
     "iopub.status.idle": "2021-10-24T12:53:48.589916Z",
     "shell.execute_reply": "2021-10-24T12:53:48.590292Z"
    },
    "papermill": {
     "duration": 0.109305,
     "end_time": "2021-10-24T12:53:48.590428",
     "exception": false,
     "start_time": "2021-10-24T12:53:48.481123",
     "status": "completed"
    },
    "tags": []
   },
   "outputs": [],
   "source": [
    "assert len(train_labels) == train.shape[0]"
   ]
  },
  {
   "attachments": {},
   "cell_type": "markdown",
   "id": "0dc25a92",
   "metadata": {
    "papermill": {
     "duration": 0.100971,
     "end_time": "2021-10-24T12:53:48.791760",
     "exception": false,
     "start_time": "2021-10-24T12:53:48.690789",
     "status": "completed"
    },
    "tags": []
   },
   "source": [
    "Looks like we now have a good-to-go dataset with the extra fields added. Let's create some helper functions to prepare the datasets and let's start model training."
   ]
  },
  {
   "cell_type": "code",
   "execution_count": 65,
   "id": "75068612",
   "metadata": {
    "execution": {
     "iopub.execute_input": "2021-10-24T12:53:49.008065Z",
     "iopub.status.busy": "2021-10-24T12:53:49.007282Z",
     "iopub.status.idle": "2021-10-24T12:53:49.010076Z",
     "shell.execute_reply": "2021-10-24T12:53:49.009635Z"
    },
    "papermill": {
     "duration": 0.117004,
     "end_time": "2021-10-24T12:53:49.010203",
     "exception": false,
     "start_time": "2021-10-24T12:53:48.893199",
     "status": "completed"
    },
    "tags": []
   },
   "outputs": [],
   "source": [
    "def process_args_dataframe(df: pd.DataFrame, column_name: str) -> pd.DataFrame:\n",
    "    \"\"\"\n",
    "    Processes the `args` column within the dataset\n",
    "    \"\"\"\n",
    "    \n",
    "    processed_dataframes = []\n",
    "    data = df[column_name].tolist()\n",
    "    \n",
    "    # Debug counter\n",
    "    counter = 0\n",
    "    \n",
    "    for row in data:\n",
    "        if row == '[]': # If there are no args\n",
    "            pass\n",
    "        else:\n",
    "            try:\n",
    "                ret = process_args_row(row)\n",
    "                processed_dataframes.append(ret)\n",
    "            except:\n",
    "                print(f'Error Encounter: Row {counter} - {row}')\n",
    "\n",
    "            counter+=1\n",
    "        \n",
    "    processed = pd.concat(processed_dataframes).reset_index(drop=True)\n",
    "    processed.columns = processed.columns.str.lstrip()\n",
    "    \n",
    "    df = pd.concat([df, processed], axis=1)\n",
    "    \n",
    "    return df\n",
    "\n",
    "def prepare_dataset(df: pd.DataFrame, process_args=False) -> pd.DataFrame:\n",
    "    \"\"\"\n",
    "    Prepare the dataset by completing the standard feature engineering tasks\n",
    "    \"\"\"\n",
    "    \n",
    "    df[\"processId\"] = train_df[\"processId\"].map(lambda x: 0 if x in [0, 1, 2] else 1)  # Map to OS/not OS\n",
    "    df[\"parentProcessId\"] = train_df[\"parentProcessId\"].map(lambda x: 0 if x in [0, 1, 2] else 1)  # Map to OS/not OS\n",
    "    df[\"userId\"] = train_df[\"userId\"].map(lambda x: 0 if x < 1000 else 1)  # Map to OS/not OS\n",
    "    df[\"mountNamespace\"] = train_df[\"mountNamespace\"].map(lambda x: 0 if x == 4026531840 else 1)  # Map to mount access to mnt/ (all non-OS users) /elsewhere\n",
    "    df[\"eventId\"] = train_df[\"eventId\"]  # Keep eventId values (requires knowing max value)\n",
    "    df[\"returnValue\"] = train_df[\"returnValue\"].map(lambda x: 0 if x == 0 else (1 if x > 0 else 2))  # Map to success/success with value/error\n",
    "    \n",
    "    if process_args is True:\n",
    "        df = process_args_dataframe(df, 'args')\n",
    "        \n",
    "    features = df[[\"processId\", \"parentProcessId\", \"userId\", \"mountNamespace\", \"eventId\", \"argsNum\", \"returnValue\"]]\n",
    "    labels = df['sus']\n",
    "        \n",
    "    return features, labels"
   ]
  },
  {
   "attachments": {},
   "cell_type": "markdown",
   "id": "a93f0601",
   "metadata": {
    "papermill": {
     "duration": 0.100644,
     "end_time": "2021-10-24T12:53:49.211485",
     "exception": false,
     "start_time": "2021-10-24T12:53:49.110841",
     "status": "completed"
    },
    "tags": []
   },
   "source": [
    "## Prepare the train dataset without processing `args`"
   ]
  },
  {
   "cell_type": "code",
   "execution_count": 66,
   "id": "9c778362",
   "metadata": {
    "execution": {
     "iopub.execute_input": "2021-10-24T12:53:49.417813Z",
     "iopub.status.busy": "2021-10-24T12:53:49.417013Z",
     "iopub.status.idle": "2021-10-24T12:53:51.275331Z",
     "shell.execute_reply": "2021-10-24T12:53:51.274699Z"
    },
    "papermill": {
     "duration": 1.963095,
     "end_time": "2021-10-24T12:53:51.275473",
     "exception": false,
     "start_time": "2021-10-24T12:53:49.312378",
     "status": "completed"
    },
    "tags": []
   },
   "outputs": [],
   "source": [
    "train_no_args_feats, train_no_args_labels = prepare_dataset(train_df)"
   ]
  },
  {
   "cell_type": "code",
   "execution_count": 67,
   "id": "75c31b6a",
   "metadata": {
    "execution": {
     "iopub.execute_input": "2021-10-24T12:53:51.489823Z",
     "iopub.status.busy": "2021-10-24T12:53:51.489067Z",
     "iopub.status.idle": "2021-10-24T12:53:51.492084Z",
     "shell.execute_reply": "2021-10-24T12:53:51.492536Z"
    },
    "papermill": {
     "duration": 0.114594,
     "end_time": "2021-10-24T12:53:51.492671",
     "exception": false,
     "start_time": "2021-10-24T12:53:51.378077",
     "status": "completed"
    },
    "tags": []
   },
   "outputs": [
    {
     "data": {
      "text/html": [
       "<div>\n",
       "<style scoped>\n",
       "    .dataframe tbody tr th:only-of-type {\n",
       "        vertical-align: middle;\n",
       "    }\n",
       "\n",
       "    .dataframe tbody tr th {\n",
       "        vertical-align: top;\n",
       "    }\n",
       "\n",
       "    .dataframe thead th {\n",
       "        text-align: right;\n",
       "    }\n",
       "</style>\n",
       "<table border=\"1\" class=\"dataframe\">\n",
       "  <thead>\n",
       "    <tr style=\"text-align: right;\">\n",
       "      <th></th>\n",
       "      <th>processId</th>\n",
       "      <th>parentProcessId</th>\n",
       "      <th>userId</th>\n",
       "      <th>mountNamespace</th>\n",
       "      <th>eventId</th>\n",
       "      <th>argsNum</th>\n",
       "      <th>returnValue</th>\n",
       "    </tr>\n",
       "  </thead>\n",
       "  <tbody>\n",
       "    <tr>\n",
       "      <th>0</th>\n",
       "      <td>0</td>\n",
       "      <td>0</td>\n",
       "      <td>0</td>\n",
       "      <td>1</td>\n",
       "      <td>157</td>\n",
       "      <td>5</td>\n",
       "      <td>0</td>\n",
       "    </tr>\n",
       "    <tr>\n",
       "      <th>1</th>\n",
       "      <td>0</td>\n",
       "      <td>0</td>\n",
       "      <td>0</td>\n",
       "      <td>1</td>\n",
       "      <td>3</td>\n",
       "      <td>1</td>\n",
       "      <td>0</td>\n",
       "    </tr>\n",
       "    <tr>\n",
       "      <th>2</th>\n",
       "      <td>0</td>\n",
       "      <td>0</td>\n",
       "      <td>0</td>\n",
       "      <td>1</td>\n",
       "      <td>1010</td>\n",
       "      <td>0</td>\n",
       "      <td>0</td>\n",
       "    </tr>\n",
       "    <tr>\n",
       "      <th>3</th>\n",
       "      <td>0</td>\n",
       "      <td>0</td>\n",
       "      <td>0</td>\n",
       "      <td>1</td>\n",
       "      <td>21</td>\n",
       "      <td>2</td>\n",
       "      <td>1</td>\n",
       "    </tr>\n",
       "    <tr>\n",
       "      <th>4</th>\n",
       "      <td>0</td>\n",
       "      <td>0</td>\n",
       "      <td>0</td>\n",
       "      <td>1</td>\n",
       "      <td>1005</td>\n",
       "      <td>4</td>\n",
       "      <td>0</td>\n",
       "    </tr>\n",
       "  </tbody>\n",
       "</table>\n",
       "</div>"
      ],
      "text/plain": [
       "   processId  parentProcessId  userId  mountNamespace  eventId  argsNum  \\\n",
       "0          0                0       0               1      157        5   \n",
       "1          0                0       0               1        3        1   \n",
       "2          0                0       0               1     1010        0   \n",
       "3          0                0       0               1       21        2   \n",
       "4          0                0       0               1     1005        4   \n",
       "\n",
       "   returnValue  \n",
       "0            0  \n",
       "1            0  \n",
       "2            0  \n",
       "3            1  \n",
       "4            0  "
      ]
     },
     "execution_count": 67,
     "metadata": {},
     "output_type": "execute_result"
    }
   ],
   "source": [
    "train_no_args_feats.head()"
   ]
  },
  {
   "cell_type": "code",
   "execution_count": 68,
   "id": "b3c56c5f",
   "metadata": {
    "execution": {
     "iopub.execute_input": "2021-10-24T12:53:51.701574Z",
     "iopub.status.busy": "2021-10-24T12:53:51.700847Z",
     "iopub.status.idle": "2021-10-24T12:53:51.704434Z",
     "shell.execute_reply": "2021-10-24T12:53:51.704022Z"
    },
    "papermill": {
     "duration": 0.110943,
     "end_time": "2021-10-24T12:53:51.704548",
     "exception": false,
     "start_time": "2021-10-24T12:53:51.593605",
     "status": "completed"
    },
    "tags": []
   },
   "outputs": [
    {
     "data": {
      "text/plain": [
       "0    1\n",
       "1    1\n",
       "2    1\n",
       "3    1\n",
       "4    1\n",
       "Name: sus, dtype: int64"
      ]
     },
     "execution_count": 68,
     "metadata": {},
     "output_type": "execute_result"
    }
   ],
   "source": [
    "train_no_args_labels.head()"
   ]
  },
  {
   "attachments": {},
   "cell_type": "markdown",
   "id": "75ff657a",
   "metadata": {
    "papermill": {
     "duration": 0.102081,
     "end_time": "2021-10-24T12:53:51.908653",
     "exception": false,
     "start_time": "2021-10-24T12:53:51.806572",
     "status": "completed"
    },
    "tags": []
   },
   "source": [
    "## Prepare the train dataset with processing `args`"
   ]
  },
  {
   "cell_type": "code",
   "execution_count": 69,
   "id": "7a9efa1e",
   "metadata": {
    "execution": {
     "iopub.execute_input": "2021-10-24T12:53:52.119250Z",
     "iopub.status.busy": "2021-10-24T12:53:52.118413Z",
     "iopub.status.idle": "2021-10-24T12:53:52.121518Z",
     "shell.execute_reply": "2021-10-24T12:53:52.121059Z"
    },
    "papermill": {
     "duration": 0.111059,
     "end_time": "2021-10-24T12:53:52.121630",
     "exception": false,
     "start_time": "2021-10-24T12:53:52.010571",
     "status": "completed"
    },
    "tags": []
   },
   "outputs": [],
   "source": [
    "# Uncomment to see similar output as below\n",
    "#train_with_args_feats, train_with_args_labels = prepare_dataset(train_df, process_args=True)"
   ]
  },
  {
   "attachments": {},
   "cell_type": "markdown",
   "id": "63920b6c",
   "metadata": {
    "papermill": {
     "duration": 0.10182,
     "end_time": "2021-10-24T12:53:52.326510",
     "exception": false,
     "start_time": "2021-10-24T12:53:52.224690",
     "status": "completed"
    },
    "tags": []
   },
   "source": [
    "It looks like the `args` processing fuction above does not properly account for all of the different possible fields within the `args` field and fails to process certain rows when the key `value` has a value of which is a list (as shown in the snippet below). If you want to see this output yourself, uncomment the function above. I might revisit the processing once I have trained some models but at least the above processing function get's us at least half the way there. \n",
    "```\n",
    "Error Encounter: Row 16 - [{'name': 'pathname', 'type': 'const char*', 'value': '/bin/run-parts'}, {'name': 'argv', 'type': 'const char*const*', 'value': ['run-parts', '--report', '/etc/cron.hourly']}]\n",
    "Error Encounter: Row 51 - [{'name': 'pathname', 'type': 'const char*', 'value': '/bin/run-parts'}, {'name': 'argv', 'type': 'const char*const*', 'value': ['run-parts', '--report', '/etc/cron.hourly']}]\n",
    "Error Encounter: Row 86 - [{'name': 'pathname', 'type': 'const char*', 'value': '/bin/run-parts'}, {'name': 'argv', 'type': 'const char*const*', 'value': ['run-parts', '--report', '/etc/cron.hourly']}]\n",
    "Error Encounter: Row 124 - [{'name': 'pathname', 'type': 'const char*', 'value': '/bin/run-parts'}, {'name': 'argv', 'type': 'const char*const*', 'value': ['run-parts', '--report', '/etc/cron.hourly']}]\n",
    "Error Encounter: Row 160 - [{'name': 'pathname', 'type': 'const char*', 'value': '/bin/run-parts'}, {'name': 'argv', 'type': 'const char*const*', 'value': ['run-parts', '--report', '/etc/cron.hourly']}]\n",
    "Error Encounter: Row 196 - [{'name': 'pathname', 'type': 'const char*', 'value': '/bin/run-parts'}, {'name': 'argv', 'type': 'const char*const*', 'value': ['run-parts', '--report', '/etc/cron.hourly']}]\n",
    "Error Encounter: Row 230 - [{'name': 'pathname', 'type': 'const char*', 'value': '/bin/run-parts'}, {'name': 'argv', 'type': 'const char*const*', 'value': ['run-parts', '--report', '/etc/cron.hourly']}]\n",
    "---- snip ---\n",
    "```"
   ]
  },
  {
   "attachments": {},
   "cell_type": "markdown",
   "id": "a7cf19f3",
   "metadata": {
    "papermill": {
     "duration": 0.102459,
     "end_time": "2021-10-24T12:53:52.531109",
     "exception": false,
     "start_time": "2021-10-24T12:53:52.428650",
     "status": "completed"
    },
    "tags": []
   },
   "source": [
    "# Prepare Train, Test and Validate Datasets without processing `args`\n",
    "\n",
    "As the dataset is pre-split for us, each dataset just needs to be processed using the helper functions above."
   ]
  },
  {
   "cell_type": "code",
   "execution_count": 70,
   "id": "8d8cd223",
   "metadata": {
    "execution": {
     "iopub.execute_input": "2021-10-24T12:53:52.743879Z",
     "iopub.status.busy": "2021-10-24T12:53:52.743011Z",
     "iopub.status.idle": "2021-10-24T12:53:58.724721Z",
     "shell.execute_reply": "2021-10-24T12:53:58.725892Z"
    },
    "papermill": {
     "duration": 6.092769,
     "end_time": "2021-10-24T12:53:58.726137",
     "exception": false,
     "start_time": "2021-10-24T12:53:52.633368",
     "status": "completed"
    },
    "tags": []
   },
   "outputs": [],
   "source": [
    "train_df_feats, train_df_labels = prepare_dataset(train_df)\n",
    "test_df_feats, test_df_labels = prepare_dataset(test_df)\n",
    "val_df_feats, val_df_labels = prepare_dataset(validation_df)"
   ]
  },
  {
   "attachments": {},
   "cell_type": "markdown",
   "id": "ea879231",
   "metadata": {
    "papermill": {
     "duration": 0.169277,
     "end_time": "2021-10-24T12:53:59.057707",
     "exception": false,
     "start_time": "2021-10-24T12:53:58.888430",
     "status": "completed"
    },
    "tags": []
   },
   "source": [
    "#  Let's Train some models\n",
    "\n",
    "## Helper Functions"
   ]
  },
  {
   "cell_type": "code",
   "execution_count": 71,
   "id": "64f550bd",
   "metadata": {
    "execution": {
     "iopub.execute_input": "2021-10-24T12:53:59.410241Z",
     "iopub.status.busy": "2021-10-24T12:53:59.409430Z",
     "iopub.status.idle": "2021-10-24T12:53:59.412925Z",
     "shell.execute_reply": "2021-10-24T12:53:59.413495Z"
    },
    "papermill": {
     "duration": 0.185248,
     "end_time": "2021-10-24T12:53:59.413683",
     "exception": false,
     "start_time": "2021-10-24T12:53:59.228435",
     "status": "completed"
    },
    "tags": []
   },
   "outputs": [],
   "source": [
    "def metric_printer(y_true, y_pred):\n",
    "    \n",
    "    y_true[y_true == 1] = -1\n",
    "    y_true[y_true == 0] = 1\n",
    "    \n",
    "    metric_tuple = precision_recall_fscore_support(y_true, y_pred, average=\"weighted\", pos_label = -1)\n",
    "    print(f'Precision:\\t{metric_tuple[0]}')\n",
    "    print(f'Recall:\\t\\t{metric_tuple[1]:.3f}')\n",
    "    print(f'F1-Score:\\t{metric_tuple[2]:.3f}')\n",
    "\n",
    "def output_roc_plot(y, pred):\n",
    "    fpr, tpr, thresholds = metrics.roc_curve(y, pred)\n",
    "    roc_auc = metrics.auc(fpr, tpr)\n",
    "    display = metrics.RocCurveDisplay(fpr=fpr, tpr=tpr, roc_auc=roc_auc, estimator_name='Isolation Forest')\n",
    "    display.plot()\n",
    "    plt.show()"
   ]
  },
  {
   "attachments": {},
   "cell_type": "markdown",
   "id": "f0593975",
   "metadata": {
    "papermill": {
     "duration": 0.101845,
     "end_time": "2021-10-24T12:53:59.682148",
     "exception": false,
     "start_time": "2021-10-24T12:53:59.580303",
     "status": "completed"
    },
    "tags": []
   },
   "source": [
    "## Isolation Forest"
   ]
  },
  {
   "cell_type": "code",
   "execution_count": 72,
   "id": "360a32e4",
   "metadata": {
    "execution": {
     "iopub.execute_input": "2021-10-24T12:53:59.893504Z",
     "iopub.status.busy": "2021-10-24T12:53:59.892788Z",
     "iopub.status.idle": "2021-10-24T12:54:16.089168Z",
     "shell.execute_reply": "2021-10-24T12:54:16.088309Z"
    },
    "papermill": {
     "duration": 16.304906,
     "end_time": "2021-10-24T12:54:16.089318",
     "exception": false,
     "start_time": "2021-10-24T12:53:59.784412",
     "status": "completed"
    },
    "tags": []
   },
   "outputs": [],
   "source": [
    "clf = IsolationForest(contamination=0.1, random_state=0).fit(train_df_feats)"
   ]
  },
  {
   "cell_type": "code",
   "execution_count": 73,
   "id": "2eee6405",
   "metadata": {
    "execution": {
     "iopub.execute_input": "2021-10-24T12:54:16.316975Z",
     "iopub.status.busy": "2021-10-24T12:54:16.316078Z",
     "iopub.status.idle": "2021-10-24T12:54:22.643520Z",
     "shell.execute_reply": "2021-10-24T12:54:22.644076Z"
    },
    "papermill": {
     "duration": 6.440136,
     "end_time": "2021-10-24T12:54:22.644287",
     "exception": false,
     "start_time": "2021-10-24T12:54:16.204151",
     "status": "completed"
    },
    "tags": []
   },
   "outputs": [
    {
     "name": "stdout",
     "output_type": "stream",
     "text": [
      "Precision:\t0.9923146576418195\n",
      "Recall:\t\t0.460\n",
      "F1-Score:\t0.626\n"
     ]
    }
   ],
   "source": [
    "y_pred= clf.predict(val_df_feats)\n",
    "y_probas = clf.score_samples(val_df_feats)\n",
    "metric_printer(val_df_labels, y_pred)"
   ]
  },
  {
   "cell_type": "code",
   "execution_count": 74,
   "id": "65d14166",
   "metadata": {
    "execution": {
     "iopub.execute_input": "2021-10-24T12:54:22.857734Z",
     "iopub.status.busy": "2021-10-24T12:54:22.856872Z",
     "iopub.status.idle": "2021-10-24T12:54:28.590295Z",
     "shell.execute_reply": "2021-10-24T12:54:28.591334Z"
    },
    "papermill": {
     "duration": 5.843298,
     "end_time": "2021-10-24T12:54:28.591531",
     "exception": false,
     "start_time": "2021-10-24T12:54:22.748233",
     "status": "completed"
    },
    "tags": []
   },
   "outputs": [
    {
     "name": "stdout",
     "output_type": "stream",
     "text": [
      "Precision:\t0.8951880300409012\n",
      "Recall:\t\t0.893\n",
      "F1-Score:\t0.894\n"
     ]
    }
   ],
   "source": [
    "y_pred= clf.predict(test_df_feats)\n",
    "y_probas = clf.score_samples(test_df_feats)\n",
    "metric_printer(test_df_labels, y_pred)"
   ]
  },
  {
   "attachments": {},
   "cell_type": "markdown",
   "id": "2ca9cfe9",
   "metadata": {
    "papermill": {
     "duration": 0.102061,
     "end_time": "2021-10-24T12:54:28.797244",
     "exception": false,
     "start_time": "2021-10-24T12:54:28.695183",
     "status": "completed"
    },
    "tags": []
   },
   "source": [
    "## One Class Support Vector Machine\n",
    "\n",
    "Due to the scale of this dataset, a Stohcastic Gradient Descent (SGD) version of One Class SVM is used. This is a fairly new addition to Sklearn and speeds up the training on bigger datasets by MILES."
   ]
  },
  {
   "cell_type": "code",
   "execution_count": 75,
   "id": "7c5ac56b",
   "metadata": {
    "execution": {
     "iopub.execute_input": "2021-10-24T12:54:29.010578Z",
     "iopub.status.busy": "2021-10-24T12:54:29.009642Z",
     "iopub.status.idle": "2021-10-24T12:54:29.776509Z",
     "shell.execute_reply": "2021-10-24T12:54:29.775532Z"
    },
    "papermill": {
     "duration": 0.875934,
     "end_time": "2021-10-24T12:54:29.776666",
     "exception": false,
     "start_time": "2021-10-24T12:54:28.900732",
     "status": "completed"
    },
    "tags": []
   },
   "outputs": [],
   "source": [
    "train_non_outliers = train_df_feats[train_df_labels==0]\n",
    "clf = linear_model.SGDOneClassSVM(random_state=0).fit(train_non_outliers)"
   ]
  },
  {
   "cell_type": "code",
   "execution_count": 76,
   "id": "e7b6ba34",
   "metadata": {
    "execution": {
     "iopub.execute_input": "2021-10-24T12:54:29.992559Z",
     "iopub.status.busy": "2021-10-24T12:54:29.991723Z",
     "iopub.status.idle": "2021-10-24T12:54:30.133700Z",
     "shell.execute_reply": "2021-10-24T12:54:30.133243Z"
    },
    "papermill": {
     "duration": 0.251991,
     "end_time": "2021-10-24T12:54:30.133848",
     "exception": false,
     "start_time": "2021-10-24T12:54:29.881857",
     "status": "completed"
    },
    "tags": []
   },
   "outputs": [
    {
     "name": "stdout",
     "output_type": "stream",
     "text": [
      "Precision:\t1.0\n",
      "Recall:\t\t0.177\n",
      "F1-Score:\t0.300\n"
     ]
    }
   ],
   "source": [
    "y_preds = clf.predict(val_df_feats)\n",
    "metric_printer(val_df_labels, y_preds)"
   ]
  },
  {
   "cell_type": "code",
   "execution_count": 77,
   "id": "7fb06079",
   "metadata": {
    "execution": {
     "iopub.execute_input": "2021-10-24T12:54:30.347231Z",
     "iopub.status.busy": "2021-10-24T12:54:30.346374Z",
     "iopub.status.idle": "2021-10-24T12:54:30.493010Z",
     "shell.execute_reply": "2021-10-24T12:54:30.492116Z"
    },
    "papermill": {
     "duration": 0.255795,
     "end_time": "2021-10-24T12:54:30.493170",
     "exception": false,
     "start_time": "2021-10-24T12:54:30.237375",
     "status": "completed"
    },
    "tags": []
   },
   "outputs": [
    {
     "name": "stdout",
     "output_type": "stream",
     "text": [
      "Precision:\t1.0\n",
      "Recall:\t\t0.260\n",
      "F1-Score:\t0.412\n"
     ]
    }
   ],
   "source": [
    "y_preds = clf.predict(test_df_feats)\n",
    "metric_printer(test_df_labels, y_preds)"
   ]
  },
  {
   "attachments": {},
   "cell_type": "markdown",
   "id": "40d0b822",
   "metadata": {
    "papermill": {
     "duration": 0.104916,
     "end_time": "2021-10-24T12:54:30.704707",
     "exception": false,
     "start_time": "2021-10-24T12:54:30.599791",
     "status": "completed"
    },
    "tags": []
   },
   "source": [
    "## What do these models show us?\n",
    "\n",
    "Irrespective of the actual scores outputted, it looks like the validation set is significantly different from the train and test sets. This will make it a bit wierd for model development. Typically, you want to ensure that both the test and validation datasets are drawn from the same distrubition or you will be tweaking hyper-parameters and making model choices using the validation set which have no chance of actually performing as expected on the test set.\n",
    "\n",
    "# Let's get ready to train some Deep Learning Approaches\n",
    "\n",
    "## Tensor Dataloader\n",
    "\n",
    "Before we can get to training some deep learning approaches, the first thing we need to do is get our data into a PyTorch DataLoader. The below code is not best practice but is a quick/easy way of getting the data into an PyTorch Dataloader that can be iterated over.\n",
    "\n",
    "### Stage 1: Subset the data into two dataframes - One for features and one for labels"
   ]
  },
  {
   "cell_type": "code",
   "execution_count": 78,
   "id": "1e7f8d99",
   "metadata": {
    "execution": {
     "iopub.execute_input": "2021-10-24T12:54:30.940266Z",
     "iopub.status.busy": "2021-10-24T12:54:30.938588Z",
     "iopub.status.idle": "2021-10-24T12:54:30.940959Z",
     "shell.execute_reply": "2021-10-24T12:54:30.941373Z"
    },
    "papermill": {
     "duration": 0.131437,
     "end_time": "2021-10-24T12:54:30.941522",
     "exception": false,
     "start_time": "2021-10-24T12:54:30.810085",
     "status": "completed"
    },
    "tags": []
   },
   "outputs": [],
   "source": [
    "train_data = pd.DataFrame(train_df[[\"processId\", \"parentProcessId\", \"userId\", \"mountNamespace\", \"eventId\", \"argsNum\", \"returnValue\"]])\n",
    "train_labels = pd.DataFrame(train_df[[\"sus\"]])"
   ]
  },
  {
   "attachments": {},
   "cell_type": "markdown",
   "id": "b296c954",
   "metadata": {
    "papermill": {
     "duration": 0.103207,
     "end_time": "2021-10-24T12:54:31.148455",
     "exception": false,
     "start_time": "2021-10-24T12:54:31.045248",
     "status": "completed"
    },
    "tags": []
   },
   "source": [
    "### Stage 2: Convert from Pandas Dataframe to Torch Tensor\n",
    "\n",
    "This is done by using `.values` which returns a numpy array version of the pandas dataframe and then conversion into a PyTorch Tensor.\n",
    "\n",
    "*Note: The dtype here is really important with other datasets. In this case, we have no float values so the choice of a 32bit integer for the dtype is OK. Typically, this is not the case and using a dtype of int32 would probably cause the data to be changed and precision lowered*"
   ]
  },
  {
   "cell_type": "code",
   "execution_count": 79,
   "id": "244b99a3",
   "metadata": {
    "execution": {
     "iopub.execute_input": "2021-10-24T12:54:31.368128Z",
     "iopub.status.busy": "2021-10-24T12:54:31.367427Z",
     "iopub.status.idle": "2021-10-24T12:54:31.397139Z",
     "shell.execute_reply": "2021-10-24T12:54:31.396481Z"
    },
    "papermill": {
     "duration": 0.144543,
     "end_time": "2021-10-24T12:54:31.397273",
     "exception": false,
     "start_time": "2021-10-24T12:54:31.252730",
     "status": "completed"
    },
    "tags": []
   },
   "outputs": [],
   "source": [
    "data_tensor = torch.as_tensor(train_data.values, dtype=torch.int32)\n",
    "label_tensor = torch.as_tensor(train_labels.values, dtype=torch.int32)"
   ]
  },
  {
   "attachments": {},
   "cell_type": "markdown",
   "id": "ca0b0aba",
   "metadata": {
    "papermill": {
     "duration": 0.172253,
     "end_time": "2021-10-24T12:54:31.711262",
     "exception": false,
     "start_time": "2021-10-24T12:54:31.539009",
     "status": "completed"
    },
    "tags": []
   },
   "source": [
    "### Stage 3: Combine both `data_tensor` and `label_tensor` together to make a PyTorch `TensorDataset`"
   ]
  },
  {
   "cell_type": "code",
   "execution_count": 80,
   "id": "14fb5839",
   "metadata": {
    "execution": {
     "iopub.execute_input": "2021-10-24T12:54:32.054659Z",
     "iopub.status.busy": "2021-10-24T12:54:32.053737Z",
     "iopub.status.idle": "2021-10-24T12:54:32.056088Z",
     "shell.execute_reply": "2021-10-24T12:54:32.055420Z"
    },
    "papermill": {
     "duration": 0.179311,
     "end_time": "2021-10-24T12:54:32.056259",
     "exception": false,
     "start_time": "2021-10-24T12:54:31.876948",
     "status": "completed"
    },
    "tags": []
   },
   "outputs": [],
   "source": [
    "train_dataset = TensorDataset(data_tensor, label_tensor)"
   ]
  },
  {
   "attachments": {},
   "cell_type": "markdown",
   "id": "df625ef4",
   "metadata": {
    "papermill": {
     "duration": 0.173502,
     "end_time": "2021-10-24T12:54:32.403214",
     "exception": false,
     "start_time": "2021-10-24T12:54:32.229712",
     "status": "completed"
    },
    "tags": []
   },
   "source": [
    "### Stage 4: Create a PyTorch `DataLoader` using the `TensorDataset`\n",
    "*Note: The batch size here has been chosen pretty arbitaryily.*"
   ]
  },
  {
   "cell_type": "code",
   "execution_count": 81,
   "id": "d7cb3ad5",
   "metadata": {
    "execution": {
     "iopub.execute_input": "2021-10-24T12:54:32.703237Z",
     "iopub.status.busy": "2021-10-24T12:54:32.702167Z",
     "iopub.status.idle": "2021-10-24T12:54:32.704983Z",
     "shell.execute_reply": "2021-10-24T12:54:32.704560Z"
    },
    "papermill": {
     "duration": 0.129592,
     "end_time": "2021-10-24T12:54:32.705107",
     "exception": false,
     "start_time": "2021-10-24T12:54:32.575515",
     "status": "completed"
    },
    "tags": []
   },
   "outputs": [],
   "source": [
    "train_data_ldr = DataLoader(train_dataset, batch_size=64, shuffle=True)"
   ]
  },
  {
   "attachments": {},
   "cell_type": "markdown",
   "id": "a3884127",
   "metadata": {
    "papermill": {
     "duration": 0.104916,
     "end_time": "2021-10-24T12:54:32.913835",
     "exception": false,
     "start_time": "2021-10-24T12:54:32.808919",
     "status": "completed"
    },
    "tags": []
   },
   "source": [
    "### Stage 5: Make sure the `DataLoader` works properly"
   ]
  },
  {
   "cell_type": "code",
   "execution_count": 82,
   "id": "544991b2",
   "metadata": {
    "execution": {
     "iopub.execute_input": "2021-10-24T12:54:33.131463Z",
     "iopub.status.busy": "2021-10-24T12:54:33.130831Z",
     "iopub.status.idle": "2021-10-24T12:54:33.231896Z",
     "shell.execute_reply": "2021-10-24T12:54:33.232525Z"
    },
    "papermill": {
     "duration": 0.213295,
     "end_time": "2021-10-24T12:54:33.232753",
     "exception": false,
     "start_time": "2021-10-24T12:54:33.019458",
     "status": "completed"
    },
    "tags": []
   },
   "outputs": [
    {
     "name": "stdout",
     "output_type": "stream",
     "text": [
      "Index: 0 \n",
      " Data Tensor: tensor([[   0,    0,    0,    1, 1005,    4,    0],\n",
      "        [   0,    0,    0,    1,  257,    4,    1],\n",
      "        [   0,    0,    0,    1,    5,    2,    0],\n",
      "        [   0,    0,    0,    1, 1005,    4,    0],\n",
      "        [   0,    0,    0,    1,  257,    4,    1],\n",
      "        [   0,    0,    0,    1,  257,    4,    1],\n",
      "        [   0,    0,    0,    1, 1005,    4,    0],\n",
      "        [   0,    0,    0,    1,    3,    1,    0],\n",
      "        [   0,    0,    0,    1,  257,    4,    1],\n",
      "        [   0,    0,    0,    1,    5,    2,    0],\n",
      "        [   0,    0,    0,    1,    4,    2,    0],\n",
      "        [   0,    0,    0,    1,    3,    1,    0],\n",
      "        [   0,    0,    0,    1,    5,    2,    0],\n",
      "        [   0,    0,    0,    1,  257,    4,    1],\n",
      "        [   0,    0,    0,    1,    5,    2,    0],\n",
      "        [   0,    0,    0,    1,    5,    2,    0],\n",
      "        [   0,    0,    0,    1, 1005,    4,    0],\n",
      "        [   0,    0,    0,    1, 1005,    4,    0],\n",
      "        [   0,    0,    0,    1, 1005,    4,    0],\n",
      "        [   0,    0,    0,    1,    5,    2,    0],\n",
      "        [   0,    0,    0,    1,    3,    1,    0],\n",
      "        [   0,    0,    0,    1,    3,    1,    0],\n",
      "        [   0,    0,    0,    1,  257,    4,    1],\n",
      "        [   0,    0,    0,    1,  257,    4,    1],\n",
      "        [   0,    0,    0,    1,    5,    2,    0],\n",
      "        [   0,    0,    0,    1, 1005,    4,    0],\n",
      "        [   0,    0,    0,    1,  257,    4,    1],\n",
      "        [   0,    0,    0,    1, 1005,    4,    0],\n",
      "        [   0,    0,    0,    1,    4,    2,    0],\n",
      "        [   0,    0,    0,    1,  257,    4,    1],\n",
      "        [   0,    0,    0,    1,  257,    4,    1],\n",
      "        [   0,    0,    0,    1,  257,    4,    1],\n",
      "        [   0,    0,    0,    1,  257,    4,    1],\n",
      "        [   0,    0,    0,    1,  257,    4,    1],\n",
      "        [   0,    0,    0,    1,  257,    4,    1],\n",
      "        [   0,    0,    0,    1,    3,    1,    0],\n",
      "        [   0,    0,    0,    1,    5,    2,    0],\n",
      "        [   0,    0,    0,    1, 1003,    1,    0],\n",
      "        [   0,    0,    0,    1,    5,    2,    0],\n",
      "        [   0,    0,    0,    1, 1005,    4,    0],\n",
      "        [   0,    0,    0,    1, 1005,    4,    0],\n",
      "        [   0,    0,    0,    1,    5,    2,    0],\n",
      "        [   0,    0,    0,    1, 1005,    4,    0],\n",
      "        [   0,    0,    0,    1,  257,    4,    1],\n",
      "        [   0,    0,    0,    1, 1005,    4,    0],\n",
      "        [   0,    0,    0,    1, 1005,    4,    0],\n",
      "        [   0,    0,    0,    1, 1005,    4,    0],\n",
      "        [   0,    0,    0,    1, 1004,    3,    0],\n",
      "        [   0,    0,    0,    1,    3,    1,    0],\n",
      "        [   0,    0,    0,    1,    5,    2,    0],\n",
      "        [   0,    0,    0,    1,  257,    4,    1],\n",
      "        [   0,    0,    0,    1,    3,    1,    0],\n",
      "        [   0,    0,    0,    1,    3,    1,    0],\n",
      "        [   0,    0,    0,    1,  257,    4,    1],\n",
      "        [   0,    0,    0,    1,  257,    4,    1],\n",
      "        [   0,    0,    0,    1,    3,    1,    0],\n",
      "        [   0,    0,    0,    1,   42,    3,    1],\n",
      "        [   0,    0,    0,    1,    5,    2,    0],\n",
      "        [   0,    0,    0,    1,    5,    2,    0],\n",
      "        [   0,    0,    0,    1,    5,    2,    0],\n",
      "        [   0,    0,    0,    1,    3,    1,    0],\n",
      "        [   0,    0,    0,    1,  257,    4,    1],\n",
      "        [   0,    0,    0,    1,  257,    4,    1],\n",
      "        [   0,    0,    0,    1, 1005,    4,    0]], dtype=torch.int32) \n",
      " Label Tensor: tensor([[0],\n",
      "        [0],\n",
      "        [0],\n",
      "        [0],\n",
      "        [0],\n",
      "        [0],\n",
      "        [0],\n",
      "        [0],\n",
      "        [0],\n",
      "        [0],\n",
      "        [0],\n",
      "        [0],\n",
      "        [0],\n",
      "        [0],\n",
      "        [0],\n",
      "        [0],\n",
      "        [0],\n",
      "        [0],\n",
      "        [0],\n",
      "        [0],\n",
      "        [0],\n",
      "        [0],\n",
      "        [0],\n",
      "        [0],\n",
      "        [0],\n",
      "        [0],\n",
      "        [0],\n",
      "        [0],\n",
      "        [0],\n",
      "        [0],\n",
      "        [0],\n",
      "        [0],\n",
      "        [0],\n",
      "        [0],\n",
      "        [0],\n",
      "        [0],\n",
      "        [0],\n",
      "        [0],\n",
      "        [0],\n",
      "        [0],\n",
      "        [0],\n",
      "        [0],\n",
      "        [0],\n",
      "        [0],\n",
      "        [0],\n",
      "        [0],\n",
      "        [0],\n",
      "        [0],\n",
      "        [0],\n",
      "        [0],\n",
      "        [0],\n",
      "        [0],\n",
      "        [0],\n",
      "        [0],\n",
      "        [0],\n",
      "        [0],\n",
      "        [0],\n",
      "        [0],\n",
      "        [0],\n",
      "        [0],\n",
      "        [0],\n",
      "        [0],\n",
      "        [0],\n",
      "        [0]], dtype=torch.int32)\n"
     ]
    }
   ],
   "source": [
    "for i, (x, y) in enumerate(train_data_ldr):\n",
    "    if i == 1:\n",
    "        break\n",
    "    else:\n",
    "        print(f'Index: {i} \\n Data Tensor: {x} \\n Label Tensor: {y}')"
   ]
  },
  {
   "attachments": {},
   "cell_type": "markdown",
   "id": "2718275d",
   "metadata": {
    "papermill": {
     "duration": 0.107473,
     "end_time": "2021-10-24T12:54:33.448821",
     "exception": false,
     "start_time": "2021-10-24T12:54:33.341348",
     "status": "completed"
    },
    "tags": []
   },
   "source": [
    "### Stage 6: Pulling it all together into a helper function"
   ]
  },
  {
   "cell_type": "code",
   "execution_count": 47,
   "id": "a8bcf288",
   "metadata": {
    "execution": {
     "iopub.execute_input": "2021-10-24T12:54:33.698516Z",
     "iopub.status.busy": "2021-10-24T12:54:33.697637Z",
     "iopub.status.idle": "2021-10-24T12:54:33.699961Z",
     "shell.execute_reply": "2021-10-24T12:54:33.700334Z"
    },
    "papermill": {
     "duration": 0.114452,
     "end_time": "2021-10-24T12:54:33.700470",
     "exception": false,
     "start_time": "2021-10-24T12:54:33.586018",
     "status": "completed"
    },
    "tags": []
   },
   "outputs": [],
   "source": [
    "def prepare_tensor_dataset(df: pd.DataFrame, feature_cols: List, label_col: str) -> Tuple[TensorDataset, DataLoader]:\n",
    "    \"\"\"\n",
    "    Converts an inpurt Pandas DataFrame to a Tensor Dataset and Data Loader.\n",
    "    \"\"\"\n",
    "    if all([col in df.columns for item in feature_cols]) and label_col in df.columns:\n",
    "        \n",
    "        labels = pd.DataFrame(df[[label_col]])\n",
    "        features = pd.DataFrame(df[feature_cols])\n",
    "\n",
    "        data_tensor = torch.as_tensor(features.values, dtype=torch.int32)\n",
    "        label_tensor = torch.as_tensor(train_labels.values, dtype=torch.int32)\n",
    "        \n",
    "        tensor_dataset = TensorDataset(data_tensor, label_tensor)\n",
    "        \n",
    "        data_ldr = train_data_ldr = DataLoader(train_dataset, batch_size=64, shuffle=True)\n",
    "        \n",
    "        return tensor_dataset, data_ldr\n",
    "    else:\n",
    "        raise ValueError('Unable to find all columns')\n",
    "    "
   ]
  },
  {
   "cell_type": "code",
   "execution_count": 48,
   "id": "5ca69986",
   "metadata": {
    "execution": {
     "iopub.execute_input": "2021-10-24T12:54:33.946006Z",
     "iopub.status.busy": "2021-10-24T12:54:33.944967Z",
     "iopub.status.idle": "2021-10-24T12:54:33.961838Z",
     "shell.execute_reply": "2021-10-24T12:54:33.961337Z"
    },
    "papermill": {
     "duration": 0.152731,
     "end_time": "2021-10-24T12:54:33.961988",
     "exception": false,
     "start_time": "2021-10-24T12:54:33.809257",
     "status": "completed"
    },
    "tags": []
   },
   "outputs": [
    {
     "ename": "NameError",
     "evalue": "name 'train_labels' is not defined",
     "output_type": "error",
     "traceback": [
      "\u001b[1;31m---------------------------------------------------------------------------\u001b[0m",
      "\u001b[1;31mNameError\u001b[0m                                 Traceback (most recent call last)",
      "\u001b[1;32m<ipython-input-48-ba8451842c6b>\u001b[0m in \u001b[0;36m<module>\u001b[1;34m\u001b[0m\n\u001b[0;32m      2\u001b[0m \u001b[0mfeat_cols\u001b[0m \u001b[1;33m=\u001b[0m \u001b[1;33m[\u001b[0m\u001b[1;34m\"processId\"\u001b[0m\u001b[1;33m,\u001b[0m \u001b[1;34m\"parentProcessId\"\u001b[0m\u001b[1;33m,\u001b[0m \u001b[1;34m\"userId\"\u001b[0m\u001b[1;33m,\u001b[0m \u001b[1;34m\"mountNamespace\"\u001b[0m\u001b[1;33m,\u001b[0m \u001b[1;34m\"eventId\"\u001b[0m\u001b[1;33m,\u001b[0m \u001b[1;34m\"argsNum\"\u001b[0m\u001b[1;33m,\u001b[0m \u001b[1;34m\"returnValue\"\u001b[0m\u001b[1;33m]\u001b[0m\u001b[1;33m\u001b[0m\u001b[1;33m\u001b[0m\u001b[0m\n\u001b[0;32m      3\u001b[0m \u001b[1;33m\u001b[0m\u001b[0m\n\u001b[1;32m----> 4\u001b[1;33m \u001b[0mtrain_tensor_dataset\u001b[0m\u001b[1;33m,\u001b[0m \u001b[0mtrain_data_ldr\u001b[0m \u001b[1;33m=\u001b[0m \u001b[0mprepare_tensor_dataset\u001b[0m\u001b[1;33m(\u001b[0m\u001b[0mtrain_df\u001b[0m\u001b[1;33m,\u001b[0m \u001b[0mfeat_cols\u001b[0m\u001b[1;33m,\u001b[0m \u001b[0mlabel_col\u001b[0m\u001b[1;33m)\u001b[0m\u001b[1;33m\u001b[0m\u001b[1;33m\u001b[0m\u001b[0m\n\u001b[0m",
      "\u001b[1;32m<ipython-input-47-92c9c22747d2>\u001b[0m in \u001b[0;36mprepare_tensor_dataset\u001b[1;34m(df, feature_cols, label_col)\u001b[0m\n\u001b[0;32m      9\u001b[0m \u001b[1;33m\u001b[0m\u001b[0m\n\u001b[0;32m     10\u001b[0m         \u001b[0mdata_tensor\u001b[0m \u001b[1;33m=\u001b[0m \u001b[0mtorch\u001b[0m\u001b[1;33m.\u001b[0m\u001b[0mas_tensor\u001b[0m\u001b[1;33m(\u001b[0m\u001b[0mfeatures\u001b[0m\u001b[1;33m.\u001b[0m\u001b[0mvalues\u001b[0m\u001b[1;33m,\u001b[0m \u001b[0mdtype\u001b[0m\u001b[1;33m=\u001b[0m\u001b[0mtorch\u001b[0m\u001b[1;33m.\u001b[0m\u001b[0mint32\u001b[0m\u001b[1;33m)\u001b[0m\u001b[1;33m\u001b[0m\u001b[1;33m\u001b[0m\u001b[0m\n\u001b[1;32m---> 11\u001b[1;33m         \u001b[0mlabel_tensor\u001b[0m \u001b[1;33m=\u001b[0m \u001b[0mtorch\u001b[0m\u001b[1;33m.\u001b[0m\u001b[0mas_tensor\u001b[0m\u001b[1;33m(\u001b[0m\u001b[0mtrain_labels\u001b[0m\u001b[1;33m.\u001b[0m\u001b[0mvalues\u001b[0m\u001b[1;33m,\u001b[0m \u001b[0mdtype\u001b[0m\u001b[1;33m=\u001b[0m\u001b[0mtorch\u001b[0m\u001b[1;33m.\u001b[0m\u001b[0mint32\u001b[0m\u001b[1;33m)\u001b[0m\u001b[1;33m\u001b[0m\u001b[1;33m\u001b[0m\u001b[0m\n\u001b[0m\u001b[0;32m     12\u001b[0m \u001b[1;33m\u001b[0m\u001b[0m\n\u001b[0;32m     13\u001b[0m         \u001b[0mtensor_dataset\u001b[0m \u001b[1;33m=\u001b[0m \u001b[0mTensorDataset\u001b[0m\u001b[1;33m(\u001b[0m\u001b[0mdata_tensor\u001b[0m\u001b[1;33m,\u001b[0m \u001b[0mlabel_tensor\u001b[0m\u001b[1;33m)\u001b[0m\u001b[1;33m\u001b[0m\u001b[1;33m\u001b[0m\u001b[0m\n",
      "\u001b[1;31mNameError\u001b[0m: name 'train_labels' is not defined"
     ]
    }
   ],
   "source": [
    "label_col = 'sus'\n",
    "feat_cols = [\"processId\", \"parentProcessId\", \"userId\", \"mountNamespace\", \"eventId\", \"argsNum\", \"returnValue\"]\n",
    "\n",
    "train_tensor_dataset, train_data_ldr = prepare_tensor_dataset(train_df, feat_cols, label_col)"
   ]
  }
 ],
 "metadata": {
  "kernelspec": {
   "display_name": "Python 3",
   "language": "python",
   "name": "python3"
  },
  "language_info": {
   "codemirror_mode": {
    "name": "ipython",
    "version": 3
   },
   "file_extension": ".py",
   "mimetype": "text/x-python",
   "name": "python",
   "nbconvert_exporter": "python",
   "pygments_lexer": "ipython3",
   "version": "3.7.9"
  },
  "papermill": {
   "default_parameters": {},
   "duration": 107.902983,
   "end_time": "2021-10-24T12:54:35.496187",
   "environment_variables": {},
   "exception": null,
   "input_path": "__notebook__.ipynb",
   "output_path": "__notebook__.ipynb",
   "parameters": {},
   "start_time": "2021-10-24T12:52:47.593204",
   "version": "2.3.3"
  }
 },
 "nbformat": 4,
 "nbformat_minor": 5
}
